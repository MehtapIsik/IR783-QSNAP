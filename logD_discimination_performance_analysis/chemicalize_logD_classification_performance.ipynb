{
 "cells": [
  {
   "cell_type": "markdown",
   "metadata": {},
   "source": [
    "# Chemicalize logD INP classification performance analysis\n",
    "Dataset: 60 experimentally tested drugs for IR783 indocyanine nanoparticle(INP) formation.  \n",
    "LogD values were calculated by Chemicalize (https://chemicalize.com/)."
   ]
  },
  {
   "cell_type": "code",
   "execution_count": 1,
   "metadata": {
    "collapsed": true
   },
   "outputs": [],
   "source": [
    "import pandas as pd\n",
    "import numpy as np\n",
    "import os\n",
    "import re\n",
    "import matplotlib.pyplot as plt\n",
    "%matplotlib inline"
   ]
  },
  {
   "cell_type": "code",
   "execution_count": 2,
   "metadata": {
    "collapsed": true
   },
   "outputs": [],
   "source": [
    "from __future__ import print_function\n",
    "from __future__ import division"
   ]
  },
  {
   "cell_type": "code",
   "execution_count": 3,
   "metadata": {
    "collapsed": false
   },
   "outputs": [
    {
     "name": "stdout",
     "output_type": "stream",
     "text": [
      "60\n",
      "['ABT737.logd.csv', 'AZD-4547.logd.csv', 'Apitolisib.logd.csv', 'Avagacestat.logd.csv', 'Avasimibe.logd.csv']\n"
     ]
    }
   ],
   "source": [
    "# Creating dataframe for the list of molecules\n",
    "path = \"./\"\n",
    "filename=\"chemicalize_logD_file_list.txt\"\n",
    "file = open(os.path.join(path, filename), \"r\")\n",
    "\n",
    "logD_filename_list = []\n",
    "for line in file:\n",
    "    logD_filename_list.append(line.split('\\n')[0])\n",
    "\n",
    "print(len(logD_filename_list))\n",
    "print(logD_filename_list[:5])"
   ]
  },
  {
   "cell_type": "code",
   "execution_count": 4,
   "metadata": {
    "collapsed": false
   },
   "outputs": [
    {
     "name": "stdout",
     "output_type": "stream",
     "text": [
      "60\n"
     ]
    },
    {
     "data": {
      "text/html": [
       "<div>\n",
       "<table border=\"1\" class=\"dataframe\">\n",
       "  <thead>\n",
       "    <tr style=\"text-align: right;\">\n",
       "      <th></th>\n",
       "      <th>File Name</th>\n",
       "      <th>NAME</th>\n",
       "      <th>pH=4.5</th>\n",
       "      <th>pH=7.4</th>\n",
       "      <th>pH=8.0</th>\n",
       "      <th>pH=9.0</th>\n",
       "    </tr>\n",
       "  </thead>\n",
       "  <tbody>\n",
       "    <tr>\n",
       "      <th>0</th>\n",
       "      <td>ABT737.logd.csv</td>\n",
       "      <td>ABT737</td>\n",
       "      <td>None</td>\n",
       "      <td>None</td>\n",
       "      <td>None</td>\n",
       "      <td>None</td>\n",
       "    </tr>\n",
       "    <tr>\n",
       "      <th>1</th>\n",
       "      <td>AZD-4547.logd.csv</td>\n",
       "      <td>AZD-4547</td>\n",
       "      <td>None</td>\n",
       "      <td>None</td>\n",
       "      <td>None</td>\n",
       "      <td>None</td>\n",
       "    </tr>\n",
       "    <tr>\n",
       "      <th>2</th>\n",
       "      <td>Apitolisib.logd.csv</td>\n",
       "      <td>Apitolisib</td>\n",
       "      <td>None</td>\n",
       "      <td>None</td>\n",
       "      <td>None</td>\n",
       "      <td>None</td>\n",
       "    </tr>\n",
       "    <tr>\n",
       "      <th>3</th>\n",
       "      <td>Avagacestat.logd.csv</td>\n",
       "      <td>Avagacestat</td>\n",
       "      <td>None</td>\n",
       "      <td>None</td>\n",
       "      <td>None</td>\n",
       "      <td>None</td>\n",
       "    </tr>\n",
       "    <tr>\n",
       "      <th>4</th>\n",
       "      <td>Avasimibe.logd.csv</td>\n",
       "      <td>Avasimibe</td>\n",
       "      <td>None</td>\n",
       "      <td>None</td>\n",
       "      <td>None</td>\n",
       "      <td>None</td>\n",
       "    </tr>\n",
       "  </tbody>\n",
       "</table>\n",
       "</div>"
      ],
      "text/plain": [
       "              File Name         NAME pH=4.5 pH=7.4 pH=8.0 pH=9.0\n",
       "0       ABT737.logd.csv       ABT737   None   None   None   None\n",
       "1     AZD-4547.logd.csv     AZD-4547   None   None   None   None\n",
       "2   Apitolisib.logd.csv   Apitolisib   None   None   None   None\n",
       "3  Avagacestat.logd.csv  Avagacestat   None   None   None   None\n",
       "4    Avasimibe.logd.csv    Avasimibe   None   None   None   None"
      ]
     },
     "execution_count": 4,
     "metadata": {},
     "output_type": "execute_result"
    }
   ],
   "source": [
    "df_exp60_logD = pd.DataFrame(logD_filename_list)\n",
    "df_exp60_logD.columns= [\"File Name\"]\n",
    "print(df_exp60_logD.size)\n",
    "\n",
    "df_exp60_logD[\"NAME\"] = None\n",
    "df_exp60_logD[\"pH=4.5\"] = None\n",
    "df_exp60_logD[\"pH=7.4\"] = None\n",
    "df_exp60_logD[\"pH=8.0\"] = None\n",
    "df_exp60_logD[\"pH=9.0\"] = None\n",
    "\n",
    "for i, row in enumerate(df_exp60_logD.iterrows()):\n",
    "    df_exp60_logD.ix[i,\"NAME\"] = re.split(\"[.]\", df_exp60_logD.ix[i,\"File Name\"])[0]\n",
    "    \n",
    "df_exp60_logD.head()"
   ]
  },
  {
   "cell_type": "code",
   "execution_count": 5,
   "metadata": {
    "collapsed": false
   },
   "outputs": [
    {
     "data": {
      "text/html": [
       "<div>\n",
       "<table border=\"1\" class=\"dataframe\">\n",
       "  <thead>\n",
       "    <tr style=\"text-align: right;\">\n",
       "      <th></th>\n",
       "      <th>File Name</th>\n",
       "      <th>NAME</th>\n",
       "      <th>pH=4.5</th>\n",
       "      <th>pH=7.4</th>\n",
       "      <th>pH=8.0</th>\n",
       "      <th>pH=9.0</th>\n",
       "    </tr>\n",
       "  </thead>\n",
       "  <tbody>\n",
       "    <tr>\n",
       "      <th>0</th>\n",
       "      <td>ABT737.logd.csv</td>\n",
       "      <td>ABT737</td>\n",
       "      <td>3.85</td>\n",
       "      <td>6.43</td>\n",
       "      <td>6.93</td>\n",
       "      <td>7.48</td>\n",
       "    </tr>\n",
       "    <tr>\n",
       "      <th>1</th>\n",
       "      <td>AZD-4547.logd.csv</td>\n",
       "      <td>AZD-4547</td>\n",
       "      <td>1.13</td>\n",
       "      <td>2.73</td>\n",
       "      <td>3.29</td>\n",
       "      <td>4.04</td>\n",
       "    </tr>\n",
       "    <tr>\n",
       "      <th>2</th>\n",
       "      <td>Apitolisib.logd.csv</td>\n",
       "      <td>Apitolisib</td>\n",
       "      <td>-0.73</td>\n",
       "      <td>1.43</td>\n",
       "      <td>1.50</td>\n",
       "      <td>1.52</td>\n",
       "    </tr>\n",
       "    <tr>\n",
       "      <th>3</th>\n",
       "      <td>Avagacestat.logd.csv</td>\n",
       "      <td>Avagacestat</td>\n",
       "      <td>3.96</td>\n",
       "      <td>3.96</td>\n",
       "      <td>3.96</td>\n",
       "      <td>3.96</td>\n",
       "    </tr>\n",
       "    <tr>\n",
       "      <th>4</th>\n",
       "      <td>Avasimibe.logd.csv</td>\n",
       "      <td>Avasimibe</td>\n",
       "      <td>9.03</td>\n",
       "      <td>8.68</td>\n",
       "      <td>8.26</td>\n",
       "      <td>7.33</td>\n",
       "    </tr>\n",
       "  </tbody>\n",
       "</table>\n",
       "</div>"
      ],
      "text/plain": [
       "              File Name         NAME pH=4.5 pH=7.4 pH=8.0 pH=9.0\n",
       "0       ABT737.logd.csv       ABT737   3.85   6.43   6.93   7.48\n",
       "1     AZD-4547.logd.csv     AZD-4547   1.13   2.73   3.29   4.04\n",
       "2   Apitolisib.logd.csv   Apitolisib  -0.73   1.43   1.50   1.52\n",
       "3  Avagacestat.logd.csv  Avagacestat   3.96   3.96   3.96   3.96\n",
       "4    Avasimibe.logd.csv    Avasimibe   9.03   8.68   8.26   7.33"
      ]
     },
     "execution_count": 5,
     "metadata": {},
     "output_type": "execute_result"
    }
   ],
   "source": [
    "path = \"./chemicalize_logD_data_60_mol/\"\n",
    "\n",
    "for i, logD_filename in enumerate(logD_filename_list):\n",
    "    \n",
    "    # read each logD file to a list\n",
    "    filename=logD_filename\n",
    "    file = open(os.path.join(path, filename), \"r\")\n",
    "    \n",
    "    # write components of pH, logD list to a dictionary\n",
    "    pH_logD_dict = {}\n",
    "    for line in file:\n",
    "        pH_logD_dict[line.split('\\n')[0].split(\",\")[0]]=line.split('\\n')[0].split(\",\")[1]\n",
    "    \n",
    "    # write logD of relevant pH to dataframe df_exp52_logD \n",
    "    df_exp60_logD.ix[i, \"pH=4.5\"] = pH_logD_dict[\"4.5\"]\n",
    "    df_exp60_logD.ix[i, \"pH=7.4\"] = pH_logD_dict[\"7.4\"]\n",
    "    df_exp60_logD.ix[i, \"pH=8.0\"] = pH_logD_dict[\"8.0\"]\n",
    "    df_exp60_logD.ix[i, \"pH=9.0\"] = pH_logD_dict[\"9.0\"]\n",
    "    \n",
    "df_exp60_logD.head()"
   ]
  },
  {
   "cell_type": "markdown",
   "metadata": {},
   "source": [
    "### Import  and match with experimental data of INP formation\n",
    "From Manuscript Supplementary Table II. + 8 new molecules."
   ]
  },
  {
   "cell_type": "code",
   "execution_count": 6,
   "metadata": {
    "collapsed": false
   },
   "outputs": [
    {
     "name": "stdout",
     "output_type": "stream",
     "text": [
      "600\n",
      "(60, 10)\n"
     ]
    },
    {
     "data": {
      "text/html": [
       "<div>\n",
       "<table border=\"1\" class=\"dataframe\">\n",
       "  <thead>\n",
       "    <tr style=\"text-align: right;\">\n",
       "      <th></th>\n",
       "      <th>File Name</th>\n",
       "      <th>NAME</th>\n",
       "      <th>pH=4.5</th>\n",
       "      <th>pH=7.4</th>\n",
       "      <th>pH=8.0</th>\n",
       "      <th>pH=9.0</th>\n",
       "      <th>SpMAX4_Bh(s)</th>\n",
       "      <th>ALOGP2</th>\n",
       "      <th>Forms</th>\n",
       "      <th>Group</th>\n",
       "    </tr>\n",
       "  </thead>\n",
       "  <tbody>\n",
       "    <tr>\n",
       "      <th>0</th>\n",
       "      <td>ABT737.logd.csv</td>\n",
       "      <td>ABT737</td>\n",
       "      <td>3.85</td>\n",
       "      <td>6.43</td>\n",
       "      <td>6.93</td>\n",
       "      <td>7.48</td>\n",
       "      <td>7.000</td>\n",
       "      <td>67.200</td>\n",
       "      <td>Yes</td>\n",
       "      <td>Validation</td>\n",
       "    </tr>\n",
       "    <tr>\n",
       "      <th>1</th>\n",
       "      <td>AZD-4547.logd.csv</td>\n",
       "      <td>AZD-4547</td>\n",
       "      <td>1.13</td>\n",
       "      <td>2.73</td>\n",
       "      <td>3.29</td>\n",
       "      <td>4.04</td>\n",
       "      <td>4.720</td>\n",
       "      <td>17.700</td>\n",
       "      <td>No</td>\n",
       "      <td>Validation</td>\n",
       "    </tr>\n",
       "    <tr>\n",
       "      <th>2</th>\n",
       "      <td>Apitolisib.logd.csv</td>\n",
       "      <td>Apitolisib</td>\n",
       "      <td>-0.73</td>\n",
       "      <td>1.43</td>\n",
       "      <td>1.50</td>\n",
       "      <td>1.52</td>\n",
       "      <td>5.010</td>\n",
       "      <td>1.800</td>\n",
       "      <td>No</td>\n",
       "      <td>Validation</td>\n",
       "    </tr>\n",
       "    <tr>\n",
       "      <th>3</th>\n",
       "      <td>Avagacestat.logd.csv</td>\n",
       "      <td>Avagacestat</td>\n",
       "      <td>3.96</td>\n",
       "      <td>3.96</td>\n",
       "      <td>3.96</td>\n",
       "      <td>3.96</td>\n",
       "      <td>8.000</td>\n",
       "      <td>16.000</td>\n",
       "      <td>Yes</td>\n",
       "      <td>Validation</td>\n",
       "    </tr>\n",
       "    <tr>\n",
       "      <th>4</th>\n",
       "      <td>Avasimibe.logd.csv</td>\n",
       "      <td>Avasimibe</td>\n",
       "      <td>9.03</td>\n",
       "      <td>8.68</td>\n",
       "      <td>8.26</td>\n",
       "      <td>7.33</td>\n",
       "      <td>4.786</td>\n",
       "      <td>67.695</td>\n",
       "      <td>Yes</td>\n",
       "      <td>Validation</td>\n",
       "    </tr>\n",
       "  </tbody>\n",
       "</table>\n",
       "</div>"
      ],
      "text/plain": [
       "              File Name         NAME pH=4.5 pH=7.4 pH=8.0 pH=9.0  \\\n",
       "0       ABT737.logd.csv       ABT737   3.85   6.43   6.93   7.48   \n",
       "1     AZD-4547.logd.csv     AZD-4547   1.13   2.73   3.29   4.04   \n",
       "2   Apitolisib.logd.csv   Apitolisib  -0.73   1.43   1.50   1.52   \n",
       "3  Avagacestat.logd.csv  Avagacestat   3.96   3.96   3.96   3.96   \n",
       "4    Avasimibe.logd.csv    Avasimibe   9.03   8.68   8.26   7.33   \n",
       "\n",
       "   SpMAX4_Bh(s)  ALOGP2 Forms       Group  \n",
       "0         7.000  67.200   Yes  Validation  \n",
       "1         4.720  17.700    No  Validation  \n",
       "2         5.010   1.800    No  Validation  \n",
       "3         8.000  16.000   Yes  Validation  \n",
       "4         4.786  67.695   Yes  Validation  "
      ]
     },
     "execution_count": 6,
     "metadata": {},
     "output_type": "execute_result"
    }
   ],
   "source": [
    "# read SpMax data from csv data\n",
    "exp_data_path = \"./\"\n",
    "filename=\"experimentally_tested_INP_formation_data_from_manuscript_60_mol.csv\"\n",
    "exp_data_file = os.path.join(exp_data_path, filename)\n",
    "\n",
    "# create a dataframe for spmax data\n",
    "df_exp_data = pd.read_csv(exp_data_file, sep=\",\", header=0)\n",
    "    \n",
    "# Merge LogD and SpMax DataFrames\n",
    "df_exp60_logD= pd.merge(df_exp60_logD, df_exp_data, on=[\"NAME\"])\n",
    "print(df_exp60_logD.size)\n",
    "print(df_exp60_logD.shape)\n",
    "df_exp60_logD.head()"
   ]
  },
  {
   "cell_type": "markdown",
   "metadata": {},
   "source": [
    "### 1. LogD vs LogD rank"
   ]
  },
  {
   "cell_type": "code",
   "execution_count": 7,
   "metadata": {
    "collapsed": false
   },
   "outputs": [
    {
     "data": {
      "text/plain": [
       "File Name        object\n",
       "NAME             object\n",
       "pH=4.5          float64\n",
       "pH=7.4          float64\n",
       "pH=8.0          float64\n",
       "pH=9.0          float64\n",
       "SpMAX4_Bh(s)    float64\n",
       "ALOGP2          float64\n",
       "Forms            object\n",
       "Group            object\n",
       "dtype: object"
      ]
     },
     "execution_count": 7,
     "metadata": {},
     "output_type": "execute_result"
    }
   ],
   "source": [
    "# Convert data type to float before sorting\n",
    "df_exp60_logD[[\"pH=4.5\",\"pH=7.4\", \"pH=8.0\", \"pH=9.0\"]] = df_exp60_logD[[\"pH=4.5\",\"pH=7.4\", \"pH=8.0\", \"pH=9.0\"]].apply(pd.to_numeric)\n",
    "df_exp60_logD.dtypes"
   ]
  },
  {
   "cell_type": "code",
   "execution_count": 8,
   "metadata": {
    "collapsed": false
   },
   "outputs": [
    {
     "name": "stderr",
     "output_type": "stream",
     "text": [
      "/Users/isikm/opt/anaconda/lib/python2.7/site-packages/matplotlib/collections.py:590: FutureWarning: elementwise comparison failed; returning scalar instead, but in the future will perform elementwise comparison\n",
      "  if self._edgecolors == str('face'):\n"
     ]
    },
    {
     "data": {
      "image/png": "[encoded data removed]",
      "text/plain": [
       "<matplotlib.figure.Figure at 0x112e0b710>"
      ]
     },
     "metadata": {},
     "output_type": "display_data"
    }
   ],
   "source": [
    "pH_list = [\"pH=7.4\"]\n",
    "\n",
    "plt.rcParams.update({'font.size': 12})\n",
    "fig = plt.figure(1, figsize=(4*len(pH_list)+2,4))\n",
    "\n",
    "for i, pH in enumerate(pH_list):\n",
    "    \n",
    "    df_exp_sorted = df_exp60_logD.sort_values(by=pH, ascending=1).reset_index(drop=True)\n",
    "    df_exp_sorted[\"LogD rank\"]=df_exp_sorted.index\n",
    "#df_exp_sorted.head()\n",
    "\n",
    "    df_exp_yes_sorted = df_exp_sorted.loc[df_exp_sorted[\"Forms\"] == \"Yes\"].reset_index(drop=True)\n",
    "    df_exp_no_sorted = df_exp_sorted.loc[df_exp_sorted[\"Forms\"] == \"No\"].reset_index(drop=True)\n",
    "#df_exp_no_sorted.head() \n",
    "\n",
    "    LogD_array_yes_sorted = df_exp_yes_sorted.ix[:,pH]\n",
    "    LogD_rank_array_yes_sorted = df_exp_yes_sorted.ix[:,\"LogD rank\"]\n",
    "    LogD_array_no_sorted = df_exp_no_sorted.ix[:,pH]\n",
    "    LogD_rank_array_no_sorted = df_exp_no_sorted.ix[:,\"LogD rank\"]\n",
    "\n",
    "    #plt.subplot(1,len(pH_list),(i+1))\n",
    "    plt.scatter(LogD_rank_array_yes_sorted, LogD_array_yes_sorted, alpha=0.7, c=\"b\", s=40)\n",
    "    plt.scatter(LogD_rank_array_no_sorted, LogD_array_no_sorted, alpha=0.7,  c=\"w\", s=40)\n",
    "    plt.xlabel(\"LogD rank\")\n",
    "    plt.ylabel(\"LogD at pH 7.4\")\n",
    "    plt.xlim(-1,61)\n",
    "    plt.ylim(-0.2,11)\n",
    "    \n",
    "plt.savefig(\"LogD_rank.png\", dpi=200)\n",
    "plt.savefig(\"LogD_rank.svg\")"
   ]
  },
  {
   "cell_type": "markdown",
   "metadata": {},
   "source": [
    "### 2. LogD Box Plot"
   ]
  },
  {
   "cell_type": "code",
   "execution_count": 9,
   "metadata": {
    "collapsed": false
   },
   "outputs": [
    {
     "data": {
      "image/png": "[encoded data removed]",
      "text/plain": [
       "<matplotlib.figure.Figure at 0x11522ad10>"
      ]
     },
     "metadata": {},
     "output_type": "display_data"
    }
   ],
   "source": [
    "df_exp_yes = df_exp60_logD.loc[df_exp60_logD[\"Forms\"] == \"Yes\"].reset_index(drop=True)\n",
    "df_exp_no = df_exp60_logD.loc[df_exp60_logD[\"Forms\"] == \"No\"].reset_index(drop=True)\n",
    "\n",
    "pH_list = [\"pH=7.4\"]\n",
    "\n",
    "fig = plt.figure(1, figsize=(4*len(pH_list),4))\n",
    "\n",
    "#pH = \"pH=7.4\"\n",
    "for i, pH in enumerate(pH_list):\n",
    "    \n",
    "    LogD_array_yes = df_exp_yes.ix[:,pH].astype(float)\n",
    "    LogD_array_no = df_exp_no.ix[:,pH].astype(float)\n",
    "\n",
    "    data=[LogD_array_yes, LogD_array_no]\n",
    "   \n",
    "    #ax= fig.add_subplot(111)\n",
    "    ax = plt.subplot(1,len(pH_list),(i+1))\n",
    "    ax.boxplot(data)\n",
    "    ax.set_xticklabels([\"INP F\",\"INP NF\"])\n",
    "    ax.set_ylabel(\"LogD at {}\".format(pH))\n",
    "\n",
    "    \n",
    "fig.savefig(\"LogD_boxplot.png\", dpi=200)\n",
    "fig.savefig(\"LogD_boxplot.svg\")"
   ]
  },
  {
   "cell_type": "code",
   "execution_count": 10,
   "metadata": {
    "collapsed": false
   },
   "outputs": [
    {
     "name": "stdout",
     "output_type": "stream",
     "text": [
      "pH=7.4:  Ttest_indResult(statistic=2.63834141916817, pvalue=0.010685987682019079)\n",
      "   95% CI:  (0.32216587300575039, 2.3486085377686612)\n"
     ]
    }
   ],
   "source": [
    "# t-test and 95% CI\n",
    "from scipy import stats\n",
    "import numpy as np, statsmodels.stats.api as sms\n",
    "\n",
    "for i, pH in enumerate(pH_list):\n",
    "    LogD_array_yes = df_exp_yes.ix[:,pH].astype(float)\n",
    "    LogD_array_no = df_exp_no.ix[:,pH].astype(float)\n",
    "    \n",
    "    print(pH+ \": \", stats.ttest_ind(LogD_array_yes, LogD_array_no, equal_var=False))\n",
    "    \n",
    "    cm = sms.CompareMeans(sms.DescrStatsW(LogD_array_yes), sms.DescrStatsW(LogD_array_no))\n",
    "    print(\"   95% CI: \", cm.tconfint_diff(usevar='unequal'))"
   ]
  },
  {
   "cell_type": "markdown",
   "metadata": {},
   "source": [
    "### 3. Logistic regression"
   ]
  },
  {
   "cell_type": "code",
   "execution_count": 11,
   "metadata": {
    "collapsed": true
   },
   "outputs": [],
   "source": [
    "from scipy import optimize\n",
    "\n",
    "def logistic(params,x):\n",
    "    \"\"\" \n",
    "    Logistic function\n",
    "\n",
    "    Parameters\n",
    "    ----------\n",
    "    params : list or numpy array\n",
    "      the three parameters of the logistic function\n",
    "      First parameter is set to 1 to make funtion to\n",
    "      span 0 to 1 range.\n",
    "    x : numpy array\n",
    "      the explanatory variable\n",
    "   \n",
    "    Return\n",
    "    ------\n",
    "    numpy array\n",
    "      the output of the logistic function\n",
    "\n",
    "    \"\"\"\n",
    "    params[0]=1\n",
    "    return params[0]/(1+np.exp(-x*params[1] - params[2])) \n",
    "\n",
    "def residuals(params):\n",
    "    predicted = logistic(params,x)\n",
    "    return np.sum((y-predicted)**2)"
   ]
  },
  {
   "cell_type": "code",
   "execution_count": 12,
   "metadata": {
    "collapsed": false
   },
   "outputs": [
    {
     "data": {
      "text/html": [
       "<div>\n",
       "<table border=\"1\" class=\"dataframe\">\n",
       "  <thead>\n",
       "    <tr style=\"text-align: right;\">\n",
       "      <th></th>\n",
       "      <th>File Name</th>\n",
       "      <th>NAME</th>\n",
       "      <th>pH=4.5</th>\n",
       "      <th>pH=7.4</th>\n",
       "      <th>pH=8.0</th>\n",
       "      <th>pH=9.0</th>\n",
       "      <th>SpMAX4_Bh(s)</th>\n",
       "      <th>ALOGP2</th>\n",
       "      <th>Forms</th>\n",
       "      <th>Group</th>\n",
       "      <th>NP?</th>\n",
       "    </tr>\n",
       "  </thead>\n",
       "  <tbody>\n",
       "    <tr>\n",
       "      <th>0</th>\n",
       "      <td>ABT737.logd.csv</td>\n",
       "      <td>ABT737</td>\n",
       "      <td>3.85</td>\n",
       "      <td>6.43</td>\n",
       "      <td>6.93</td>\n",
       "      <td>7.48</td>\n",
       "      <td>7.000</td>\n",
       "      <td>67.200</td>\n",
       "      <td>Yes</td>\n",
       "      <td>Validation</td>\n",
       "      <td>1</td>\n",
       "    </tr>\n",
       "    <tr>\n",
       "      <th>1</th>\n",
       "      <td>AZD-4547.logd.csv</td>\n",
       "      <td>AZD-4547</td>\n",
       "      <td>1.13</td>\n",
       "      <td>2.73</td>\n",
       "      <td>3.29</td>\n",
       "      <td>4.04</td>\n",
       "      <td>4.720</td>\n",
       "      <td>17.700</td>\n",
       "      <td>No</td>\n",
       "      <td>Validation</td>\n",
       "      <td>0</td>\n",
       "    </tr>\n",
       "    <tr>\n",
       "      <th>2</th>\n",
       "      <td>Apitolisib.logd.csv</td>\n",
       "      <td>Apitolisib</td>\n",
       "      <td>-0.73</td>\n",
       "      <td>1.43</td>\n",
       "      <td>1.50</td>\n",
       "      <td>1.52</td>\n",
       "      <td>5.010</td>\n",
       "      <td>1.800</td>\n",
       "      <td>No</td>\n",
       "      <td>Validation</td>\n",
       "      <td>0</td>\n",
       "    </tr>\n",
       "    <tr>\n",
       "      <th>3</th>\n",
       "      <td>Avagacestat.logd.csv</td>\n",
       "      <td>Avagacestat</td>\n",
       "      <td>3.96</td>\n",
       "      <td>3.96</td>\n",
       "      <td>3.96</td>\n",
       "      <td>3.96</td>\n",
       "      <td>8.000</td>\n",
       "      <td>16.000</td>\n",
       "      <td>Yes</td>\n",
       "      <td>Validation</td>\n",
       "      <td>1</td>\n",
       "    </tr>\n",
       "    <tr>\n",
       "      <th>4</th>\n",
       "      <td>Avasimibe.logd.csv</td>\n",
       "      <td>Avasimibe</td>\n",
       "      <td>9.03</td>\n",
       "      <td>8.68</td>\n",
       "      <td>8.26</td>\n",
       "      <td>7.33</td>\n",
       "      <td>4.786</td>\n",
       "      <td>67.695</td>\n",
       "      <td>Yes</td>\n",
       "      <td>Validation</td>\n",
       "      <td>1</td>\n",
       "    </tr>\n",
       "  </tbody>\n",
       "</table>\n",
       "</div>"
      ],
      "text/plain": [
       "              File Name         NAME  pH=4.5  pH=7.4  pH=8.0  pH=9.0  \\\n",
       "0       ABT737.logd.csv       ABT737    3.85    6.43    6.93    7.48   \n",
       "1     AZD-4547.logd.csv     AZD-4547    1.13    2.73    3.29    4.04   \n",
       "2   Apitolisib.logd.csv   Apitolisib   -0.73    1.43    1.50    1.52   \n",
       "3  Avagacestat.logd.csv  Avagacestat    3.96    3.96    3.96    3.96   \n",
       "4    Avasimibe.logd.csv    Avasimibe    9.03    8.68    8.26    7.33   \n",
       "\n",
       "   SpMAX4_Bh(s)  ALOGP2 Forms       Group NP?  \n",
       "0         7.000  67.200   Yes  Validation   1  \n",
       "1         4.720  17.700    No  Validation   0  \n",
       "2         5.010   1.800    No  Validation   0  \n",
       "3         8.000  16.000   Yes  Validation   1  \n",
       "4         4.786  67.695   Yes  Validation   1  "
      ]
     },
     "execution_count": 12,
     "metadata": {},
     "output_type": "execute_result"
    }
   ],
   "source": [
    "# Indocyanine nanoparticle formation binary response column\n",
    "df_exp60_logD[\"NP?\"]=None\n",
    "\n",
    "for i,row in enumerate(df_exp60_logD.iterrows()):\n",
    "    if df_exp60_logD.ix[i,\"Forms\"] == \"Yes\" :\n",
    "        df_exp60_logD.ix[i, \"NP?\"] = 1\n",
    "    else:\n",
    "        df_exp60_logD.ix[i, \"NP?\"] = 0\n",
    "\n",
    "df_exp60_logD.head()"
   ]
  },
  {
   "cell_type": "code",
   "execution_count": 13,
   "metadata": {
    "collapsed": false
   },
   "outputs": [
    {
     "name": "stdout",
     "output_type": "stream",
     "text": [
      "For pH=7.4: The predicted parameters are [ 1.          0.3944592  -1.74864548]\n",
      "            Threshold logD:  4.43301987297\n"
     ]
    },
    {
     "data": {
      "image/png": "[encoded data removed]",
      "text/plain": [
       "<matplotlib.figure.Figure at 0x117d8ac10>"
      ]
     },
     "metadata": {},
     "output_type": "display_data"
    }
   ],
   "source": [
    "pH_list = [\"pH=7.4\"]\n",
    "threshold_logD = {}\n",
    "\n",
    "fig = plt.figure(1, figsize=(4*len(pH_list),4))\n",
    "\n",
    "for i, pH in enumerate(pH_list):\n",
    "\n",
    "    df_sorted = df_exp60_logD.sort_values(by=pH, ascending=1).reset_index(drop=True)\n",
    "    initial_guess = [1,1,1]\n",
    "    x=df_sorted.ix[:, pH].astype(float)\n",
    "    y=df_sorted.ix[:, \"NP?\"]\n",
    "\n",
    "    fit = optimize.minimize(residuals,initial_guess,method='Nelder-Mead')\n",
    "    print(\"For {}: The predicted parameters are\".format(pH), fit.x)\n",
    "    \n",
    "    # Inflection point is x_0/b\n",
    "    threshold_logD[pH]=(-1)*fit.x[2]/fit.x[1]\n",
    "    print(\"            Threshold logD: \", threshold_logD[pH])\n",
    "    \n",
    "    plt.subplot(1,len(pH_list),(i+1))\n",
    "    plt.scatter(x,y)\n",
    "    predicted = logistic(fit.x, x)\n",
    "    plt.plot(x,predicted,color=\"red\")\n",
    "    plt.xlabel('logD at {}'.format(pH), size=10)\n",
    "    plt.ylabel('INP formation', size=10)\n",
    "    plt.ylim(-0.1,1.1)\n",
    "    \n",
    "plt.savefig(\"LogD_logistic_fit.png\", dpi=200)\n",
    "plt.savefig(\"LogD_logistic_fit.svg\")"
   ]
  },
  {
   "cell_type": "markdown",
   "metadata": {},
   "source": [
    "### 4. ROC Curve and AUC"
   ]
  },
  {
   "cell_type": "code",
   "execution_count": 14,
   "metadata": {
    "collapsed": false
   },
   "outputs": [
    {
     "data": {
      "image/png": "[encoded data removed]",
      "text/plain": [
       "<matplotlib.figure.Figure at 0x117d6df50>"
      ]
     },
     "metadata": {},
     "output_type": "display_data"
    }
   ],
   "source": [
    "from sklearn import metrics\n",
    "\n",
    "y_actual = df_sorted[\"NP?\"]\n",
    "# predicted score come from logistic regression\n",
    "y_predicted = predicted\n",
    "\n",
    "# ROC\n",
    "fpr, tpr, thresholds = metrics.roc_curve(y_actual, y_predicted)\n",
    "roc_auc = metrics.auc(fpr, tpr)\n",
    "\n",
    "# Plotting ROC curve\n",
    "fig = plt.figure(1, figsize=(4,4))\n",
    "plt.title('Receiver Operating Characteristic')\n",
    "plt.plot(fpr, tpr, 'b',\n",
    "label='AUC = %0.2f'% roc_auc)\n",
    "plt.legend(loc='lower right')\n",
    "plt.plot([0,1],[0,1],'r--')\n",
    "plt.xlim([-0.1,1.1])\n",
    "plt.ylim([-0.1,1.1])\n",
    "plt.ylabel('True Positive Rate')\n",
    "plt.xlabel('False Positive Rate')\n",
    "plt.show()"
   ]
  },
  {
   "cell_type": "markdown",
   "metadata": {},
   "source": [
    "#### Bootstrap for ROC AUC confidence intervals"
   ]
  },
  {
   "cell_type": "code",
   "execution_count": 15,
   "metadata": {
    "collapsed": false
   },
   "outputs": [
    {
     "name": "stdout",
     "output_type": "stream",
     "text": [
      "Original ROC area: 0.714\n",
      "95% Confidence interval for the score: [0.579 - 0.839]\n"
     ]
    },
    {
     "data": {
      "image/png": "[encoded data removed]",
      "text/plain": [
       "<matplotlib.figure.Figure at 0x1189cee90>"
      ]
     },
     "metadata": {},
     "output_type": "display_data"
    }
   ],
   "source": [
    "y_actual = np.array(y_actual).astype(int)\n",
    "y_predicted = np.array(y_predicted)\n",
    "print(\"Original ROC area: {:0.3f}\".format(metrics.roc_auc_score(y_actual, y_predicted)))\n",
    "\n",
    "n_bootstraps = 1000\n",
    "rng_seed = 0  # control reproducibility\n",
    "bootstrapped_scores = []\n",
    "\n",
    "rng = np.random.RandomState(rng_seed)\n",
    "for i in range(n_bootstraps):\n",
    "\n",
    "    # bootstrap by sampling with replacement on the prediction indices\n",
    "    indices = rng.random_integers(0, len(y_predicted) - 1, len(y_predicted))\n",
    " \n",
    "    if len(np.unique(y_actual[indices])) < 2:\n",
    "        # We need at least one positive and one negative sample for ROC AUC\n",
    "        # to be defined: reject the sample\n",
    "        continue\n",
    "\n",
    "    score = metrics.roc_auc_score(y_actual[indices], y_predicted[indices])\n",
    "    bootstrapped_scores.append(score)\n",
    "    #print(\"Bootstrap #{} ROC area: {:0.3f}\".format(i + 1, score))\n",
    "\n",
    "fig = plt.figure(1, figsize=(9,4))\n",
    "plt.subplot(1,2,1)\n",
    "plt.hist(bootstrapped_scores, bins=50)\n",
    "plt.title('Histogram of the bootstrapped ROC AUC')\n",
    "# plt.show()\n",
    "\n",
    "sorted_scores = np.array(bootstrapped_scores)\n",
    "sorted_scores.sort()\n",
    "\n",
    "# Computing the lower and upper bound of the 95% confidence interval\n",
    "# 95% CI percentiles to 0.025 and 0.975\n",
    "confidence_lower = sorted_scores[int(0.025 * len(sorted_scores))]\n",
    "confidence_upper = sorted_scores[int(0.975 * len(sorted_scores))]\n",
    "print(\"95% Confidence interval for the score: [{:0.3f} - {:0.3}]\".format(\n",
    "    confidence_lower, confidence_upper))\n",
    "\n",
    "# Plotting ROC curve\n",
    "fig = plt.figure(1, figsize=(4,4))\n",
    "plt.subplot(1,2,2)\n",
    "plt.title('Receiver Operating Characteristic')\n",
    "plt.plot(fpr, tpr, 'b', label='AUC={0:0.2f} 95%CI: [{1:0.2f},{2:0.2f}]'.format(roc_auc, confidence_lower, confidence_upper))\n",
    "plt.legend(loc='lower right', prop={'size':10})\n",
    "plt.plot([0,1],[0,1],'r--')\n",
    "plt.xlim([-0.1,1.1])\n",
    "plt.ylim([-0.1,1.1])\n",
    "plt.ylabel('True Positive Rate')\n",
    "plt.xlabel('False Positive Rate')\n",
    "plt.savefig(\"logD_ROC_with_histogram.png\", dpi=200)\n",
    "plt.savefig(\"logD_ROC_with_histogram.svg\")"
   ]
  },
  {
   "cell_type": "code",
   "execution_count": 16,
   "metadata": {
    "collapsed": false
   },
   "outputs": [
    {
     "data": {
      "image/png": "[encoded data removed]",
      "text/plain": [
       "<matplotlib.figure.Figure at 0x1189ce610>"
      ]
     },
     "metadata": {},
     "output_type": "display_data"
    }
   ],
   "source": [
    "# Plotting ROC curve\n",
    "fig = plt.figure(1, figsize=(4,4))\n",
    "plt.title('Receiver Operating Characteristic', size=16)\n",
    "plt.plot(fpr, tpr, 'b', label='AUC={0:0.2f} \\n95% CI: [{1:0.2f},{2:0.2f}]'.format(roc_auc, confidence_lower, confidence_upper))\n",
    "plt.legend(loc='lower right', prop={'size':13})\n",
    "plt.plot([0,1],[0,1],'r--')\n",
    "plt.xlim([-0.1,1.1])\n",
    "plt.ylim([-0.1,1.1])\n",
    "plt.ylabel('True Positive Rate')\n",
    "plt.xlabel('False Positive Rate')\n",
    "plt.savefig(\"pH74_logD_ROC.png\", dpi=200)\n",
    "plt.savefig(\"pH74_logD_ROC.svg\")"
   ]
  },
  {
   "cell_type": "markdown",
   "metadata": {},
   "source": [
    "### 5. Confusion Matrix"
   ]
  },
  {
   "cell_type": "code",
   "execution_count": 17,
   "metadata": {
    "collapsed": false
   },
   "outputs": [
    {
     "data": {
      "text/html": [
       "<div>\n",
       "<table border=\"1\" class=\"dataframe\">\n",
       "  <thead>\n",
       "    <tr style=\"text-align: right;\">\n",
       "      <th></th>\n",
       "      <th>NAME</th>\n",
       "      <th>NP?</th>\n",
       "      <th>pH=7.4</th>\n",
       "      <th>NP Pred pH=7.4</th>\n",
       "    </tr>\n",
       "  </thead>\n",
       "  <tbody>\n",
       "    <tr>\n",
       "      <th>0</th>\n",
       "      <td>ABT737</td>\n",
       "      <td>1</td>\n",
       "      <td>6.43</td>\n",
       "      <td>1</td>\n",
       "    </tr>\n",
       "    <tr>\n",
       "      <th>1</th>\n",
       "      <td>AZD-4547</td>\n",
       "      <td>0</td>\n",
       "      <td>2.73</td>\n",
       "      <td>0</td>\n",
       "    </tr>\n",
       "    <tr>\n",
       "      <th>2</th>\n",
       "      <td>Apitolisib</td>\n",
       "      <td>0</td>\n",
       "      <td>1.43</td>\n",
       "      <td>0</td>\n",
       "    </tr>\n",
       "    <tr>\n",
       "      <th>3</th>\n",
       "      <td>Avagacestat</td>\n",
       "      <td>1</td>\n",
       "      <td>3.96</td>\n",
       "      <td>0</td>\n",
       "    </tr>\n",
       "    <tr>\n",
       "      <th>4</th>\n",
       "      <td>Avasimibe</td>\n",
       "      <td>1</td>\n",
       "      <td>8.68</td>\n",
       "      <td>1</td>\n",
       "    </tr>\n",
       "  </tbody>\n",
       "</table>\n",
       "</div>"
      ],
      "text/plain": [
       "          NAME NP?  pH=7.4 NP Pred pH=7.4\n",
       "0       ABT737   1    6.43              1\n",
       "1     AZD-4547   0    2.73              0\n",
       "2   Apitolisib   0    1.43              0\n",
       "3  Avagacestat   1    3.96              0\n",
       "4    Avasimibe   1    8.68              1"
      ]
     },
     "execution_count": 17,
     "metadata": {},
     "output_type": "execute_result"
    }
   ],
   "source": [
    "df_exp60_logD_pred = df_exp60_logD.ix[:, (\"NAME\", \"NP?\", \"pH=7.4\")]\n",
    "for pH in pH_list:\n",
    "    df_exp60_logD_pred[\"NP Pred {}\".format(pH)]= None\n",
    "    \n",
    "    for i, row in enumerate(df_exp60_logD_pred.iterrows()):\n",
    "        logD = float(df_exp60_logD_pred.ix[i, pH])\n",
    "        \n",
    "        if logD < threshold_logD[pH]:\n",
    "            df_exp60_logD_pred.ix[i, \"NP Pred {}\".format(pH)] = 0\n",
    "        else:\n",
    "            df_exp60_logD_pred.ix[i, \"NP Pred {}\".format(pH)] = 1\n",
    "df_exp60_logD_pred.head()"
   ]
  },
  {
   "cell_type": "code",
   "execution_count": 18,
   "metadata": {
    "collapsed": false
   },
   "outputs": [
    {
     "name": "stdout",
     "output_type": "stream",
     "text": [
      "logD at pH=7.4 \n",
      "Accuracy= 0.65\n",
      "logD threshold= 4.43\n",
      "\n",
      "Predicted   0   1\n",
      "Actual           \n",
      "0          25   8\n",
      "1          13  14\n"
     ]
    }
   ],
   "source": [
    "exp_NP = df_exp60_logD_pred.ix[:,\"NP?\"].astype(int)\n",
    "\n",
    "pred_NP_dict = {}\n",
    "for pH in pH_list:\n",
    "    pred_NP_dict[pH] = df_exp60_logD_pred.ix[:, \"NP Pred {}\".format(pH)].astype(int)\n",
    "    \n",
    "for pH in pH_list:\n",
    "    actual = pd.Series(exp_NP, name= \"Actual\")\n",
    "    predicted = pd.Series(pred_NP_dict[pH], name= \"Predicted\")\n",
    "    df_confusion = pd.crosstab(actual, predicted)\n",
    "    \n",
    "    # Accuracy = (TP+TN)/(TP+TN+FP+FN)\n",
    "    TP = df_confusion.ix[1,1]\n",
    "    TN = df_confusion.ix[0,0]\n",
    "    FP = df_confusion.ix[0,1]\n",
    "    FN = df_confusion.ix[1,0]\n",
    "    \n",
    "    accuracy = (TP+TN)/(TP+TN+FP+FN)\n",
    "    \n",
    "    print(\"logD at\", pH, \"\\nAccuracy= {:.2f}\".format(accuracy), )\n",
    "    print(\"logD threshold= {:.2f}\\n\".format(threshold_logD[\"pH=7.4\"]))\n",
    "    print(df_confusion)"
   ]
  }
 ],
 "metadata": {
  "kernelspec": {
   "display_name": "Python 2",
   "language": "python",
   "name": "python2"
  },
  "language_info": {
   "codemirror_mode": {
    "name": "ipython",
    "version": 2
   },
   "file_extension": ".py",
   "mimetype": "text/x-python",
   "name": "python",
   "nbconvert_exporter": "python",
   "pygments_lexer": "ipython2",
   "version": "2.7.12"
  }
 },
 "nbformat": 4,
 "nbformat_minor": 0
}
