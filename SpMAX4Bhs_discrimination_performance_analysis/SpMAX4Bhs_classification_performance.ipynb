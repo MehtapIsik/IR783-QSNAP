{
 "cells": [
  {
   "cell_type": "markdown",
   "metadata": {},
   "source": [
    "# SpMAX4_Bh(s) Categorization Analysis of 60 Experimentally Tested Molecules for Indocyanine Nanoparticle Formation\n",
    "SpMAX4_Bh(s) values of drugs were calculated by Dragon 6 software."
   ]
  },
  {
   "cell_type": "code",
   "execution_count": 1,
   "metadata": {
    "collapsed": true
   },
   "outputs": [],
   "source": [
    "import pandas as pd\n",
    "import numpy as np\n",
    "import os\n",
    "import re\n",
    "from __future__ import print_function, division\n",
    "import matplotlib.pyplot as plt\n",
    "%matplotlib inline"
   ]
  },
  {
   "cell_type": "markdown",
   "metadata": {},
   "source": [
    "#### Import experimental data and descriptor values"
   ]
  },
  {
   "cell_type": "code",
   "execution_count": 2,
   "metadata": {
    "collapsed": false
   },
   "outputs": [
    {
     "data": {
      "text/html": [
       "<div>\n",
       "<table border=\"1\" class=\"dataframe\">\n",
       "  <thead>\n",
       "    <tr style=\"text-align: right;\">\n",
       "      <th></th>\n",
       "      <th>Drug Name</th>\n",
       "      <th>SpMAX4_Bh(s)</th>\n",
       "      <th>Experimental INP Formation</th>\n",
       "      <th>SpMAX4_Bh(s) Analysis Group</th>\n",
       "    </tr>\n",
       "  </thead>\n",
       "  <tbody>\n",
       "    <tr>\n",
       "      <th>0</th>\n",
       "      <td>ABT737</td>\n",
       "      <td>7.00</td>\n",
       "      <td>Yes</td>\n",
       "      <td>Validation</td>\n",
       "    </tr>\n",
       "    <tr>\n",
       "      <th>1</th>\n",
       "      <td>Apitolisib</td>\n",
       "      <td>5.01</td>\n",
       "      <td>No</td>\n",
       "      <td>Validation</td>\n",
       "    </tr>\n",
       "    <tr>\n",
       "      <th>2</th>\n",
       "      <td>Avagacestat</td>\n",
       "      <td>8.00</td>\n",
       "      <td>Yes</td>\n",
       "      <td>Validation</td>\n",
       "    </tr>\n",
       "    <tr>\n",
       "      <th>3</th>\n",
       "      <td>Avasimibe</td>\n",
       "      <td>4.79</td>\n",
       "      <td>Yes</td>\n",
       "      <td>Validation</td>\n",
       "    </tr>\n",
       "    <tr>\n",
       "      <th>4</th>\n",
       "      <td>AZD-4547</td>\n",
       "      <td>4.72</td>\n",
       "      <td>No</td>\n",
       "      <td>Validation</td>\n",
       "    </tr>\n",
       "  </tbody>\n",
       "</table>\n",
       "</div>"
      ],
      "text/plain": [
       "     Drug Name  SpMAX4_Bh(s) Experimental INP Formation  \\\n",
       "0       ABT737          7.00                        Yes   \n",
       "1   Apitolisib          5.01                         No   \n",
       "2  Avagacestat          8.00                        Yes   \n",
       "3    Avasimibe          4.79                        Yes   \n",
       "4     AZD-4547          4.72                         No   \n",
       "\n",
       "  SpMAX4_Bh(s) Analysis Group  \n",
       "0                  Validation  \n",
       "1                  Validation  \n",
       "2                  Validation  \n",
       "3                  Validation  \n",
       "4                  Validation  "
      ]
     },
     "execution_count": 2,
     "metadata": {},
     "output_type": "execute_result"
    }
   ],
   "source": [
    "df_molecules = pd.read_csv(\"experimental_dataset_N60_SpMAX4Bhs.csv\")\n",
    "df_molecules.head()"
   ]
  },
  {
   "cell_type": "markdown",
   "metadata": {
    "collapsed": true
   },
   "source": [
    "### 1. SpMAX4_Bh(s) vs SpMAX4_Bh(s) Rank"
   ]
  },
  {
   "cell_type": "code",
   "execution_count": 3,
   "metadata": {
    "collapsed": false
   },
   "outputs": [
    {
     "name": "stderr",
     "output_type": "stream",
     "text": [
      "/Users/isikm/opt/anaconda/lib/python2.7/site-packages/matplotlib/collections.py:590: FutureWarning: elementwise comparison failed; returning scalar instead, but in the future will perform elementwise comparison\n",
      "  if self._edgecolors == str('face'):\n"
     ]
    },
    {
     "data": {
      "image/png": "[encoded data removed]",
      "text/plain": [
       "<matplotlib.figure.Figure at 0x112dfbe90>"
      ]
     },
     "metadata": {},
     "output_type": "display_data"
    }
   ],
   "source": [
    "df_exp_sorted = df_molecules.sort_values(by=\"SpMAX4_Bh(s)\", ascending=1).reset_index(drop=True)\n",
    "df_exp_sorted[\"SpMAX4_Bh(s) rank\"]=df_exp_sorted.index\n",
    "\n",
    "df_exp_yes_sorted = df_exp_sorted.loc[df_exp_sorted[\"Experimental INP Formation\"] == \"Yes\"].reset_index(drop=True)\n",
    "df_exp_no_sorted = df_exp_sorted.loc[df_exp_sorted[\"Experimental INP Formation\"] == \"No\"].reset_index(drop=True)\n",
    "\n",
    "SpMAX4_array_yes_sorted = df_exp_yes_sorted.ix[:,\"SpMAX4_Bh(s)\"]\n",
    "SpMAX4_rank_array_yes_sorted = df_exp_yes_sorted.ix[:,\"SpMAX4_Bh(s) rank\"]\n",
    "SpMAX4_array_no_sorted = df_exp_no_sorted.ix[:,\"SpMAX4_Bh(s)\"]\n",
    "SpMAX4_rank_array_no_sorted = df_exp_no_sorted.ix[:,\"SpMAX4_Bh(s) rank\"]\n",
    "\n",
    "fig = plt.figure(1, figsize=(6,4), dpi=200)\n",
    "\n",
    "plt.scatter(SpMAX4_rank_array_yes_sorted, SpMAX4_array_yes_sorted, alpha=0.7, c=\"b\", s=40 )\n",
    "plt.scatter(SpMAX4_rank_array_no_sorted, SpMAX4_array_no_sorted, alpha=0.5,  c=\"w\", s=40)\n",
    "plt.xlabel(\"SpMAX4_Bh(s) rank\")\n",
    "plt.ylabel(\"SpMAX4_Bh(s)\")\n",
    "plt.xlim(-1,61)\n",
    "plt.ylim(4,8.1)\n",
    "plt.savefig(\"SpMAX4_rank.png\", dpi=200)\n",
    "plt.savefig(\"SpMAX4_rank.svg\")"
   ]
  },
  {
   "cell_type": "markdown",
   "metadata": {},
   "source": [
    "### 2. SpMAX4_Bh(s) Box Plot"
   ]
  },
  {
   "cell_type": "code",
   "execution_count": 4,
   "metadata": {
    "collapsed": false
   },
   "outputs": [
    {
     "data": {
      "image/png": "[encoded data removed]",
      "text/plain": [
       "<matplotlib.figure.Figure at 0x10445bdd0>"
      ]
     },
     "metadata": {},
     "output_type": "display_data"
    }
   ],
   "source": [
    "SpMAX4_array_yes = df_exp_yes_sorted.ix[:,\"SpMAX4_Bh(s)\"].astype(float)\n",
    "SpMAX4_array_no = df_exp_no_sorted.ix[:,\"SpMAX4_Bh(s)\"].astype(float)\n",
    "\n",
    "data=[SpMAX4_array_yes, SpMAX4_array_no]\n",
    "\n",
    "fig=plt.figure(1, figsize=(4,4))\n",
    "ax= fig.add_subplot(111)\n",
    "\n",
    "ax.boxplot(data)\n",
    "ax.set_xticklabels([\"INP F\",\"INP NF\"])\n",
    "ax.set_ylabel(\"SpMAX4_Bh(s)\")\n",
    "ax.set_ylim(4, 8.5)\n",
    "fig.savefig(\"SpMAX4_boxplot.png\", dpi=200)\n",
    "plt.savefig(\"SpMAX4_boxplot.svg\")"
   ]
  },
  {
   "cell_type": "code",
   "execution_count": 5,
   "metadata": {
    "collapsed": false
   },
   "outputs": [
    {
     "name": "stdout",
     "output_type": "stream",
     "text": [
      "Ttest_indResult(statistic=17.660602029024361, pvalue=1.7150623429456308e-22)\n",
      "95% CI:  (2.2567322817879978, 2.8368030717473554)\n"
     ]
    }
   ],
   "source": [
    "from scipy import stats\n",
    "print(stats.ttest_ind(SpMAX4_array_yes, SpMAX4_array_no, equal_var=False))\n",
    "import numpy as np, statsmodels.stats.api as sms\n",
    "cm = sms.CompareMeans(sms.DescrStatsW(SpMAX4_array_yes), sms.DescrStatsW(SpMAX4_array_no))\n",
    "print(\"95% CI: \", cm.tconfint_diff(usevar='unequal'))"
   ]
  },
  {
   "cell_type": "markdown",
   "metadata": {},
   "source": [
    "### 3. SpMAX4_Bh(s) Logistic Regression"
   ]
  },
  {
   "cell_type": "code",
   "execution_count": 6,
   "metadata": {
    "collapsed": true
   },
   "outputs": [],
   "source": [
    "from scipy import optimize\n",
    "\n",
    "def logistic(params,x):\n",
    "    \"\"\" \n",
    "    Logistic function\n",
    "\n",
    "    Parameters\n",
    "    ----------\n",
    "    params : list or numpy array\n",
    "      the three parameters of the logistic function\n",
    "      First parameter is set to 1 to make the function\n",
    "      span 0 to 1.\n",
    "    x : numpy array\n",
    "      the explanatory variable\n",
    "   \n",
    "    Return\n",
    "    ------\n",
    "    numpy array\n",
    "      the output of the logistic function\n",
    "\n",
    "    \"\"\"\n",
    "    params[0]=1\n",
    "    return params[0]/(1+np.exp(-x*params[1] - params[2])) \n",
    "\n",
    "def residuals(params):\n",
    "    predicted = logistic(params,x)\n",
    "    return np.sum((y-predicted)**2)"
   ]
  },
  {
   "cell_type": "code",
   "execution_count": 7,
   "metadata": {
    "collapsed": false
   },
   "outputs": [
    {
     "data": {
      "text/html": [
       "<div>\n",
       "<table border=\"1\" class=\"dataframe\">\n",
       "  <thead>\n",
       "    <tr style=\"text-align: right;\">\n",
       "      <th></th>\n",
       "      <th>Drug Name</th>\n",
       "      <th>SpMAX4_Bh(s)</th>\n",
       "      <th>Experimental INP Formation</th>\n",
       "      <th>SpMAX4_Bh(s) Analysis Group</th>\n",
       "      <th>Experimental Category</th>\n",
       "    </tr>\n",
       "  </thead>\n",
       "  <tbody>\n",
       "    <tr>\n",
       "      <th>0</th>\n",
       "      <td>ABT737</td>\n",
       "      <td>7.00</td>\n",
       "      <td>Yes</td>\n",
       "      <td>Validation</td>\n",
       "      <td>1</td>\n",
       "    </tr>\n",
       "    <tr>\n",
       "      <th>1</th>\n",
       "      <td>Apitolisib</td>\n",
       "      <td>5.01</td>\n",
       "      <td>No</td>\n",
       "      <td>Validation</td>\n",
       "      <td>0</td>\n",
       "    </tr>\n",
       "    <tr>\n",
       "      <th>2</th>\n",
       "      <td>Avagacestat</td>\n",
       "      <td>8.00</td>\n",
       "      <td>Yes</td>\n",
       "      <td>Validation</td>\n",
       "      <td>1</td>\n",
       "    </tr>\n",
       "    <tr>\n",
       "      <th>3</th>\n",
       "      <td>Avasimibe</td>\n",
       "      <td>4.79</td>\n",
       "      <td>Yes</td>\n",
       "      <td>Validation</td>\n",
       "      <td>1</td>\n",
       "    </tr>\n",
       "    <tr>\n",
       "      <th>4</th>\n",
       "      <td>AZD-4547</td>\n",
       "      <td>4.72</td>\n",
       "      <td>No</td>\n",
       "      <td>Validation</td>\n",
       "      <td>0</td>\n",
       "    </tr>\n",
       "  </tbody>\n",
       "</table>\n",
       "</div>"
      ],
      "text/plain": [
       "     Drug Name  SpMAX4_Bh(s) Experimental INP Formation  \\\n",
       "0       ABT737          7.00                        Yes   \n",
       "1   Apitolisib          5.01                         No   \n",
       "2  Avagacestat          8.00                        Yes   \n",
       "3    Avasimibe          4.79                        Yes   \n",
       "4     AZD-4547          4.72                         No   \n",
       "\n",
       "  SpMAX4_Bh(s) Analysis Group Experimental Category  \n",
       "0                  Validation                     1  \n",
       "1                  Validation                     0  \n",
       "2                  Validation                     1  \n",
       "3                  Validation                     1  \n",
       "4                  Validation                     0  "
      ]
     },
     "execution_count": 7,
     "metadata": {},
     "output_type": "execute_result"
    }
   ],
   "source": [
    "df_molecules[\"Experimental Category\"]=None\n",
    "\n",
    "for i,row in enumerate(df_molecules.iterrows()):\n",
    "    if df_molecules.ix[i,\"Experimental INP Formation\"] == \"Yes\" :\n",
    "        df_molecules.ix[i, \"Experimental Category\"] = 1\n",
    "    else:\n",
    "        df_molecules.ix[i, \"Experimental Category\"] = 0\n",
    "\n",
    "df_molecules.head()"
   ]
  },
  {
   "cell_type": "code",
   "execution_count": 8,
   "metadata": {
    "collapsed": false
   },
   "outputs": [
    {
     "name": "stdout",
     "output_type": "stream",
     "text": [
      "The predicted parameters are  [   1.           92.28979267 -620.53400363]\n",
      "Threshold SpMAX4_Bh(s):  6.72375552812\n"
     ]
    },
    {
     "data": {
      "image/png": "[encoded data removed]",
      "text/plain": [
       "<matplotlib.figure.Figure at 0x117d21a90>"
      ]
     },
     "metadata": {},
     "output_type": "display_data"
    }
   ],
   "source": [
    "fig = plt.figure(1, figsize=(4,4))\n",
    "\n",
    "df_sorted = df_molecules.sort_values(by=\"SpMAX4_Bh(s)\", ascending=1).reset_index(drop=True)\n",
    "initial_guess = [1,1,1]\n",
    "x=df_sorted.ix[:, \"SpMAX4_Bh(s)\"].astype(float)\n",
    "y=df_sorted.ix[:, \"Experimental Category\"]\n",
    "\n",
    "fit = optimize.minimize(residuals,initial_guess,method='Nelder-Mead')\n",
    "print(\"The predicted parameters are \", fit.x)\n",
    "\n",
    "# Inflection point is -x_0/b\n",
    "threshold_SpMAX4 =(-1)*fit.x[2]/fit.x[1]\n",
    "print(\"Threshold SpMAX4_Bh(s): \", threshold_SpMAX4)\n",
    "    \n",
    "plt.scatter(x,y)\n",
    "predicted = logistic(fit.x, x)\n",
    "plt.plot(x,predicted,color=\"red\")\n",
    "plt.xlabel('SpMAX4_Bh(s)')\n",
    "plt.ylabel('INP formation', size=10)\n",
    "plt.ylim(-0.1, 1.1)\n",
    "plt.savefig(\"SpMAX4_logistic_fit.png\", dpi=200)\n",
    "plt.savefig(\"SpMAX4_logistic_fit.svg\")"
   ]
  },
  {
   "cell_type": "markdown",
   "metadata": {},
   "source": [
    "### 4. SpMAX4_Bh(s) ROC Curve"
   ]
  },
  {
   "cell_type": "code",
   "execution_count": 9,
   "metadata": {
    "collapsed": false
   },
   "outputs": [
    {
     "name": "stdout",
     "output_type": "stream",
     "text": [
      "AUC: 0.978\n"
     ]
    }
   ],
   "source": [
    "from sklearn import metrics\n",
    "\n",
    "y_actual = df_sorted[\"Experimental Category\"]\n",
    "# predicted score come from logistic regression\n",
    "y_predicted = predicted\n",
    "\n",
    "# ROC\n",
    "fpr, tpr, thresholds = metrics.roc_curve(y_actual, y_predicted)\n",
    "roc_auc = metrics.auc(fpr, tpr)\n",
    "\n",
    "print(\"AUC: {0:0.3f}\".format(roc_auc))"
   ]
  },
  {
   "cell_type": "markdown",
   "metadata": {},
   "source": [
    "#### Bootstrap for ROC AUC confidence intervals"
   ]
  },
  {
   "cell_type": "code",
   "execution_count": 10,
   "metadata": {
    "collapsed": false
   },
   "outputs": [
    {
     "name": "stdout",
     "output_type": "stream",
     "text": [
      "Original ROC area: 0.978\n",
      "95% Confidence interval for the score: [0.923 - 1.0]\n"
     ]
    },
    {
     "data": {
      "image/png": "[encoded data removed]",
      "text/plain": [
       "<matplotlib.figure.Figure at 0x1191a46d0>"
      ]
     },
     "metadata": {},
     "output_type": "display_data"
    }
   ],
   "source": [
    "y_actual = np.array(y_actual).astype(int)\n",
    "y_predicted = np.array(y_predicted)\n",
    "print(\"Original ROC area: {:0.3f}\".format(metrics.roc_auc_score(y_actual, y_predicted)))\n",
    "\n",
    "n_bootstraps = 1000\n",
    "rng_seed = 0  # control reproducibility\n",
    "bootstrapped_scores = []\n",
    "\n",
    "rng = np.random.RandomState(rng_seed)\n",
    "for i in range(n_bootstraps):\n",
    "\n",
    "    # bootstrap by sampling with replacement on the prediction indices\n",
    "    indices = rng.random_integers(0, len(y_predicted) - 1, len(y_predicted))\n",
    " \n",
    "    if len(np.unique(y_actual[indices])) < 2:\n",
    "        # We need at least one positive and one negative sample for ROC AUC\n",
    "        # to be defined: reject the sample\n",
    "        continue\n",
    "\n",
    "    score = metrics.roc_auc_score(y_actual[indices], y_predicted[indices])\n",
    "    bootstrapped_scores.append(score)\n",
    "    #print(\"Bootstrap #{} ROC area: {:0.3f}\".format(i + 1, score))\n",
    "\n",
    "fig = plt.figure(1, figsize=(9,4))\n",
    "plt.subplot(1,2,1)\n",
    "plt.hist(bootstrapped_scores, bins=50)\n",
    "plt.title('Histogram of the bootstrapped ROC AUC', size=14)\n",
    "# plt.show()\n",
    "\n",
    "sorted_scores = np.array(bootstrapped_scores)\n",
    "sorted_scores.sort()\n",
    "\n",
    "# Computing the lower and upper bound of the 95% confidence interval\n",
    "# 95% CI percentiles to 0.025 and 0.975\n",
    "confidence_lower = sorted_scores[int(0.025 * len(sorted_scores))]\n",
    "confidence_upper = sorted_scores[int(0.975 * len(sorted_scores))]\n",
    "print(\"95% Confidence interval for the score: [{:0.3f} - {:0.3}]\".format(\n",
    "    confidence_lower, confidence_upper))\n",
    "\n",
    "# Plotting ROC curve\n",
    "#fig = plt.figure(1, figsize=(4,4))\n",
    "plt.subplot(1,2,2)\n",
    "plt.title('Receiver Operating Characteristic', size=14)\n",
    "plt.plot(fpr, tpr, 'b', label='AUC={0:0.2f} 95%CI: [{1:0.2f},{2:0.2f}]'.format(roc_auc, confidence_lower, confidence_upper))\n",
    "plt.legend(loc='lower right', prop={'size':10})\n",
    "plt.plot([0,1],[0,1],'r--')\n",
    "plt.xlim([-0.1,1.1])\n",
    "plt.ylim([-0.1,1.1])\n",
    "plt.ylabel('True Positive Rate')\n",
    "plt.xlabel('False Positive Rate')\n",
    "plt.savefig(\"SpMAX4_ROC_with_histogram.png\", dpi=200)\n",
    "plt.savefig(\"SpMAX4_ROC_with_histogram.svg\")"
   ]
  },
  {
   "cell_type": "code",
   "execution_count": 11,
   "metadata": {
    "collapsed": false
   },
   "outputs": [
    {
     "data": {
      "image/png": "[encoded data removed]",
      "text/plain": [
       "<matplotlib.figure.Figure at 0x1192e7bd0>"
      ]
     },
     "metadata": {},
     "output_type": "display_data"
    }
   ],
   "source": [
    "# Plotting ROC curve\n",
    "fig = plt.figure(1, figsize=(4,4))\n",
    "plt.title('Receiver Operating Characteristic', size=16)\n",
    "plt.plot(fpr, tpr, 'b', label='AUC={0:0.2f} \\n95% CI: [{1:0.2f},{2:0.2f}]'.format(roc_auc, confidence_lower, confidence_upper))\n",
    "plt.legend(loc='lower right', prop={'size':13})\n",
    "plt.plot([0,1],[0,1],'r--')\n",
    "plt.xlim([-0.1,1.1])\n",
    "plt.ylim([-0.1,1.1])\n",
    "plt.ylabel('True Positive Rate')\n",
    "plt.xlabel('False Positive Rate')\n",
    "plt.savefig(\"SpMAX4_ROC.png\", dpi=200)\n",
    "plt.savefig(\"SpMAX4_ROC.svg\")"
   ]
  },
  {
   "cell_type": "markdown",
   "metadata": {},
   "source": [
    "### 5. SpMAX4_Bh(s) Confusion Matrix\n",
    "Threshold for confusion matrix was determined by inflection point of logistic regression."
   ]
  },
  {
   "cell_type": "code",
   "execution_count": 12,
   "metadata": {
    "collapsed": false
   },
   "outputs": [
    {
     "data": {
      "text/html": [
       "<div>\n",
       "<table border=\"1\" class=\"dataframe\">\n",
       "  <thead>\n",
       "    <tr style=\"text-align: right;\">\n",
       "      <th></th>\n",
       "      <th>Drug Name</th>\n",
       "      <th>SpMAX4_Bh(s)</th>\n",
       "      <th>Experimental INP Formation</th>\n",
       "      <th>SpMAX4_Bh(s) Analysis Group</th>\n",
       "      <th>Experimental Category</th>\n",
       "      <th>Pred Category by SpMAX4_Bh(s)</th>\n",
       "    </tr>\n",
       "  </thead>\n",
       "  <tbody>\n",
       "    <tr>\n",
       "      <th>0</th>\n",
       "      <td>ABT737</td>\n",
       "      <td>7.00</td>\n",
       "      <td>Yes</td>\n",
       "      <td>Validation</td>\n",
       "      <td>1</td>\n",
       "      <td>1</td>\n",
       "    </tr>\n",
       "    <tr>\n",
       "      <th>1</th>\n",
       "      <td>Apitolisib</td>\n",
       "      <td>5.01</td>\n",
       "      <td>No</td>\n",
       "      <td>Validation</td>\n",
       "      <td>0</td>\n",
       "      <td>0</td>\n",
       "    </tr>\n",
       "    <tr>\n",
       "      <th>2</th>\n",
       "      <td>Avagacestat</td>\n",
       "      <td>8.00</td>\n",
       "      <td>Yes</td>\n",
       "      <td>Validation</td>\n",
       "      <td>1</td>\n",
       "      <td>1</td>\n",
       "    </tr>\n",
       "    <tr>\n",
       "      <th>3</th>\n",
       "      <td>Avasimibe</td>\n",
       "      <td>4.79</td>\n",
       "      <td>Yes</td>\n",
       "      <td>Validation</td>\n",
       "      <td>1</td>\n",
       "      <td>0</td>\n",
       "    </tr>\n",
       "    <tr>\n",
       "      <th>4</th>\n",
       "      <td>AZD-4547</td>\n",
       "      <td>4.72</td>\n",
       "      <td>No</td>\n",
       "      <td>Validation</td>\n",
       "      <td>0</td>\n",
       "      <td>0</td>\n",
       "    </tr>\n",
       "  </tbody>\n",
       "</table>\n",
       "</div>"
      ],
      "text/plain": [
       "     Drug Name  SpMAX4_Bh(s) Experimental INP Formation  \\\n",
       "0       ABT737          7.00                        Yes   \n",
       "1   Apitolisib          5.01                         No   \n",
       "2  Avagacestat          8.00                        Yes   \n",
       "3    Avasimibe          4.79                        Yes   \n",
       "4     AZD-4547          4.72                         No   \n",
       "\n",
       "  SpMAX4_Bh(s) Analysis Group Experimental Category  \\\n",
       "0                  Validation                     1   \n",
       "1                  Validation                     0   \n",
       "2                  Validation                     1   \n",
       "3                  Validation                     1   \n",
       "4                  Validation                     0   \n",
       "\n",
       "  Pred Category by SpMAX4_Bh(s)  \n",
       "0                             1  \n",
       "1                             0  \n",
       "2                             1  \n",
       "3                             0  \n",
       "4                             0  "
      ]
     },
     "execution_count": 12,
     "metadata": {},
     "output_type": "execute_result"
    }
   ],
   "source": [
    "df_molecules[\"Pred Category by SpMAX4_Bh(s)\"]= None\n",
    "    \n",
    "for i, row in enumerate(df_molecules.iterrows()):\n",
    "    logP = float(df_molecules.ix[i, \"SpMAX4_Bh(s)\"])\n",
    "    #print(logD)\n",
    "    if logP < threshold_SpMAX4:\n",
    "        df_molecules.ix[i, \"Pred Category by SpMAX4_Bh(s)\"] = 0\n",
    "    else:\n",
    "        df_molecules.ix[i, \"Pred Category by SpMAX4_Bh(s)\"] = 1\n",
    "df_molecules.head()"
   ]
  },
  {
   "cell_type": "code",
   "execution_count": 13,
   "metadata": {
    "collapsed": false
   },
   "outputs": [
    {
     "name": "stdout",
     "output_type": "stream",
     "text": [
      "SpMAX4_Bh(s)  \n",
      "Accuracy= 0.98\n",
      "SpMAX4_Bh(s)  threshold= 6.72\n",
      "\n",
      "Predicted   0   1\n",
      "Actual           \n",
      "0          33   0\n",
      "1           1  26 \n",
      "\n"
     ]
    }
   ],
   "source": [
    "exp_NP = df_molecules.ix[:,\"Experimental Category\"].astype(int)\n",
    "pred_NP = df_molecules.ix[:, \"Pred Category by SpMAX4_Bh(s)\"].astype(int)\n",
    "\n",
    "actual = pd.Series(exp_NP, name= \"Actual\")\n",
    "predicted = pd.Series(pred_NP, name= \"Predicted\")\n",
    "df_confusion = pd.crosstab(actual, predicted)\n",
    "    \n",
    "# Accuracy = (TP+TN)/(TP+TN+FP+FN)\n",
    "TP = df_confusion.ix[1,1]\n",
    "TN = df_confusion.ix[0,0]\n",
    "FP = df_confusion.ix[0,1]\n",
    "FN = df_confusion.ix[1,0]\n",
    "    \n",
    "accuracy = (TP+TN)/(TP+TN+FP+FN)\n",
    "    \n",
    "print(\"SpMAX4_Bh(s) \", \"\\nAccuracy= {:.2f}\".format(accuracy))\n",
    "print(\"SpMAX4_Bh(s)  threshold= {:.2f}\\n\".format(threshold_SpMAX4))\n",
    "print(df_confusion, \"\\n\")"
   ]
  }
 ],
 "metadata": {
  "kernelspec": {
   "display_name": "Python 2",
   "language": "python",
   "name": "python2"
  },
  "language_info": {
   "codemirror_mode": {
    "name": "ipython",
    "version": 2
   },
   "file_extension": ".py",
   "mimetype": "text/x-python",
   "name": "python",
   "nbconvert_exporter": "python",
   "pygments_lexer": "ipython2",
   "version": "2.7.12"
  }
 },
 "nbformat": 4,
 "nbformat_minor": 0
}
