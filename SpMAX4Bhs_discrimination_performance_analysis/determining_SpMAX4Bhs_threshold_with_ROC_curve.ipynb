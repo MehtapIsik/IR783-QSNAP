{
 "cells": [
  {
   "cell_type": "markdown",
   "metadata": {},
   "source": [
    "## ROC Analysis to Determine of Optimum Threshold for SpMAX4_Bh(s)\n",
    "In this notebook, ROC curve was analyzed to determine optimum SpMAX4_Bh(s) threshold for classifying INP former and non-former drugs. We included all experimental data we have gathered until now (N=60). \n",
    "\n",
    "Our criteria for optimum threshold value was the point that maximizes sum of specificity and sensitivity.  \n",
    "           sensitivity + specificity = true  positive  rate - false  positive rate."
   ]
  },
  {
   "cell_type": "code",
   "execution_count": 1,
   "metadata": {
    "collapsed": true
   },
   "outputs": [],
   "source": [
    "import pandas as pd\n",
    "import numpy as np\n",
    "import os\n",
    "import re\n",
    "from __future__ import print_function, division\n",
    "import matplotlib.pyplot as plt\n",
    "%matplotlib inline"
   ]
  },
  {
   "cell_type": "markdown",
   "metadata": {},
   "source": [
    "#### Import experimental data and descriptor values"
   ]
  },
  {
   "cell_type": "code",
   "execution_count": 2,
   "metadata": {
    "collapsed": false
   },
   "outputs": [
    {
     "data": {
      "text/html": [
       "<div>\n",
       "<table border=\"1\" class=\"dataframe\">\n",
       "  <thead>\n",
       "    <tr style=\"text-align: right;\">\n",
       "      <th></th>\n",
       "      <th>Drug Name</th>\n",
       "      <th>SpMAX4_Bh(s)</th>\n",
       "      <th>Experimental INP Formation</th>\n",
       "      <th>SpMAX4_Bh(s) Analysis Group</th>\n",
       "    </tr>\n",
       "  </thead>\n",
       "  <tbody>\n",
       "    <tr>\n",
       "      <th>0</th>\n",
       "      <td>ABT737</td>\n",
       "      <td>7.00</td>\n",
       "      <td>Yes</td>\n",
       "      <td>Validation</td>\n",
       "    </tr>\n",
       "    <tr>\n",
       "      <th>1</th>\n",
       "      <td>Apitolisib</td>\n",
       "      <td>5.01</td>\n",
       "      <td>No</td>\n",
       "      <td>Validation</td>\n",
       "    </tr>\n",
       "    <tr>\n",
       "      <th>2</th>\n",
       "      <td>Avagacestat</td>\n",
       "      <td>8.00</td>\n",
       "      <td>Yes</td>\n",
       "      <td>Validation</td>\n",
       "    </tr>\n",
       "    <tr>\n",
       "      <th>3</th>\n",
       "      <td>Avasimibe</td>\n",
       "      <td>4.79</td>\n",
       "      <td>Yes</td>\n",
       "      <td>Validation</td>\n",
       "    </tr>\n",
       "    <tr>\n",
       "      <th>4</th>\n",
       "      <td>AZD-4547</td>\n",
       "      <td>4.72</td>\n",
       "      <td>No</td>\n",
       "      <td>Validation</td>\n",
       "    </tr>\n",
       "  </tbody>\n",
       "</table>\n",
       "</div>"
      ],
      "text/plain": [
       "     Drug Name  SpMAX4_Bh(s) Experimental INP Formation  \\\n",
       "0       ABT737          7.00                        Yes   \n",
       "1   Apitolisib          5.01                         No   \n",
       "2  Avagacestat          8.00                        Yes   \n",
       "3    Avasimibe          4.79                        Yes   \n",
       "4     AZD-4547          4.72                         No   \n",
       "\n",
       "  SpMAX4_Bh(s) Analysis Group  \n",
       "0                  Validation  \n",
       "1                  Validation  \n",
       "2                  Validation  \n",
       "3                  Validation  \n",
       "4                  Validation  "
      ]
     },
     "execution_count": 2,
     "metadata": {},
     "output_type": "execute_result"
    }
   ],
   "source": [
    "df_molecules = pd.read_csv(\"experimental_dataset_N60_SpMAX4Bhs.csv\")\n",
    "df_molecules.head()"
   ]
  },
  {
   "cell_type": "code",
   "execution_count": 3,
   "metadata": {
    "collapsed": false
   },
   "outputs": [
    {
     "data": {
      "text/html": [
       "<div>\n",
       "<table border=\"1\" class=\"dataframe\">\n",
       "  <thead>\n",
       "    <tr style=\"text-align: right;\">\n",
       "      <th></th>\n",
       "      <th>Drug Name</th>\n",
       "      <th>SpMAX4_Bh(s)</th>\n",
       "      <th>Experimental INP Formation</th>\n",
       "      <th>SpMAX4_Bh(s) Analysis Group</th>\n",
       "      <th>Experimental Category</th>\n",
       "    </tr>\n",
       "  </thead>\n",
       "  <tbody>\n",
       "    <tr>\n",
       "      <th>0</th>\n",
       "      <td>ABT737</td>\n",
       "      <td>7.00</td>\n",
       "      <td>Yes</td>\n",
       "      <td>Validation</td>\n",
       "      <td>1</td>\n",
       "    </tr>\n",
       "    <tr>\n",
       "      <th>1</th>\n",
       "      <td>Apitolisib</td>\n",
       "      <td>5.01</td>\n",
       "      <td>No</td>\n",
       "      <td>Validation</td>\n",
       "      <td>0</td>\n",
       "    </tr>\n",
       "    <tr>\n",
       "      <th>2</th>\n",
       "      <td>Avagacestat</td>\n",
       "      <td>8.00</td>\n",
       "      <td>Yes</td>\n",
       "      <td>Validation</td>\n",
       "      <td>1</td>\n",
       "    </tr>\n",
       "    <tr>\n",
       "      <th>3</th>\n",
       "      <td>Avasimibe</td>\n",
       "      <td>4.79</td>\n",
       "      <td>Yes</td>\n",
       "      <td>Validation</td>\n",
       "      <td>1</td>\n",
       "    </tr>\n",
       "    <tr>\n",
       "      <th>4</th>\n",
       "      <td>AZD-4547</td>\n",
       "      <td>4.72</td>\n",
       "      <td>No</td>\n",
       "      <td>Validation</td>\n",
       "      <td>0</td>\n",
       "    </tr>\n",
       "  </tbody>\n",
       "</table>\n",
       "</div>"
      ],
      "text/plain": [
       "     Drug Name  SpMAX4_Bh(s) Experimental INP Formation  \\\n",
       "0       ABT737          7.00                        Yes   \n",
       "1   Apitolisib          5.01                         No   \n",
       "2  Avagacestat          8.00                        Yes   \n",
       "3    Avasimibe          4.79                        Yes   \n",
       "4     AZD-4547          4.72                         No   \n",
       "\n",
       "  SpMAX4_Bh(s) Analysis Group Experimental Category  \n",
       "0                  Validation                     1  \n",
       "1                  Validation                     0  \n",
       "2                  Validation                     1  \n",
       "3                  Validation                     1  \n",
       "4                  Validation                     0  "
      ]
     },
     "execution_count": 3,
     "metadata": {},
     "output_type": "execute_result"
    }
   ],
   "source": [
    "df_molecules[\"Experimental Category\"]=None\n",
    "\n",
    "for i,row in enumerate(df_molecules.iterrows()):\n",
    "    if df_molecules.ix[i,\"Experimental INP Formation\"] == \"Yes\" :\n",
    "        df_molecules.ix[i, \"Experimental Category\"] = 1\n",
    "    else:\n",
    "        df_molecules.ix[i, \"Experimental Category\"] = 0\n",
    "\n",
    "df_molecules.head()"
   ]
  },
  {
   "cell_type": "markdown",
   "metadata": {},
   "source": [
    "### 1. SpMAX4_Bh(s) Logistic Regression"
   ]
  },
  {
   "cell_type": "code",
   "execution_count": 4,
   "metadata": {
    "collapsed": false,
    "scrolled": true
   },
   "outputs": [
    {
     "data": {
      "text/plain": [
       "LogisticRegression(C=1.0, class_weight=None, dual=False, fit_intercept=True,\n",
       "          intercept_scaling=1, max_iter=100, multi_class='ovr', n_jobs=1,\n",
       "          penalty='l2', random_state=None, solver='liblinear', tol=0.0001,\n",
       "          verbose=0, warm_start=False)"
      ]
     },
     "execution_count": 4,
     "metadata": {},
     "output_type": "execute_result"
    }
   ],
   "source": [
    "# independent variable\n",
    "X_train = df_molecules[\"SpMAX4_Bh(s)\"].reshape(-1, 1)\n",
    "\n",
    "# dependent classification\n",
    "y_train = np.array(df_molecules.ix[:,\"Experimental Category\"], dtype=int)\n",
    "\n",
    "# train a logistic regression model on the training set\n",
    "from sklearn.linear_model import LogisticRegression\n",
    "logreg = LogisticRegression()\n",
    "logreg.fit(X_train, y_train)"
   ]
  },
  {
   "cell_type": "code",
   "execution_count": 5,
   "metadata": {
    "collapsed": false
   },
   "outputs": [
    {
     "name": "stdout",
     "output_type": "stream",
     "text": [
      "True: [1 0 1 1 0 0 0 1 0 1 0 0 1 0 1 1 1 0 1 0 1 0 1 1 0 0 0 0 0 0 0 1 0 1 0]\n",
      "Pred: [1 0 1 0 0 1 0 1 0 1 0 0 1 0 1 1 1 0 1 1 1 0 1 1 0 0 0 0 0 0 0 1 0 1 0]\n"
     ]
    }
   ],
   "source": [
    "# make class predictions for the training set\n",
    "y_pred_class = logreg.predict(X_train)\n",
    "\n",
    "# print first 35 observations and prediction classes\n",
    "print('True:', y_train[0:35])\n",
    "print('Pred:', y_pred_class[0:35])"
   ]
  },
  {
   "cell_type": "code",
   "execution_count": 6,
   "metadata": {
    "collapsed": false
   },
   "outputs": [
    {
     "data": {
      "text/plain": [
       "array([ 0.64992968,  0.36211724,  0.77103518,  0.33243725,  0.32325288,\n",
       "        0.57375666,  0.35254593,  0.70325757,  0.35937101,  0.74142688,\n",
       "        0.26994532,  0.26527731,  0.74028371,  0.351188  ,  0.70573672,\n",
       "        0.77103518,  0.77103518,  0.31677456,  0.70449866,  0.57084174,\n",
       "        0.77103518,  0.32848497,  0.70325757,  0.64992968,  0.3377438 ,\n",
       "        0.32717288,  0.351188  ,  0.37737887,  0.38722116,  0.34712871,\n",
       "        0.38439927,  0.70573672,  0.32195167,  0.70573672,  0.32848497,\n",
       "        0.35800133,  0.70573672,  0.30655614,  0.70449866,  0.77103518,\n",
       "        0.77103518,  0.36074299,  0.35663396,  0.70573672,  0.33641327,\n",
       "        0.69574828,  0.77103518,  0.37040953,  0.70449866,  0.3457805 ,\n",
       "        0.29281169,  0.26994532,  0.70573672,  0.3377438 ,  0.70697176,\n",
       "        0.70573672,  0.64992968,  0.29528373,  0.31036653,  0.34847937])"
      ]
     },
     "execution_count": 6,
     "metadata": {},
     "output_type": "execute_result"
    }
   ],
   "source": [
    "# store the predicted probabilities for class 1\n",
    "y_pred_prob = logreg.predict_proba(X_train)[:, 1]\n",
    "y_pred_prob"
   ]
  },
  {
   "cell_type": "markdown",
   "metadata": {},
   "source": [
    "### 2. SpMAX4_Bh(s) ROC analysis for threshold determination"
   ]
  },
  {
   "cell_type": "code",
   "execution_count": 7,
   "metadata": {
    "collapsed": false
   },
   "outputs": [
    {
     "data": {
      "image/png": "[encoded data removed]",
      "text/plain": [
       "<matplotlib.figure.Figure at 0x114f5cf10>"
      ]
     },
     "metadata": {},
     "output_type": "display_data"
    }
   ],
   "source": [
    "from sklearn import metrics\n",
    "\n",
    "# IMPORTANT: first argument is true values, second argument is predicted probabilities\n",
    "fpr, tpr, thresholds = metrics.roc_curve(y_train, y_pred_prob)\n",
    "plt.plot(fpr, tpr)\n",
    "plt.xlim([-0.01, 1.01])\n",
    "plt.ylim([-0.01, 1.01])\n",
    "plt.title('ROC curve for diabetes classifier')\n",
    "plt.xlabel('False Positive Rate (1 - Specificity)')\n",
    "plt.ylabel('True Positive Rate (Sensitivity)')\n",
    "plt.grid(True)"
   ]
  },
  {
   "cell_type": "code",
   "execution_count": 8,
   "metadata": {
    "collapsed": false
   },
   "outputs": [
    {
     "name": "stdout",
     "output_type": "stream",
     "text": [
      "TPR: [ 0.25925926  0.37037037  0.62962963  0.74074074  0.81481481  0.85185185\n",
      "  0.96296296  0.96296296  0.96296296  0.96296296  0.96296296  0.96296296\n",
      "  1.          1.          1.          1.          1.        ]\n",
      "FPR: [ 0.          0.          0.          0.          0.          0.          0.\n",
      "  0.36363636  0.42424242  0.51515152  0.57575758  0.60606061  0.60606061\n",
      "  0.66666667  0.90909091  0.96969697  1.        ]\n",
      "Thresholds: [ 0.77103518  0.70697176  0.70573672  0.70449866  0.70325757  0.69574828\n",
      "  0.64992968  0.35254593  0.351188    0.3457805   0.3377438   0.33641327\n",
      "  0.33243725  0.32848497  0.29281169  0.26994532  0.26527731]\n"
     ]
    }
   ],
   "source": [
    "print(\"TPR:\", tpr)\n",
    "print(\"FPR:\", fpr)\n",
    "print(\"Thresholds:\", thresholds)"
   ]
  },
  {
   "cell_type": "code",
   "execution_count": 9,
   "metadata": {
    "collapsed": false
   },
   "outputs": [
    {
     "name": "stdout",
     "output_type": "stream",
     "text": [
      "Optimum threshold probability:  0.649929682293\n",
      "SpMAX4_Bh(s) threshold:  7.01\n"
     ]
    }
   ],
   "source": [
    "# Optimum threshold criteria is maximum specificity and sensitivity.\n",
    "sum_of_specificity_and_sensitivity = np.full(thresholds.size, np.nan)\n",
    "\n",
    "for i, threshold in enumerate(np.nditer(thresholds)):\n",
    "    # print(i, threshold)\n",
    "    sensitivity = tpr[i]\n",
    "    specificity = 1 - fpr[i]\n",
    "    sum_of_specificity_and_sensitivity[i] = sensitivity + specificity\n",
    "\n",
    "# Determine optimum threshold based on maximum specificity and sensitivity\n",
    "optimum_threshold_probability = thresholds[sum_of_specificity_and_sensitivity == max(sum_of_specificity_and_sensitivity)]\n",
    "print(\"Optimum threshold probability: \", optimum_threshold_probability[0])\n",
    "\n",
    "# Let's find the NHISS threshold value that corresponds to threshold probability\n",
    "SPMAX4_range = np.arange(min(X_train)[0], max(X_train)[0], 0.01)\n",
    "for SPMAX4 in SPMAX4_range:\n",
    "    #print(SPMAX4)\n",
    "    probability = logreg.predict_proba(SPMAX4)[0][1]\n",
    "    if probability >= optimum_threshold_probability:\n",
    "        print(\"SpMAX4_Bh(s) threshold: \", SPMAX4)\n",
    "        break"
   ]
  }
 ],
 "metadata": {
  "kernelspec": {
   "display_name": "Python 2",
   "language": "python",
   "name": "python2"
  },
  "language_info": {
   "codemirror_mode": {
    "name": "ipython",
    "version": 2
   },
   "file_extension": ".py",
   "mimetype": "text/x-python",
   "name": "python",
   "nbconvert_exporter": "python",
   "pygments_lexer": "ipython2",
   "version": "2.7.12"
  }
 },
 "nbformat": 4,
 "nbformat_minor": 0
}
