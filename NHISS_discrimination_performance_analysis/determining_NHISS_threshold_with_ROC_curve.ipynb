{
 "cells": [
  {
   "cell_type": "markdown",
   "metadata": {},
   "source": [
    "## ROC Analysis to Determine of Optimum Threshold for NHISS \n",
    "In this notebook, ROC curve was analyzed to determine optimum NHISS threshold for classifying INP former and non-former drugs. We included all experimental data we have gathered until now (N=60).  \n",
    "Our criteria for optimum threshold value was the point that maximizes sum of specificity and sensitivity.  \n",
    "sensitivity + specificity = true positive rate - false positive rate."
   ]
  },
  {
   "cell_type": "code",
   "execution_count": 1,
   "metadata": {
    "collapsed": true
   },
   "outputs": [],
   "source": [
    "import pandas as pd\n",
    "import numpy as np\n",
    "import os\n",
    "import re\n",
    "from __future__ import print_function, division\n",
    "import matplotlib.pyplot as plt\n",
    "%matplotlib inline"
   ]
  },
  {
   "cell_type": "markdown",
   "metadata": {},
   "source": [
    "#### Import experimental data and NHISS values"
   ]
  },
  {
   "cell_type": "code",
   "execution_count": 5,
   "metadata": {
    "collapsed": false
   },
   "outputs": [
    {
     "data": {
      "text/html": [
       "<div>\n",
       "<table border=\"1\" class=\"dataframe\">\n",
       "  <thead>\n",
       "    <tr style=\"text-align: right;\">\n",
       "      <th></th>\n",
       "      <th>Unnamed: 0</th>\n",
       "      <th>File Name</th>\n",
       "      <th>NAME</th>\n",
       "      <th>smiles</th>\n",
       "      <th>F</th>\n",
       "      <th>carbonyl</th>\n",
       "      <th>sulfinyl</th>\n",
       "      <th>sulfonyl</th>\n",
       "      <th>nitroso</th>\n",
       "      <th>nitro</th>\n",
       "      <th>SpMAX4_Bh(s)</th>\n",
       "      <th>Experimental INP Formation</th>\n",
       "      <th>SpMAX4_Bh(s) Analysis Group</th>\n",
       "      <th>NHISS</th>\n",
       "      <th>Experimental Category</th>\n",
       "    </tr>\n",
       "  </thead>\n",
       "  <tbody>\n",
       "    <tr>\n",
       "      <th>0</th>\n",
       "      <td>0</td>\n",
       "      <td>ABT737.mol</td>\n",
       "      <td>ABT737</td>\n",
       "      <td>CN(C)CC[C@@H](CSc1ccccc1)Nc2ccc(cc2[N+](=O)[O-...</td>\n",
       "      <td>0</td>\n",
       "      <td>1</td>\n",
       "      <td>0</td>\n",
       "      <td>1</td>\n",
       "      <td>0</td>\n",
       "      <td>1</td>\n",
       "      <td>7.00</td>\n",
       "      <td>Yes</td>\n",
       "      <td>Validation</td>\n",
       "      <td>5</td>\n",
       "      <td>1</td>\n",
       "    </tr>\n",
       "    <tr>\n",
       "      <th>1</th>\n",
       "      <td>1</td>\n",
       "      <td>AZD-4547.mol</td>\n",
       "      <td>AZD-4547</td>\n",
       "      <td>C[C@@H]1CN(C[C@@H](N1)C)c2ccc(cc2)C(=O)Nc3cc([...</td>\n",
       "      <td>0</td>\n",
       "      <td>1</td>\n",
       "      <td>0</td>\n",
       "      <td>0</td>\n",
       "      <td>0</td>\n",
       "      <td>0</td>\n",
       "      <td>4.72</td>\n",
       "      <td>No</td>\n",
       "      <td>Validation</td>\n",
       "      <td>1</td>\n",
       "      <td>0</td>\n",
       "    </tr>\n",
       "    <tr>\n",
       "      <th>2</th>\n",
       "      <td>2</td>\n",
       "      <td>Apitolisib.mol</td>\n",
       "      <td>Apitolisib</td>\n",
       "      <td>Cc1c(sc2c1nc(nc2N3CCOCC3)c4cnc(nc4)N)CN5CCN(CC...</td>\n",
       "      <td>0</td>\n",
       "      <td>1</td>\n",
       "      <td>0</td>\n",
       "      <td>0</td>\n",
       "      <td>0</td>\n",
       "      <td>0</td>\n",
       "      <td>5.01</td>\n",
       "      <td>No</td>\n",
       "      <td>Validation</td>\n",
       "      <td>1</td>\n",
       "      <td>0</td>\n",
       "    </tr>\n",
       "    <tr>\n",
       "      <th>3</th>\n",
       "      <td>3</td>\n",
       "      <td>Avagacestat.mol</td>\n",
       "      <td>Avagacestat</td>\n",
       "      <td>c1cc(ccc1S(=O)(=O)[N@@](Cc2ccc(cc2F)c3ncon3)[C...</td>\n",
       "      <td>4</td>\n",
       "      <td>1</td>\n",
       "      <td>0</td>\n",
       "      <td>1</td>\n",
       "      <td>0</td>\n",
       "      <td>0</td>\n",
       "      <td>8.00</td>\n",
       "      <td>Yes</td>\n",
       "      <td>Validation</td>\n",
       "      <td>7</td>\n",
       "      <td>1</td>\n",
       "    </tr>\n",
       "    <tr>\n",
       "      <th>4</th>\n",
       "      <td>4</td>\n",
       "      <td>Avasimibe.mol</td>\n",
       "      <td>Avasimibe</td>\n",
       "      <td>CC(C)c1cccc(c1OS(=O)(=O)NC(=O)Cc2c(cc(cc2C(C)C...</td>\n",
       "      <td>0</td>\n",
       "      <td>1</td>\n",
       "      <td>0</td>\n",
       "      <td>1</td>\n",
       "      <td>0</td>\n",
       "      <td>0</td>\n",
       "      <td>4.79</td>\n",
       "      <td>Yes</td>\n",
       "      <td>Validation</td>\n",
       "      <td>3</td>\n",
       "      <td>1</td>\n",
       "    </tr>\n",
       "  </tbody>\n",
       "</table>\n",
       "</div>"
      ],
      "text/plain": [
       "   Unnamed: 0        File Name         NAME  \\\n",
       "0           0       ABT737.mol       ABT737   \n",
       "1           1     AZD-4547.mol     AZD-4547   \n",
       "2           2   Apitolisib.mol   Apitolisib   \n",
       "3           3  Avagacestat.mol  Avagacestat   \n",
       "4           4    Avasimibe.mol    Avasimibe   \n",
       "\n",
       "                                              smiles  F  carbonyl  sulfinyl  \\\n",
       "0  CN(C)CC[C@@H](CSc1ccccc1)Nc2ccc(cc2[N+](=O)[O-...  0         1         0   \n",
       "1  C[C@@H]1CN(C[C@@H](N1)C)c2ccc(cc2)C(=O)Nc3cc([...  0         1         0   \n",
       "2  Cc1c(sc2c1nc(nc2N3CCOCC3)c4cnc(nc4)N)CN5CCN(CC...  0         1         0   \n",
       "3  c1cc(ccc1S(=O)(=O)[N@@](Cc2ccc(cc2F)c3ncon3)[C...  4         1         0   \n",
       "4  CC(C)c1cccc(c1OS(=O)(=O)NC(=O)Cc2c(cc(cc2C(C)C...  0         1         0   \n",
       "\n",
       "   sulfonyl  nitroso  nitro  SpMAX4_Bh(s) Experimental INP Formation  \\\n",
       "0         1        0      1          7.00                        Yes   \n",
       "1         0        0      0          4.72                         No   \n",
       "2         0        0      0          5.01                         No   \n",
       "3         1        0      0          8.00                        Yes   \n",
       "4         1        0      0          4.79                        Yes   \n",
       "\n",
       "  SpMAX4_Bh(s) Analysis Group  NHISS Experimental Category  \n",
       "0                  Validation      5                     1  \n",
       "1                  Validation      1                     0  \n",
       "2                  Validation      1                     0  \n",
       "3                  Validation      7                     1  \n",
       "4                  Validation      3                     1  "
      ]
     },
     "execution_count": 5,
     "metadata": {},
     "output_type": "execute_result"
    }
   ],
   "source": [
    "df_molecules = pd.read_csv(\"df_molecules.csv\")\n",
    "df_molecules.head()\n",
    "\n",
    "df_molecules[\"Experimental Category\"]=None\n",
    "\n",
    "for i,row in enumerate(df_molecules.iterrows()):\n",
    "    if df_molecules.ix[i,\"Experimental INP Formation\"] == \"Yes\" :\n",
    "        df_molecules.ix[i, \"Experimental Category\"] = int(1)\n",
    "    else:\n",
    "        df_molecules.ix[i, \"Experimental Category\"] = int(0)\n",
    "\n",
    "df_molecules.head()"
   ]
  },
  {
   "cell_type": "markdown",
   "metadata": {},
   "source": [
    "### 1. NHISS Logistic Regression"
   ]
  },
  {
   "cell_type": "code",
   "execution_count": 6,
   "metadata": {
    "collapsed": false
   },
   "outputs": [
    {
     "data": {
      "text/plain": [
       "LogisticRegression(C=1.0, class_weight=None, dual=False, fit_intercept=True,\n",
       "          intercept_scaling=1, max_iter=100, multi_class='ovr', n_jobs=1,\n",
       "          penalty='l2', random_state=None, solver='liblinear', tol=0.0001,\n",
       "          verbose=0, warm_start=False)"
      ]
     },
     "execution_count": 6,
     "metadata": {},
     "output_type": "execute_result"
    }
   ],
   "source": [
    "# independent variable\n",
    "X_train = df_molecules[\"NHISS\"].reshape(-1, 1)\n",
    "\n",
    "# dependent classification\n",
    "y_train = np.array(df_molecules.ix[:,\"Experimental Category\"], dtype=int)\n",
    "\n",
    "# train a logistic regression model on the training set\n",
    "from sklearn.linear_model import LogisticRegression\n",
    "logreg = LogisticRegression()\n",
    "logreg.fit(X_train, y_train)"
   ]
  },
  {
   "cell_type": "code",
   "execution_count": 7,
   "metadata": {
    "collapsed": false
   },
   "outputs": [
    {
     "name": "stdout",
     "output_type": "stream",
     "text": [
      "True: [1 0 0 1 1 1 0 0 1 0 0 1 0 1 1 1 0 1 0 1 0 1 1 0 0 0 0 0 0 0 1 0 1 0 0]\n",
      "Pred: [1 0 0 1 1 1 0 0 1 0 0 1 0 1 1 1 0 1 0 1 0 1 1 0 0 0 1 0 0 1 1 0 1 0 0]\n"
     ]
    }
   ],
   "source": [
    "# make class predictions for the training set\n",
    "y_pred_class = logreg.predict(X_train)\n",
    "\n",
    "# print first 35 observations and prediction classes\n",
    "print('True:', y_train[0:35])\n",
    "print('Pred:', y_pred_class[0:35])"
   ]
  },
  {
   "cell_type": "code",
   "execution_count": 8,
   "metadata": {
    "collapsed": false
   },
   "outputs": [
    {
     "data": {
      "text/plain": [
       "array([ 0.90229763,  0.11929723,  0.11929723,  0.9870558 ,  0.52796037,\n",
       "        0.76269073,  0.04501791,  0.2801794 ,  0.90229763,  0.04501791,\n",
       "        0.04501791,  0.90229763,  0.11929723,  0.90229763,  0.99545698,\n",
       "        0.96368553,  0.04501791,  0.90229763,  0.2801794 ,  0.9870558 ,\n",
       "        0.11929723,  0.90229763,  0.76269073,  0.04501791,  0.2801794 ,\n",
       "        0.11929723,  0.52796037,  0.11929723,  0.2801794 ,  0.52796037,\n",
       "        0.76269073,  0.04501791,  0.96368553,  0.11929723,  0.2801794 ,\n",
       "        0.90229763,  0.04501791,  0.99545698,  0.90229763,  0.96368553,\n",
       "        0.2801794 ,  0.11929723,  0.90229763,  0.52796037,  0.96368553,\n",
       "        0.76269073,  0.52796037,  0.76269073,  0.11929723,  0.11929723,\n",
       "        0.04501791,  0.90229763,  0.2801794 ,  0.99545698,  0.90229763,\n",
       "        0.90229763,  0.04501791,  0.11929723,  0.2801794 ])"
      ]
     },
     "execution_count": 8,
     "metadata": {},
     "output_type": "execute_result"
    }
   ],
   "source": [
    "# store the predicted probabilities for class 1\n",
    "y_pred_prob = logreg.predict_proba(X_train)[:, 1]\n",
    "y_pred_prob"
   ]
  },
  {
   "cell_type": "markdown",
   "metadata": {},
   "source": [
    "### 2. NHISS ROC Curve Analysis for threshold determination"
   ]
  },
  {
   "cell_type": "code",
   "execution_count": 12,
   "metadata": {
    "collapsed": false
   },
   "outputs": [
    {
     "data": {
      "image/png": "[encoded data removed]",
      "text/plain": [
       "<matplotlib.figure.Figure at 0x117d50050>"
      ]
     },
     "metadata": {},
     "output_type": "display_data"
    }
   ],
   "source": [
    "from sklearn import metrics\n",
    "\n",
    "# IMPORTANT: first argument is true values, second argument is predicted probabilities\n",
    "fpr, tpr, thresholds = metrics.roc_curve(y_train, y_pred_prob)\n",
    "plt.plot(fpr, tpr)\n",
    "plt.xlim([-0.01, 1.01])\n",
    "plt.ylim([-0.01, 1.01])\n",
    "plt.title('ROC curve for diabetes classifier')\n",
    "plt.xlabel('False Positive Rate (1 - Specificity)')\n",
    "plt.ylabel('True Positive Rate (Sensitivity)')\n",
    "plt.grid(True)"
   ]
  },
  {
   "cell_type": "code",
   "execution_count": 13,
   "metadata": {
    "collapsed": false
   },
   "outputs": [
    {
     "name": "stdout",
     "output_type": "stream",
     "text": [
      "TPR: [ 0.11111111  0.18518519  0.33333333  0.77777778  0.96296296  1.          1.\n",
      "  1.          1.        ]\n",
      "FPR: [ 0.       0.       0.       0.       0.       0.125    0.375    0.71875\n",
      "  1.     ]\n",
      "Tresholds: [ 0.99545698  0.9870558   0.96368553  0.90229763  0.76269073  0.52796037\n",
      "  0.2801794   0.11929723  0.04501791]\n"
     ]
    }
   ],
   "source": [
    "print(\"TPR:\", tpr)\n",
    "print(\"FPR:\", fpr)\n",
    "print(\"Tresholds:\", thresholds)"
   ]
  },
  {
   "cell_type": "code",
   "execution_count": 14,
   "metadata": {
    "collapsed": false
   },
   "outputs": [
    {
     "name": "stdout",
     "output_type": "stream",
     "text": [
      "Optimum threshold probability:  0.762690734246\n",
      "NHISS threshold:  4.0\n"
     ]
    }
   ],
   "source": [
    "# Optimum threshold criteria is maximum specificity and sensitivity.\n",
    "sum_of_specificity_and_sensitivity = np.full(thresholds.size, np.nan)\n",
    "\n",
    "for i, threshold in enumerate(np.nditer(thresholds)):\n",
    "    # print(i, threshold)\n",
    "    sensitivity = tpr[i]\n",
    "    specificity = 1 - fpr[i]\n",
    "    sum_of_specificity_and_sensitivity[i] = sensitivity + specificity\n",
    "\n",
    "# Determine optimum threshold based on maximum specificity and sensitivity\n",
    "optimum_threshold_probability = thresholds[sum_of_specificity_and_sensitivity == max(sum_of_specificity_and_sensitivity)]\n",
    "print(\"Optimum threshold probability: \", optimum_threshold_probability[0])\n",
    "\n",
    "# Let's find the NHISS threshold value that corresponds to threshold probability\n",
    "NHISS_range = np.arange(min(X_train)[0], max(X_train)[0], 0.01)\n",
    "\n",
    "for NHISS in NHISS_range:\n",
    "    probability = logreg.predict_proba(NHISS)[0][1]\n",
    "    if probability >= optimum_threshold_probability:\n",
    "        print(\"NHISS threshold: \", NHISS)\n",
    "        break"
   ]
  }
 ],
 "metadata": {
  "kernelspec": {
   "display_name": "Python 2",
   "language": "python",
   "name": "python2"
  },
  "language_info": {
   "codemirror_mode": {
    "name": "ipython",
    "version": 2
   },
   "file_extension": ".py",
   "mimetype": "text/x-python",
   "name": "python",
   "nbconvert_exporter": "python",
   "pygments_lexer": "ipython2",
   "version": "2.7.12"
  }
 },
 "nbformat": 4,
 "nbformat_minor": 0
}
