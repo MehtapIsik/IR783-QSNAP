{
 "cells": [
  {
   "cell_type": "markdown",
   "metadata": {},
   "source": [
    "# NHISS Categorization Analysis of 60 Experimentally Tested Molecules for Indocyanine Nanoparticle Formation\n",
    "\n",
    "Number of High Intrinsic State Substructures (NHISS) is calculated as the total number of functional groups in a molecule with fluorine (-F) and double bonded oxygen (=O).\n",
    "\n",
    "NHISS = fluorine + carbonyl + sulfinyl + 2 * sulfonyl + nitroso + 2 * nitro"
   ]
  },
  {
   "cell_type": "code",
   "execution_count": 1,
   "metadata": {
    "collapsed": true
   },
   "outputs": [],
   "source": [
    "import pandas as pd\n",
    "import numpy as np\n",
    "import os\n",
    "import re\n",
    "from __future__ import print_function, division\n",
    "import matplotlib.pyplot as plt\n",
    "%matplotlib inline"
   ]
  },
  {
   "cell_type": "markdown",
   "metadata": {},
   "source": [
    "### 1. Calculate NHISS descriptor\n",
    "#### Import names of experimentally tested drugs and their mol files. "
   ]
  },
  {
   "cell_type": "code",
   "execution_count": 2,
   "metadata": {
    "collapsed": false
   },
   "outputs": [
    {
     "name": "stdout",
     "output_type": "stream",
     "text": [
      "60\n",
      "['ABT737.mol', 'AZD-4547.mol', 'Apitolisib.mol', 'Avagacestat.mol', 'Avasimibe.mol']\n"
     ]
    }
   ],
   "source": [
    "### Creating dataframe for the list of molecules\n",
    "path = \"./\"\n",
    "filename=\"mol_file_list_N60.txt\"\n",
    "file = open(os.path.join(path, filename), \"r\")\n",
    "\n",
    "filename_list = []\n",
    "for line in file:\n",
    "    filename_list.append(line.split('\\n')[0])\n",
    "\n",
    "print(len(filename_list))\n",
    "print(filename_list[:5])"
   ]
  },
  {
   "cell_type": "code",
   "execution_count": 3,
   "metadata": {
    "collapsed": false
   },
   "outputs": [
    {
     "name": "stdout",
     "output_type": "stream",
     "text": [
      "60\n"
     ]
    },
    {
     "data": {
      "text/html": [
       "<div>\n",
       "<table border=\"1\" class=\"dataframe\">\n",
       "  <thead>\n",
       "    <tr style=\"text-align: right;\">\n",
       "      <th></th>\n",
       "      <th>File Name</th>\n",
       "      <th>NAME</th>\n",
       "    </tr>\n",
       "  </thead>\n",
       "  <tbody>\n",
       "    <tr>\n",
       "      <th>0</th>\n",
       "      <td>ABT737.mol</td>\n",
       "      <td>None</td>\n",
       "    </tr>\n",
       "    <tr>\n",
       "      <th>1</th>\n",
       "      <td>AZD-4547.mol</td>\n",
       "      <td>None</td>\n",
       "    </tr>\n",
       "    <tr>\n",
       "      <th>2</th>\n",
       "      <td>Apitolisib.mol</td>\n",
       "      <td>None</td>\n",
       "    </tr>\n",
       "    <tr>\n",
       "      <th>3</th>\n",
       "      <td>Avagacestat.mol</td>\n",
       "      <td>None</td>\n",
       "    </tr>\n",
       "    <tr>\n",
       "      <th>4</th>\n",
       "      <td>Avasimibe.mol</td>\n",
       "      <td>None</td>\n",
       "    </tr>\n",
       "  </tbody>\n",
       "</table>\n",
       "</div>"
      ],
      "text/plain": [
       "         File Name  NAME\n",
       "0       ABT737.mol  None\n",
       "1     AZD-4547.mol  None\n",
       "2   Apitolisib.mol  None\n",
       "3  Avagacestat.mol  None\n",
       "4    Avasimibe.mol  None"
      ]
     },
     "execution_count": 3,
     "metadata": {},
     "output_type": "execute_result"
    }
   ],
   "source": [
    "df_molecules = pd.DataFrame(filename_list)\n",
    "df_molecules.columns= [\"File Name\"]\n",
    "print(df_molecules.size)\n",
    "\n",
    "df_molecules[\"NAME\"] = None\n",
    "df_molecules.head()"
   ]
  },
  {
   "cell_type": "markdown",
   "metadata": {},
   "source": [
    "#### Create SMILES strings for all molecules\n",
    "This section requires using OpenEye OEChem library, version 2.0.5."
   ]
  },
  {
   "cell_type": "code",
   "execution_count": 4,
   "metadata": {
    "collapsed": false
   },
   "outputs": [
    {
     "data": {
      "text/html": [
       "<div>\n",
       "<table border=\"1\" class=\"dataframe\">\n",
       "  <thead>\n",
       "    <tr style=\"text-align: right;\">\n",
       "      <th></th>\n",
       "      <th>File Name</th>\n",
       "      <th>NAME</th>\n",
       "      <th>smiles</th>\n",
       "    </tr>\n",
       "  </thead>\n",
       "  <tbody>\n",
       "    <tr>\n",
       "      <th>0</th>\n",
       "      <td>ABT737.mol</td>\n",
       "      <td>ABT737</td>\n",
       "      <td>CN(C)CC[C@@H](CSc1ccccc1)Nc2ccc(cc2[N+](=O)[O-...</td>\n",
       "    </tr>\n",
       "    <tr>\n",
       "      <th>1</th>\n",
       "      <td>AZD-4547.mol</td>\n",
       "      <td>AZD-4547</td>\n",
       "      <td>C[C@@H]1CN(C[C@@H](N1)C)c2ccc(cc2)C(=O)Nc3cc([...</td>\n",
       "    </tr>\n",
       "    <tr>\n",
       "      <th>2</th>\n",
       "      <td>Apitolisib.mol</td>\n",
       "      <td>Apitolisib</td>\n",
       "      <td>Cc1c(sc2c1nc(nc2N3CCOCC3)c4cnc(nc4)N)CN5CCN(CC...</td>\n",
       "    </tr>\n",
       "    <tr>\n",
       "      <th>3</th>\n",
       "      <td>Avagacestat.mol</td>\n",
       "      <td>Avagacestat</td>\n",
       "      <td>c1cc(ccc1S(=O)(=O)[N@@](Cc2ccc(cc2F)c3ncon3)[C...</td>\n",
       "    </tr>\n",
       "    <tr>\n",
       "      <th>4</th>\n",
       "      <td>Avasimibe.mol</td>\n",
       "      <td>Avasimibe</td>\n",
       "      <td>CC(C)c1cccc(c1OS(=O)(=O)NC(=O)Cc2c(cc(cc2C(C)C...</td>\n",
       "    </tr>\n",
       "  </tbody>\n",
       "</table>\n",
       "</div>"
      ],
      "text/plain": [
       "         File Name         NAME  \\\n",
       "0       ABT737.mol       ABT737   \n",
       "1     AZD-4547.mol     AZD-4547   \n",
       "2   Apitolisib.mol   Apitolisib   \n",
       "3  Avagacestat.mol  Avagacestat   \n",
       "4    Avasimibe.mol    Avasimibe   \n",
       "\n",
       "                                              smiles  \n",
       "0  CN(C)CC[C@@H](CSc1ccccc1)Nc2ccc(cc2[N+](=O)[O-...  \n",
       "1  C[C@@H]1CN(C[C@@H](N1)C)c2ccc(cc2)C(=O)Nc3cc([...  \n",
       "2  Cc1c(sc2c1nc(nc2N3CCOCC3)c4cnc(nc4)N)CN5CCN(CC...  \n",
       "3  c1cc(ccc1S(=O)(=O)[N@@](Cc2ccc(cc2F)c3ncon3)[C...  \n",
       "4  CC(C)c1cccc(c1OS(=O)(=O)NC(=O)Cc2c(cc(cc2C(C)C...  "
      ]
     },
     "execution_count": 4,
     "metadata": {},
     "output_type": "execute_result"
    }
   ],
   "source": [
    "from openeye import oechem, oedepict\n",
    "\n",
    "df_molecules[\"smiles\"] = None\n",
    "\n",
    "ifs = oechem.oemolistream()\n",
    "ofs = oechem.oemolostream()\n",
    "\n",
    "ifs.SetFormat(oechem.OEFormat_MOL2)\n",
    "ofs.SetFormat(oechem.OEFormat_SMI)\n",
    "\n",
    "for i, row in enumerate(df_molecules.iterrows()):\n",
    "    df_molecules.ix[i,\"NAME\"] = re.split(\"[.]\", df_molecules.ix[i,\"File Name\"])[0]\n",
    "    \n",
    "    file_name = df_molecules.ix[i,0]\n",
    "    mol_file_path = \"./mol_files_of_60_drugs/\"\n",
    "    this_path = os.path.join(mol_file_path, file_name)\n",
    "    mol_file = ifs.open(os.path.join(this_path))\n",
    "   \n",
    "    for mol in ifs.GetOEGraphMols():\n",
    "        #print (\"Number of atoms:\", mol.NumAtoms())\n",
    "        #print (\"Canonical isomeric SMILES:\", OEMolToSmiles(mol))\n",
    "        df_molecules.ix[i,\"smiles\"] = oechem.OEMolToSmiles(mol)\n",
    "        \n",
    "df_molecules.head()"
   ]
  },
  {
   "cell_type": "markdown",
   "metadata": {},
   "source": [
    "#### Counting Substructures for NHISS descriptor\n",
    "This section requires using OpenEye OEChem library, version 2.0.5."
   ]
  },
  {
   "cell_type": "code",
   "execution_count": 5,
   "metadata": {
    "collapsed": false
   },
   "outputs": [
    {
     "data": {
      "text/html": [
       "<div>\n",
       "<table border=\"1\" class=\"dataframe\">\n",
       "  <thead>\n",
       "    <tr style=\"text-align: right;\">\n",
       "      <th></th>\n",
       "      <th>File Name</th>\n",
       "      <th>NAME</th>\n",
       "      <th>smiles</th>\n",
       "      <th>F</th>\n",
       "      <th>carbonyl</th>\n",
       "      <th>sulfinyl</th>\n",
       "      <th>sulfonyl</th>\n",
       "      <th>nitroso</th>\n",
       "      <th>nitro</th>\n",
       "    </tr>\n",
       "  </thead>\n",
       "  <tbody>\n",
       "    <tr>\n",
       "      <th>0</th>\n",
       "      <td>ABT737.mol</td>\n",
       "      <td>ABT737</td>\n",
       "      <td>CN(C)CC[C@@H](CSc1ccccc1)Nc2ccc(cc2[N+](=O)[O-...</td>\n",
       "      <td>None</td>\n",
       "      <td>None</td>\n",
       "      <td>None</td>\n",
       "      <td>None</td>\n",
       "      <td>None</td>\n",
       "      <td>None</td>\n",
       "    </tr>\n",
       "    <tr>\n",
       "      <th>1</th>\n",
       "      <td>AZD-4547.mol</td>\n",
       "      <td>AZD-4547</td>\n",
       "      <td>C[C@@H]1CN(C[C@@H](N1)C)c2ccc(cc2)C(=O)Nc3cc([...</td>\n",
       "      <td>None</td>\n",
       "      <td>None</td>\n",
       "      <td>None</td>\n",
       "      <td>None</td>\n",
       "      <td>None</td>\n",
       "      <td>None</td>\n",
       "    </tr>\n",
       "    <tr>\n",
       "      <th>2</th>\n",
       "      <td>Apitolisib.mol</td>\n",
       "      <td>Apitolisib</td>\n",
       "      <td>Cc1c(sc2c1nc(nc2N3CCOCC3)c4cnc(nc4)N)CN5CCN(CC...</td>\n",
       "      <td>None</td>\n",
       "      <td>None</td>\n",
       "      <td>None</td>\n",
       "      <td>None</td>\n",
       "      <td>None</td>\n",
       "      <td>None</td>\n",
       "    </tr>\n",
       "    <tr>\n",
       "      <th>3</th>\n",
       "      <td>Avagacestat.mol</td>\n",
       "      <td>Avagacestat</td>\n",
       "      <td>c1cc(ccc1S(=O)(=O)[N@@](Cc2ccc(cc2F)c3ncon3)[C...</td>\n",
       "      <td>None</td>\n",
       "      <td>None</td>\n",
       "      <td>None</td>\n",
       "      <td>None</td>\n",
       "      <td>None</td>\n",
       "      <td>None</td>\n",
       "    </tr>\n",
       "    <tr>\n",
       "      <th>4</th>\n",
       "      <td>Avasimibe.mol</td>\n",
       "      <td>Avasimibe</td>\n",
       "      <td>CC(C)c1cccc(c1OS(=O)(=O)NC(=O)Cc2c(cc(cc2C(C)C...</td>\n",
       "      <td>None</td>\n",
       "      <td>None</td>\n",
       "      <td>None</td>\n",
       "      <td>None</td>\n",
       "      <td>None</td>\n",
       "      <td>None</td>\n",
       "    </tr>\n",
       "  </tbody>\n",
       "</table>\n",
       "</div>"
      ],
      "text/plain": [
       "         File Name         NAME  \\\n",
       "0       ABT737.mol       ABT737   \n",
       "1     AZD-4547.mol     AZD-4547   \n",
       "2   Apitolisib.mol   Apitolisib   \n",
       "3  Avagacestat.mol  Avagacestat   \n",
       "4    Avasimibe.mol    Avasimibe   \n",
       "\n",
       "                                              smiles     F carbonyl sulfinyl  \\\n",
       "0  CN(C)CC[C@@H](CSc1ccccc1)Nc2ccc(cc2[N+](=O)[O-...  None     None     None   \n",
       "1  C[C@@H]1CN(C[C@@H](N1)C)c2ccc(cc2)C(=O)Nc3cc([...  None     None     None   \n",
       "2  Cc1c(sc2c1nc(nc2N3CCOCC3)c4cnc(nc4)N)CN5CCN(CC...  None     None     None   \n",
       "3  c1cc(ccc1S(=O)(=O)[N@@](Cc2ccc(cc2F)c3ncon3)[C...  None     None     None   \n",
       "4  CC(C)c1cccc(c1OS(=O)(=O)NC(=O)Cc2c(cc(cc2C(C)C...  None     None     None   \n",
       "\n",
       "  sulfonyl nitroso nitro  \n",
       "0     None    None  None  \n",
       "1     None    None  None  \n",
       "2     None    None  None  \n",
       "3     None    None  None  \n",
       "4     None    None  None  "
      ]
     },
     "execution_count": 5,
     "metadata": {},
     "output_type": "execute_result"
    }
   ],
   "source": [
    "df_molecules.loc[:,\"F\"] = None\n",
    "df_molecules.loc[:,\"carbonyl\"] = None\n",
    "df_molecules.loc[:,\"sulfinyl\"] = None\n",
    "df_molecules.loc[:,\"sulfonyl\"] = None\n",
    "df_molecules.loc[:,\"nitroso\"] = None\n",
    "df_molecules.loc[:,\"nitro\"] = None\n",
    "df_molecules.head()"
   ]
  },
  {
   "cell_type": "code",
   "execution_count": 6,
   "metadata": {
    "collapsed": false
   },
   "outputs": [
    {
     "name": "stdout",
     "output_type": "stream",
     "text": [
      "Done.\n",
      "Done.\n",
      "Done.\n",
      "Done\n",
      "Done.\n",
      "Done.\n"
     ]
    }
   ],
   "source": [
    "#write to csv\n",
    "df_molecules.to_csv(\"df_molecules.csv\", encoding='utf-8')\n",
    "\n",
    "# Run the following to populate the dataframe from terminal (runs faster):\n",
    "import os\n",
    "\n",
    "%run count_carbonyls.py\n",
    "%run count_fluorines.py\n",
    "%run count_sulfinyls.py\n",
    "%run count_sulfonyls.py\n",
    "%run count_nitroso.py\n",
    "%run count_nitro.py"
   ]
  },
  {
   "cell_type": "markdown",
   "metadata": {},
   "source": [
    "#### Import experimental data and merge"
   ]
  },
  {
   "cell_type": "code",
   "execution_count": 7,
   "metadata": {
    "collapsed": false
   },
   "outputs": [
    {
     "data": {
      "text/html": [
       "<div>\n",
       "<table border=\"1\" class=\"dataframe\">\n",
       "  <thead>\n",
       "    <tr style=\"text-align: right;\">\n",
       "      <th></th>\n",
       "      <th>NAME</th>\n",
       "      <th>SpMAX4_Bh(s)</th>\n",
       "      <th>Experimental INP Formation</th>\n",
       "      <th>SpMAX4_Bh(s) Analysis Group</th>\n",
       "    </tr>\n",
       "  </thead>\n",
       "  <tbody>\n",
       "    <tr>\n",
       "      <th>0</th>\n",
       "      <td>ABT737</td>\n",
       "      <td>7.00</td>\n",
       "      <td>Yes</td>\n",
       "      <td>Validation</td>\n",
       "    </tr>\n",
       "    <tr>\n",
       "      <th>1</th>\n",
       "      <td>Apitolisib</td>\n",
       "      <td>5.01</td>\n",
       "      <td>No</td>\n",
       "      <td>Validation</td>\n",
       "    </tr>\n",
       "    <tr>\n",
       "      <th>2</th>\n",
       "      <td>Avagacestat</td>\n",
       "      <td>8.00</td>\n",
       "      <td>Yes</td>\n",
       "      <td>Validation</td>\n",
       "    </tr>\n",
       "    <tr>\n",
       "      <th>3</th>\n",
       "      <td>Avasimibe</td>\n",
       "      <td>4.79</td>\n",
       "      <td>Yes</td>\n",
       "      <td>Validation</td>\n",
       "    </tr>\n",
       "    <tr>\n",
       "      <th>4</th>\n",
       "      <td>AZD-4547</td>\n",
       "      <td>4.72</td>\n",
       "      <td>No</td>\n",
       "      <td>Validation</td>\n",
       "    </tr>\n",
       "  </tbody>\n",
       "</table>\n",
       "</div>"
      ],
      "text/plain": [
       "          NAME  SpMAX4_Bh(s) Experimental INP Formation  \\\n",
       "0       ABT737          7.00                        Yes   \n",
       "1   Apitolisib          5.01                         No   \n",
       "2  Avagacestat          8.00                        Yes   \n",
       "3    Avasimibe          4.79                        Yes   \n",
       "4     AZD-4547          4.72                         No   \n",
       "\n",
       "  SpMAX4_Bh(s) Analysis Group  \n",
       "0                  Validation  \n",
       "1                  Validation  \n",
       "2                  Validation  \n",
       "3                  Validation  \n",
       "4                  Validation  "
      ]
     },
     "execution_count": 7,
     "metadata": {},
     "output_type": "execute_result"
    }
   ],
   "source": [
    "df_exp_data = pd.read_csv(\"experimental_dataset_N60.csv\")\n",
    "df_exp_data.head()"
   ]
  },
  {
   "cell_type": "code",
   "execution_count": 8,
   "metadata": {
    "collapsed": false
   },
   "outputs": [
    {
     "name": "stdout",
     "output_type": "stream",
     "text": [
      "708\n",
      "(59, 12)\n"
     ]
    },
    {
     "data": {
      "text/html": [
       "<div>\n",
       "<table border=\"1\" class=\"dataframe\">\n",
       "  <thead>\n",
       "    <tr style=\"text-align: right;\">\n",
       "      <th></th>\n",
       "      <th>File Name</th>\n",
       "      <th>NAME</th>\n",
       "      <th>smiles</th>\n",
       "      <th>F</th>\n",
       "      <th>carbonyl</th>\n",
       "      <th>sulfinyl</th>\n",
       "      <th>sulfonyl</th>\n",
       "      <th>nitroso</th>\n",
       "      <th>nitro</th>\n",
       "      <th>SpMAX4_Bh(s)</th>\n",
       "      <th>Experimental INP Formation</th>\n",
       "      <th>SpMAX4_Bh(s) Analysis Group</th>\n",
       "    </tr>\n",
       "  </thead>\n",
       "  <tbody>\n",
       "    <tr>\n",
       "      <th>0</th>\n",
       "      <td>ABT737.mol</td>\n",
       "      <td>ABT737</td>\n",
       "      <td>CN(C)CC[C@@H](CSc1ccccc1)Nc2ccc(cc2[N+](=O)[O-...</td>\n",
       "      <td>0</td>\n",
       "      <td>1</td>\n",
       "      <td>0</td>\n",
       "      <td>1</td>\n",
       "      <td>0</td>\n",
       "      <td>1</td>\n",
       "      <td>7.00</td>\n",
       "      <td>Yes</td>\n",
       "      <td>Validation</td>\n",
       "    </tr>\n",
       "    <tr>\n",
       "      <th>1</th>\n",
       "      <td>AZD-4547.mol</td>\n",
       "      <td>AZD-4547</td>\n",
       "      <td>C[C@@H]1CN(C[C@@H](N1)C)c2ccc(cc2)C(=O)Nc3cc([...</td>\n",
       "      <td>0</td>\n",
       "      <td>1</td>\n",
       "      <td>0</td>\n",
       "      <td>0</td>\n",
       "      <td>0</td>\n",
       "      <td>0</td>\n",
       "      <td>4.72</td>\n",
       "      <td>No</td>\n",
       "      <td>Validation</td>\n",
       "    </tr>\n",
       "    <tr>\n",
       "      <th>2</th>\n",
       "      <td>Apitolisib.mol</td>\n",
       "      <td>Apitolisib</td>\n",
       "      <td>Cc1c(sc2c1nc(nc2N3CCOCC3)c4cnc(nc4)N)CN5CCN(CC...</td>\n",
       "      <td>0</td>\n",
       "      <td>1</td>\n",
       "      <td>0</td>\n",
       "      <td>0</td>\n",
       "      <td>0</td>\n",
       "      <td>0</td>\n",
       "      <td>5.01</td>\n",
       "      <td>No</td>\n",
       "      <td>Validation</td>\n",
       "    </tr>\n",
       "    <tr>\n",
       "      <th>3</th>\n",
       "      <td>Avagacestat.mol</td>\n",
       "      <td>Avagacestat</td>\n",
       "      <td>c1cc(ccc1S(=O)(=O)[N@@](Cc2ccc(cc2F)c3ncon3)[C...</td>\n",
       "      <td>4</td>\n",
       "      <td>1</td>\n",
       "      <td>0</td>\n",
       "      <td>1</td>\n",
       "      <td>0</td>\n",
       "      <td>0</td>\n",
       "      <td>8.00</td>\n",
       "      <td>Yes</td>\n",
       "      <td>Validation</td>\n",
       "    </tr>\n",
       "    <tr>\n",
       "      <th>4</th>\n",
       "      <td>Avasimibe.mol</td>\n",
       "      <td>Avasimibe</td>\n",
       "      <td>CC(C)c1cccc(c1OS(=O)(=O)NC(=O)Cc2c(cc(cc2C(C)C...</td>\n",
       "      <td>0</td>\n",
       "      <td>1</td>\n",
       "      <td>0</td>\n",
       "      <td>1</td>\n",
       "      <td>0</td>\n",
       "      <td>0</td>\n",
       "      <td>4.79</td>\n",
       "      <td>Yes</td>\n",
       "      <td>Validation</td>\n",
       "    </tr>\n",
       "  </tbody>\n",
       "</table>\n",
       "</div>"
      ],
      "text/plain": [
       "         File Name         NAME  \\\n",
       "0       ABT737.mol       ABT737   \n",
       "1     AZD-4547.mol     AZD-4547   \n",
       "2   Apitolisib.mol   Apitolisib   \n",
       "3  Avagacestat.mol  Avagacestat   \n",
       "4    Avasimibe.mol    Avasimibe   \n",
       "\n",
       "                                              smiles  F  carbonyl  sulfinyl  \\\n",
       "0  CN(C)CC[C@@H](CSc1ccccc1)Nc2ccc(cc2[N+](=O)[O-...  0         1         0   \n",
       "1  C[C@@H]1CN(C[C@@H](N1)C)c2ccc(cc2)C(=O)Nc3cc([...  0         1         0   \n",
       "2  Cc1c(sc2c1nc(nc2N3CCOCC3)c4cnc(nc4)N)CN5CCN(CC...  0         1         0   \n",
       "3  c1cc(ccc1S(=O)(=O)[N@@](Cc2ccc(cc2F)c3ncon3)[C...  4         1         0   \n",
       "4  CC(C)c1cccc(c1OS(=O)(=O)NC(=O)Cc2c(cc(cc2C(C)C...  0         1         0   \n",
       "\n",
       "   sulfonyl  nitroso  nitro  SpMAX4_Bh(s) Experimental INP Formation  \\\n",
       "0         1        0      1          7.00                        Yes   \n",
       "1         0        0      0          4.72                         No   \n",
       "2         0        0      0          5.01                         No   \n",
       "3         1        0      0          8.00                        Yes   \n",
       "4         1        0      0          4.79                        Yes   \n",
       "\n",
       "  SpMAX4_Bh(s) Analysis Group  \n",
       "0                  Validation  \n",
       "1                  Validation  \n",
       "2                  Validation  \n",
       "3                  Validation  \n",
       "4                  Validation  "
      ]
     },
     "execution_count": 8,
     "metadata": {},
     "output_type": "execute_result"
    }
   ],
   "source": [
    "# Merge DataFrames\n",
    "df_molecules= pd.merge(df_molecules, df_exp_data, on=[\"NAME\"])\n",
    "print(df_molecules.size)\n",
    "print(df_molecules.shape)\n",
    "df_molecules.head()"
   ]
  },
  {
   "cell_type": "markdown",
   "metadata": {},
   "source": [
    "#### Calculating NHISS (Number of High Instrinsic State Substructures)\n",
    "NHISS descriptor is the total number of fluorines and double bonded oxygens in the structure.\n",
    "$ NHISS = fluorine + carbonyl + sulfinyl + 2*sulfonyl + nitroso + 2*nitro $"
   ]
  },
  {
   "cell_type": "code",
   "execution_count": 9,
   "metadata": {
    "collapsed": false
   },
   "outputs": [
    {
     "data": {
      "text/html": [
       "<div>\n",
       "<table border=\"1\" class=\"dataframe\">\n",
       "  <thead>\n",
       "    <tr style=\"text-align: right;\">\n",
       "      <th></th>\n",
       "      <th>File Name</th>\n",
       "      <th>NAME</th>\n",
       "      <th>smiles</th>\n",
       "      <th>F</th>\n",
       "      <th>carbonyl</th>\n",
       "      <th>sulfinyl</th>\n",
       "      <th>sulfonyl</th>\n",
       "      <th>nitroso</th>\n",
       "      <th>nitro</th>\n",
       "      <th>SpMAX4_Bh(s)</th>\n",
       "      <th>Experimental INP Formation</th>\n",
       "      <th>SpMAX4_Bh(s) Analysis Group</th>\n",
       "      <th>NHISS</th>\n",
       "    </tr>\n",
       "  </thead>\n",
       "  <tbody>\n",
       "    <tr>\n",
       "      <th>0</th>\n",
       "      <td>ABT737.mol</td>\n",
       "      <td>ABT737</td>\n",
       "      <td>CN(C)CC[C@@H](CSc1ccccc1)Nc2ccc(cc2[N+](=O)[O-...</td>\n",
       "      <td>0</td>\n",
       "      <td>1</td>\n",
       "      <td>0</td>\n",
       "      <td>1</td>\n",
       "      <td>0</td>\n",
       "      <td>1</td>\n",
       "      <td>7.00</td>\n",
       "      <td>Yes</td>\n",
       "      <td>Validation</td>\n",
       "      <td>5</td>\n",
       "    </tr>\n",
       "    <tr>\n",
       "      <th>1</th>\n",
       "      <td>AZD-4547.mol</td>\n",
       "      <td>AZD-4547</td>\n",
       "      <td>C[C@@H]1CN(C[C@@H](N1)C)c2ccc(cc2)C(=O)Nc3cc([...</td>\n",
       "      <td>0</td>\n",
       "      <td>1</td>\n",
       "      <td>0</td>\n",
       "      <td>0</td>\n",
       "      <td>0</td>\n",
       "      <td>0</td>\n",
       "      <td>4.72</td>\n",
       "      <td>No</td>\n",
       "      <td>Validation</td>\n",
       "      <td>1</td>\n",
       "    </tr>\n",
       "    <tr>\n",
       "      <th>2</th>\n",
       "      <td>Apitolisib.mol</td>\n",
       "      <td>Apitolisib</td>\n",
       "      <td>Cc1c(sc2c1nc(nc2N3CCOCC3)c4cnc(nc4)N)CN5CCN(CC...</td>\n",
       "      <td>0</td>\n",
       "      <td>1</td>\n",
       "      <td>0</td>\n",
       "      <td>0</td>\n",
       "      <td>0</td>\n",
       "      <td>0</td>\n",
       "      <td>5.01</td>\n",
       "      <td>No</td>\n",
       "      <td>Validation</td>\n",
       "      <td>1</td>\n",
       "    </tr>\n",
       "    <tr>\n",
       "      <th>3</th>\n",
       "      <td>Avagacestat.mol</td>\n",
       "      <td>Avagacestat</td>\n",
       "      <td>c1cc(ccc1S(=O)(=O)[N@@](Cc2ccc(cc2F)c3ncon3)[C...</td>\n",
       "      <td>4</td>\n",
       "      <td>1</td>\n",
       "      <td>0</td>\n",
       "      <td>1</td>\n",
       "      <td>0</td>\n",
       "      <td>0</td>\n",
       "      <td>8.00</td>\n",
       "      <td>Yes</td>\n",
       "      <td>Validation</td>\n",
       "      <td>7</td>\n",
       "    </tr>\n",
       "    <tr>\n",
       "      <th>4</th>\n",
       "      <td>Avasimibe.mol</td>\n",
       "      <td>Avasimibe</td>\n",
       "      <td>CC(C)c1cccc(c1OS(=O)(=O)NC(=O)Cc2c(cc(cc2C(C)C...</td>\n",
       "      <td>0</td>\n",
       "      <td>1</td>\n",
       "      <td>0</td>\n",
       "      <td>1</td>\n",
       "      <td>0</td>\n",
       "      <td>0</td>\n",
       "      <td>4.79</td>\n",
       "      <td>Yes</td>\n",
       "      <td>Validation</td>\n",
       "      <td>3</td>\n",
       "    </tr>\n",
       "  </tbody>\n",
       "</table>\n",
       "</div>"
      ],
      "text/plain": [
       "         File Name         NAME  \\\n",
       "0       ABT737.mol       ABT737   \n",
       "1     AZD-4547.mol     AZD-4547   \n",
       "2   Apitolisib.mol   Apitolisib   \n",
       "3  Avagacestat.mol  Avagacestat   \n",
       "4    Avasimibe.mol    Avasimibe   \n",
       "\n",
       "                                              smiles  F  carbonyl  sulfinyl  \\\n",
       "0  CN(C)CC[C@@H](CSc1ccccc1)Nc2ccc(cc2[N+](=O)[O-...  0         1         0   \n",
       "1  C[C@@H]1CN(C[C@@H](N1)C)c2ccc(cc2)C(=O)Nc3cc([...  0         1         0   \n",
       "2  Cc1c(sc2c1nc(nc2N3CCOCC3)c4cnc(nc4)N)CN5CCN(CC...  0         1         0   \n",
       "3  c1cc(ccc1S(=O)(=O)[N@@](Cc2ccc(cc2F)c3ncon3)[C...  4         1         0   \n",
       "4  CC(C)c1cccc(c1OS(=O)(=O)NC(=O)Cc2c(cc(cc2C(C)C...  0         1         0   \n",
       "\n",
       "   sulfonyl  nitroso  nitro  SpMAX4_Bh(s) Experimental INP Formation  \\\n",
       "0         1        0      1          7.00                        Yes   \n",
       "1         0        0      0          4.72                         No   \n",
       "2         0        0      0          5.01                         No   \n",
       "3         1        0      0          8.00                        Yes   \n",
       "4         1        0      0          4.79                        Yes   \n",
       "\n",
       "  SpMAX4_Bh(s) Analysis Group NHISS  \n",
       "0                  Validation     5  \n",
       "1                  Validation     1  \n",
       "2                  Validation     1  \n",
       "3                  Validation     7  \n",
       "4                  Validation     3  "
      ]
     },
     "execution_count": 9,
     "metadata": {},
     "output_type": "execute_result"
    }
   ],
   "source": [
    "df_molecules.loc[:,\"NHISS\"] = None\n",
    "for i, row in enumerate(df_molecules.iterrows()):\n",
    "    NHISS= df_molecules.loc[i,\"F\"] + df_molecules.loc[i,\"carbonyl\"]+ df_molecules.loc[i,\"sulfinyl\"] + 2*df_molecules.loc[i,\"sulfonyl\"] + df_molecules.loc[i,\"nitroso\"] + 2*df_molecules.loc[i,\"nitro\"]\n",
    "    df_molecules.loc[i,\"NHISS\"]=NHISS\n",
    "df_molecules.to_csv(\"df_molecules.csv\", encoding='utf-8')\n",
    "df_molecules.head()"
   ]
  },
  {
   "cell_type": "markdown",
   "metadata": {},
   "source": [
    "### 2. NHISS vs NHISS Rank Plot"
   ]
  },
  {
   "cell_type": "code",
   "execution_count": 10,
   "metadata": {
    "collapsed": false
   },
   "outputs": [
    {
     "name": "stderr",
     "output_type": "stream",
     "text": [
      "/Users/isikm/opt/anaconda/lib/python2.7/site-packages/matplotlib/collections.py:590: FutureWarning: elementwise comparison failed; returning scalar instead, but in the future will perform elementwise comparison\n",
      "  if self._edgecolors == str('face'):\n"
     ]
    },
    {
     "data": {
      "image/png": "[encoded data removed]",
      "text/plain": [
       "<matplotlib.figure.Figure at 0x114e28590>"
      ]
     },
     "metadata": {},
     "output_type": "display_data"
    }
   ],
   "source": [
    "df_exp_sorted = df_molecules.sort_values(by=\"NHISS\", ascending=1).reset_index(drop=True)\n",
    "df_exp_sorted[\"NHISS rank\"]=df_exp_sorted.index\n",
    "\n",
    "df_exp_yes_sorted = df_exp_sorted.loc[df_exp_sorted[\"Experimental INP Formation\"] == \"Yes\"].reset_index(drop=True)\n",
    "df_exp_no_sorted = df_exp_sorted.loc[df_exp_sorted[\"Experimental INP Formation\"] == \"No\"].reset_index(drop=True)\n",
    "\n",
    "NHISS_array_yes_sorted = df_exp_yes_sorted.ix[:,\"NHISS\"]\n",
    "NHISS_rank_array_yes_sorted = df_exp_yes_sorted.ix[:,\"NHISS rank\"]\n",
    "NHISS_array_no_sorted = df_exp_no_sorted.ix[:,\"NHISS\"]\n",
    "NHISS_rank_array_no_sorted = df_exp_no_sorted.ix[:,\"NHISS rank\"]\n",
    "\n",
    "plt.rcParams.update({'font.size': 12})\n",
    "fig = plt.figure(1, figsize=(6,4), dpi=200)\n",
    "\n",
    "plt.scatter(NHISS_rank_array_yes_sorted, NHISS_array_yes_sorted, alpha=0.7, c=\"b\", s=40 )\n",
    "plt.scatter(NHISS_rank_array_no_sorted, NHISS_array_no_sorted, alpha=0.7,  c=\"w\", s=40)\n",
    "plt.xlabel(\"NHISS rank\")\n",
    "plt.ylabel(\"NHISS\")\n",
    "plt.xlim(-1,61)\n",
    "plt.ylim(-0.2,8.2)\n",
    "plt.savefig(\"NHISS_rank.png\", dpi=200)\n",
    "plt.savefig(\"NHISS_rank.svg\")\n",
    "#plt.gcf().canvas.get_supported_filetypes()"
   ]
  },
  {
   "cell_type": "markdown",
   "metadata": {},
   "source": [
    "### 3. NHISS Box Plot"
   ]
  },
  {
   "cell_type": "code",
   "execution_count": 11,
   "metadata": {
    "collapsed": false
   },
   "outputs": [
    {
     "data": {
      "image/png": "[encoded data removed]",
      "text/plain": [
       "<matplotlib.figure.Figure at 0x112d57450>"
      ]
     },
     "metadata": {},
     "output_type": "display_data"
    }
   ],
   "source": [
    "NHISS_array_yes = df_exp_yes_sorted.ix[:,\"NHISS\"].astype(float)\n",
    "NHISS_array_no = df_exp_no_sorted.ix[:,\"NHISS\"].astype(float)\n",
    "\n",
    "data=[NHISS_array_yes, NHISS_array_no]\n",
    "\n",
    "fig=plt.figure(1, figsize=(4,4))\n",
    "ax= fig.add_subplot(111)\n",
    "\n",
    "ax.boxplot(data)\n",
    "ax.set_xticklabels([\"INP F\",\"INP NF\"])\n",
    "ax.set_ylabel(\"NHISS\")\n",
    "ax.set_ylim(-0.5, 8.5)\n",
    "fig.savefig(\"NHISS_boxplot.png\", dpi=200)\n",
    "plt.savefig(\"NHISS_boxplot.svg\")"
   ]
  },
  {
   "cell_type": "code",
   "execution_count": 12,
   "metadata": {
    "collapsed": false
   },
   "outputs": [
    {
     "name": "stdout",
     "output_type": "stream",
     "text": [
      "Ttest_indResult(statistic=13.482224363456757, pvalue=5.1329904511696059e-18)\n",
      "95% CI:  (3.5326264662501035, 4.7706142744906366)\n"
     ]
    }
   ],
   "source": [
    "from scipy import stats\n",
    "print(stats.ttest_ind(NHISS_array_yes, NHISS_array_no, equal_var=False))\n",
    "import numpy as np, statsmodels.stats.api as sms\n",
    "cm = sms.CompareMeans(sms.DescrStatsW(NHISS_array_yes), sms.DescrStatsW(NHISS_array_no))\n",
    "print(\"95% CI: \", cm.tconfint_diff(usevar='unequal'))"
   ]
  },
  {
   "cell_type": "markdown",
   "metadata": {},
   "source": [
    "### 4. NHISS Logistic Regression"
   ]
  },
  {
   "cell_type": "code",
   "execution_count": 13,
   "metadata": {
    "collapsed": true
   },
   "outputs": [],
   "source": [
    "from scipy import optimize\n",
    "\n",
    "def logistic(params,x):\n",
    "    \"\"\" \n",
    "    Logistic function\n",
    "\n",
    "    Parameters\n",
    "    ----------\n",
    "    params : list or numpy array\n",
    "      the three parameters of the logistic function\n",
    "      First parameter is set to 1 to make the function\n",
    "      span 0 to 1.\n",
    "    x : numpy array\n",
    "      the explanatory variable\n",
    "   \n",
    "    Return\n",
    "    ------\n",
    "    numpy array\n",
    "      the output of the logistic function\n",
    "\n",
    "    \"\"\"\n",
    "    params[0]=1\n",
    "    return params[0]/(1+np.exp(-x*params[1] - params[2])) \n",
    "\n",
    "def residuals(params):\n",
    "    predicted = logistic(params,x)\n",
    "    return np.sum((y-predicted)**2)"
   ]
  },
  {
   "cell_type": "code",
   "execution_count": 14,
   "metadata": {
    "collapsed": false
   },
   "outputs": [
    {
     "data": {
      "text/html": [
       "<div>\n",
       "<table border=\"1\" class=\"dataframe\">\n",
       "  <thead>\n",
       "    <tr style=\"text-align: right;\">\n",
       "      <th></th>\n",
       "      <th>File Name</th>\n",
       "      <th>NAME</th>\n",
       "      <th>smiles</th>\n",
       "      <th>F</th>\n",
       "      <th>carbonyl</th>\n",
       "      <th>sulfinyl</th>\n",
       "      <th>sulfonyl</th>\n",
       "      <th>nitroso</th>\n",
       "      <th>nitro</th>\n",
       "      <th>SpMAX4_Bh(s)</th>\n",
       "      <th>Experimental INP Formation</th>\n",
       "      <th>SpMAX4_Bh(s) Analysis Group</th>\n",
       "      <th>NHISS</th>\n",
       "      <th>Experimental Category</th>\n",
       "    </tr>\n",
       "  </thead>\n",
       "  <tbody>\n",
       "    <tr>\n",
       "      <th>0</th>\n",
       "      <td>ABT737.mol</td>\n",
       "      <td>ABT737</td>\n",
       "      <td>CN(C)CC[C@@H](CSc1ccccc1)Nc2ccc(cc2[N+](=O)[O-...</td>\n",
       "      <td>0</td>\n",
       "      <td>1</td>\n",
       "      <td>0</td>\n",
       "      <td>1</td>\n",
       "      <td>0</td>\n",
       "      <td>1</td>\n",
       "      <td>7.00</td>\n",
       "      <td>Yes</td>\n",
       "      <td>Validation</td>\n",
       "      <td>5</td>\n",
       "      <td>1</td>\n",
       "    </tr>\n",
       "    <tr>\n",
       "      <th>1</th>\n",
       "      <td>AZD-4547.mol</td>\n",
       "      <td>AZD-4547</td>\n",
       "      <td>C[C@@H]1CN(C[C@@H](N1)C)c2ccc(cc2)C(=O)Nc3cc([...</td>\n",
       "      <td>0</td>\n",
       "      <td>1</td>\n",
       "      <td>0</td>\n",
       "      <td>0</td>\n",
       "      <td>0</td>\n",
       "      <td>0</td>\n",
       "      <td>4.72</td>\n",
       "      <td>No</td>\n",
       "      <td>Validation</td>\n",
       "      <td>1</td>\n",
       "      <td>0</td>\n",
       "    </tr>\n",
       "    <tr>\n",
       "      <th>2</th>\n",
       "      <td>Apitolisib.mol</td>\n",
       "      <td>Apitolisib</td>\n",
       "      <td>Cc1c(sc2c1nc(nc2N3CCOCC3)c4cnc(nc4)N)CN5CCN(CC...</td>\n",
       "      <td>0</td>\n",
       "      <td>1</td>\n",
       "      <td>0</td>\n",
       "      <td>0</td>\n",
       "      <td>0</td>\n",
       "      <td>0</td>\n",
       "      <td>5.01</td>\n",
       "      <td>No</td>\n",
       "      <td>Validation</td>\n",
       "      <td>1</td>\n",
       "      <td>0</td>\n",
       "    </tr>\n",
       "    <tr>\n",
       "      <th>3</th>\n",
       "      <td>Avagacestat.mol</td>\n",
       "      <td>Avagacestat</td>\n",
       "      <td>c1cc(ccc1S(=O)(=O)[N@@](Cc2ccc(cc2F)c3ncon3)[C...</td>\n",
       "      <td>4</td>\n",
       "      <td>1</td>\n",
       "      <td>0</td>\n",
       "      <td>1</td>\n",
       "      <td>0</td>\n",
       "      <td>0</td>\n",
       "      <td>8.00</td>\n",
       "      <td>Yes</td>\n",
       "      <td>Validation</td>\n",
       "      <td>7</td>\n",
       "      <td>1</td>\n",
       "    </tr>\n",
       "    <tr>\n",
       "      <th>4</th>\n",
       "      <td>Avasimibe.mol</td>\n",
       "      <td>Avasimibe</td>\n",
       "      <td>CC(C)c1cccc(c1OS(=O)(=O)NC(=O)Cc2c(cc(cc2C(C)C...</td>\n",
       "      <td>0</td>\n",
       "      <td>1</td>\n",
       "      <td>0</td>\n",
       "      <td>1</td>\n",
       "      <td>0</td>\n",
       "      <td>0</td>\n",
       "      <td>4.79</td>\n",
       "      <td>Yes</td>\n",
       "      <td>Validation</td>\n",
       "      <td>3</td>\n",
       "      <td>1</td>\n",
       "    </tr>\n",
       "  </tbody>\n",
       "</table>\n",
       "</div>"
      ],
      "text/plain": [
       "         File Name         NAME  \\\n",
       "0       ABT737.mol       ABT737   \n",
       "1     AZD-4547.mol     AZD-4547   \n",
       "2   Apitolisib.mol   Apitolisib   \n",
       "3  Avagacestat.mol  Avagacestat   \n",
       "4    Avasimibe.mol    Avasimibe   \n",
       "\n",
       "                                              smiles  F  carbonyl  sulfinyl  \\\n",
       "0  CN(C)CC[C@@H](CSc1ccccc1)Nc2ccc(cc2[N+](=O)[O-...  0         1         0   \n",
       "1  C[C@@H]1CN(C[C@@H](N1)C)c2ccc(cc2)C(=O)Nc3cc([...  0         1         0   \n",
       "2  Cc1c(sc2c1nc(nc2N3CCOCC3)c4cnc(nc4)N)CN5CCN(CC...  0         1         0   \n",
       "3  c1cc(ccc1S(=O)(=O)[N@@](Cc2ccc(cc2F)c3ncon3)[C...  4         1         0   \n",
       "4  CC(C)c1cccc(c1OS(=O)(=O)NC(=O)Cc2c(cc(cc2C(C)C...  0         1         0   \n",
       "\n",
       "   sulfonyl  nitroso  nitro  SpMAX4_Bh(s) Experimental INP Formation  \\\n",
       "0         1        0      1          7.00                        Yes   \n",
       "1         0        0      0          4.72                         No   \n",
       "2         0        0      0          5.01                         No   \n",
       "3         1        0      0          8.00                        Yes   \n",
       "4         1        0      0          4.79                        Yes   \n",
       "\n",
       "  SpMAX4_Bh(s) Analysis Group NHISS Experimental Category  \n",
       "0                  Validation     5                     1  \n",
       "1                  Validation     1                     0  \n",
       "2                  Validation     1                     0  \n",
       "3                  Validation     7                     1  \n",
       "4                  Validation     3                     1  "
      ]
     },
     "execution_count": 14,
     "metadata": {},
     "output_type": "execute_result"
    }
   ],
   "source": [
    "df_molecules[\"Experimental Category\"]=None\n",
    "\n",
    "for i,row in enumerate(df_molecules.iterrows()):\n",
    "    if df_molecules.ix[i,\"Experimental INP Formation\"] == \"Yes\" :\n",
    "        df_molecules.ix[i, \"Experimental Category\"] = 1\n",
    "    else:\n",
    "        df_molecules.ix[i, \"Experimental Category\"] = 0\n",
    "\n",
    "df_molecules.head()"
   ]
  },
  {
   "cell_type": "code",
   "execution_count": 15,
   "metadata": {
    "collapsed": false
   },
   "outputs": [
    {
     "name": "stdout",
     "output_type": "stream",
     "text": [
      "The predicted parameters are  [  1.          19.57045985 -60.09767392]\n",
      "Threshold NHISS:  3.07083606511\n"
     ]
    },
    {
     "data": {
      "image/png": "[encoded data removed]",
      "text/plain": [
       "<matplotlib.figure.Figure at 0x11a7775d0>"
      ]
     },
     "metadata": {},
     "output_type": "display_data"
    }
   ],
   "source": [
    "fig = plt.figure(1, figsize=(4,4))\n",
    "\n",
    "df_sorted = df_molecules.sort_values(by=\"NHISS\", ascending=1).reset_index(drop=True)\n",
    "initial_guess = [1,1,1]\n",
    "x=df_sorted.ix[:, \"NHISS\"].astype(float)\n",
    "y=df_sorted.ix[:, \"Experimental Category\"]\n",
    "\n",
    "fit = optimize.minimize(residuals, initial_guess, method='Nelder-Mead')\n",
    "print(\"The predicted parameters are \", fit.x)\n",
    "\n",
    "# Inflection point is -x_0/b\n",
    "threshold =(-1)*fit.x[2]/fit.x[1]\n",
    "print(\"Threshold NHISS: \", threshold)\n",
    "    \n",
    "plt.scatter(x,y)\n",
    "predicted = logistic(fit.x, x)\n",
    "plt.plot(x, predicted,color=\"red\")\n",
    "plt.xlabel('NHISS')\n",
    "plt.ylabel('INP formation', size=10)\n",
    "plt.ylim(-0.1, 1.1)\n",
    "plt.savefig(\"NHISS_logistic_fit.png\", dpi=200)\n",
    "plt.savefig(\"NHISS_logistic_fit.svg\")"
   ]
  },
  {
   "cell_type": "markdown",
   "metadata": {},
   "source": [
    "### 5. NHISS ROC Curve"
   ]
  },
  {
   "cell_type": "code",
   "execution_count": 16,
   "metadata": {
    "collapsed": false
   },
   "outputs": [
    {
     "data": {
      "image/png": "[encoded data removed]",
      "text/plain": [
       "<matplotlib.figure.Figure at 0x114daffd0>"
      ]
     },
     "metadata": {},
     "output_type": "display_data"
    }
   ],
   "source": [
    "from sklearn import metrics\n",
    "\n",
    "y_actual = df_sorted[\"Experimental Category\"]\n",
    "# predicted score come from logistic regression\n",
    "y_predicted = predicted\n",
    "\n",
    "# ROC\n",
    "fpr, tpr, thresholds = metrics.roc_curve(y_actual, y_predicted)\n",
    "roc_auc = metrics.auc(fpr, tpr)\n",
    "\n",
    "# Plotting ROC curve\n",
    "fig = plt.figure(1, figsize=(4,4))\n",
    "plt.title('Receiver Operating Characteristic')\n",
    "plt.plot(fpr, tpr, 'b',\n",
    "label='AUC = %0.2f'% roc_auc)\n",
    "plt.legend(loc='lower right')\n",
    "plt.plot([0,1],[0,1],'r--')\n",
    "plt.xlim([-0.1,1.1])\n",
    "plt.ylim([-0.1,1.1])\n",
    "plt.ylabel('True Positive Rate')\n",
    "plt.xlabel('False Positive Rate')\n",
    "plt.savefig(\"NHISS_ROC.svg\")"
   ]
  },
  {
   "cell_type": "code",
   "execution_count": 17,
   "metadata": {
    "collapsed": false
   },
   "outputs": [
    {
     "name": "stdout",
     "output_type": "stream",
     "text": [
      "TPR: [ 0.77777778  0.96296296  1.          1.          1.          1.        ]\n",
      "FPR: [ 0.       0.       0.125    0.375    0.71875  1.     ]\n",
      "Treshold: [  1.00000000e+00   9.99999987e-01   1.99999999e-01   7.91766795e-10\n",
      "   2.50757865e-18   7.94167012e-27]\n"
     ]
    }
   ],
   "source": [
    "print(\"TPR:\", tpr)\n",
    "print(\"FPR:\", fpr)\n",
    "print(\"Treshold:\", thresholds)"
   ]
  },
  {
   "cell_type": "markdown",
   "metadata": {},
   "source": [
    "#### Bootstrap for ROC AUC confidence intervals"
   ]
  },
  {
   "cell_type": "code",
   "execution_count": 18,
   "metadata": {
    "collapsed": false,
    "scrolled": true
   },
   "outputs": [
    {
     "name": "stdout",
     "output_type": "stream",
     "text": [
      "Original ROC area: 0.998\n",
      "95% Confidence interval for the score: [0.991 - 1.0]\n"
     ]
    },
    {
     "data": {
      "image/png": "[encoded data removed]",
      "text/plain": [
       "<matplotlib.figure.Figure at 0x11aa9a390>"
      ]
     },
     "metadata": {},
     "output_type": "display_data"
    }
   ],
   "source": [
    "y_actual = np.array(y_actual).astype(int)\n",
    "y_predicted = np.array(y_predicted)\n",
    "print(\"Original ROC area: {:0.3f}\".format(metrics.roc_auc_score(y_actual, y_predicted)))\n",
    "\n",
    "n_bootstraps = 1000\n",
    "rng_seed = 0  # control reproducibility\n",
    "bootstrapped_scores = []\n",
    "\n",
    "rng = np.random.RandomState(rng_seed)\n",
    "for i in range(n_bootstraps):\n",
    "\n",
    "    # bootstrap by sampling with replacement on the prediction indices\n",
    "    indices = rng.random_integers(0, len(y_predicted) - 1, len(y_predicted))\n",
    " \n",
    "    if len(np.unique(y_actual[indices])) < 2:\n",
    "        # We need at least one positive and one negative sample for ROC AUC\n",
    "        # to be defined: reject the sample\n",
    "        continue\n",
    "\n",
    "    score = metrics.roc_auc_score(y_actual[indices], y_predicted[indices])\n",
    "    bootstrapped_scores.append(score)\n",
    "    #print(\"Bootstrap #{} ROC area: {:0.3f}\".format(i + 1, score))\n",
    "\n",
    "fig = plt.figure(1, figsize=(9,4))\n",
    "plt.subplot(1,2,1)\n",
    "plt.hist(bootstrapped_scores, bins=50)\n",
    "plt.title('Histogram of the bootstrapped ROC AUC scores')\n",
    "# plt.show()\n",
    "\n",
    "sorted_scores = np.array(bootstrapped_scores)\n",
    "sorted_scores.sort()\n",
    "\n",
    "# Computing the lower and upper bound of the 95% confidence interval\n",
    "# 95% CI percentiles to 0.025 and 0.975\n",
    "confidence_lower = sorted_scores[int(0.025 * len(sorted_scores))]\n",
    "confidence_upper = sorted_scores[int(0.975 * len(sorted_scores))]\n",
    "print(\"95% Confidence interval for the score: [{:0.3f} - {:0.3}]\".format(\n",
    "    confidence_lower, confidence_upper))\n",
    "\n",
    "# Plotting ROC curve\n",
    "#fig = plt.figure(1, figsize=(4,4))\n",
    "plt.subplot(1,2,2)\n",
    "plt.title('Receiver Operating Characteristic')\n",
    "plt.plot(fpr, tpr, 'b', label='AUC={0:0.2f} 95%CI: [{1:0.2f},{2:0.2f}]'.format(roc_auc, confidence_lower, confidence_upper))\n",
    "plt.legend(loc='lower right', prop={'size':10})\n",
    "plt.plot([0,1],[0,1],'r--')\n",
    "plt.xlim([-0.1,1.1])\n",
    "plt.ylim([-0.1,1.1])\n",
    "plt.ylabel('True Positive Rate')\n",
    "plt.xlabel('False Positive Rate')\n",
    "plt.savefig(\"NHISS_ROC_with_histogram.png\", dpi=200)\n",
    "plt.savefig(\"NHISS_ROC_with_histogram.svg\")"
   ]
  },
  {
   "cell_type": "code",
   "execution_count": 19,
   "metadata": {
    "collapsed": false
   },
   "outputs": [
    {
     "data": {
      "image/png": "[encoded data removed]",
      "text/plain": [
       "<matplotlib.figure.Figure at 0x11aa77ed0>"
      ]
     },
     "metadata": {},
     "output_type": "display_data"
    }
   ],
   "source": [
    "# Plotting ROC curve\n",
    "fig = plt.figure(1, figsize=(4,4))\n",
    "plt.title('Receiver Operating Characteristic', size=16)\n",
    "plt.plot(fpr, tpr, 'b', label='AUC={0:0.2f} \\n95% CI: [{1:0.2f},{2:0.2f}]'.format(roc_auc, confidence_lower, confidence_upper))\n",
    "plt.legend(loc='lower right', prop={'size':13})\n",
    "plt.plot([0,1],[0,1],'r--')\n",
    "plt.xlim([-0.1,1.1])\n",
    "plt.ylim([-0.1,1.1])\n",
    "plt.ylabel('True Positive Rate')\n",
    "plt.xlabel('False Positive Rate')\n",
    "plt.savefig(\"NHISS_ROC.png\", dpi=200)\n",
    "plt.savefig(\"NHISS_ROC.svg\")"
   ]
  },
  {
   "cell_type": "markdown",
   "metadata": {},
   "source": [
    "### 6. NHISS Confusion Matrix\n",
    "Threshold for confusion matrix was determined by inflection point of logistic regression."
   ]
  },
  {
   "cell_type": "code",
   "execution_count": 20,
   "metadata": {
    "collapsed": false
   },
   "outputs": [
    {
     "data": {
      "text/html": [
       "<div>\n",
       "<table border=\"1\" class=\"dataframe\">\n",
       "  <thead>\n",
       "    <tr style=\"text-align: right;\">\n",
       "      <th></th>\n",
       "      <th>File Name</th>\n",
       "      <th>NAME</th>\n",
       "      <th>smiles</th>\n",
       "      <th>F</th>\n",
       "      <th>carbonyl</th>\n",
       "      <th>sulfinyl</th>\n",
       "      <th>sulfonyl</th>\n",
       "      <th>nitroso</th>\n",
       "      <th>nitro</th>\n",
       "      <th>SpMAX4_Bh(s)</th>\n",
       "      <th>Experimental INP Formation</th>\n",
       "      <th>SpMAX4_Bh(s) Analysis Group</th>\n",
       "      <th>NHISS</th>\n",
       "      <th>Experimental Category</th>\n",
       "      <th>Pred Category by NHISS</th>\n",
       "    </tr>\n",
       "  </thead>\n",
       "  <tbody>\n",
       "    <tr>\n",
       "      <th>0</th>\n",
       "      <td>ABT737.mol</td>\n",
       "      <td>ABT737</td>\n",
       "      <td>CN(C)CC[C@@H](CSc1ccccc1)Nc2ccc(cc2[N+](=O)[O-...</td>\n",
       "      <td>0</td>\n",
       "      <td>1</td>\n",
       "      <td>0</td>\n",
       "      <td>1</td>\n",
       "      <td>0</td>\n",
       "      <td>1</td>\n",
       "      <td>7.00</td>\n",
       "      <td>Yes</td>\n",
       "      <td>Validation</td>\n",
       "      <td>5</td>\n",
       "      <td>1</td>\n",
       "      <td>1</td>\n",
       "    </tr>\n",
       "    <tr>\n",
       "      <th>1</th>\n",
       "      <td>AZD-4547.mol</td>\n",
       "      <td>AZD-4547</td>\n",
       "      <td>C[C@@H]1CN(C[C@@H](N1)C)c2ccc(cc2)C(=O)Nc3cc([...</td>\n",
       "      <td>0</td>\n",
       "      <td>1</td>\n",
       "      <td>0</td>\n",
       "      <td>0</td>\n",
       "      <td>0</td>\n",
       "      <td>0</td>\n",
       "      <td>4.72</td>\n",
       "      <td>No</td>\n",
       "      <td>Validation</td>\n",
       "      <td>1</td>\n",
       "      <td>0</td>\n",
       "      <td>0</td>\n",
       "    </tr>\n",
       "    <tr>\n",
       "      <th>2</th>\n",
       "      <td>Apitolisib.mol</td>\n",
       "      <td>Apitolisib</td>\n",
       "      <td>Cc1c(sc2c1nc(nc2N3CCOCC3)c4cnc(nc4)N)CN5CCN(CC...</td>\n",
       "      <td>0</td>\n",
       "      <td>1</td>\n",
       "      <td>0</td>\n",
       "      <td>0</td>\n",
       "      <td>0</td>\n",
       "      <td>0</td>\n",
       "      <td>5.01</td>\n",
       "      <td>No</td>\n",
       "      <td>Validation</td>\n",
       "      <td>1</td>\n",
       "      <td>0</td>\n",
       "      <td>0</td>\n",
       "    </tr>\n",
       "    <tr>\n",
       "      <th>3</th>\n",
       "      <td>Avagacestat.mol</td>\n",
       "      <td>Avagacestat</td>\n",
       "      <td>c1cc(ccc1S(=O)(=O)[N@@](Cc2ccc(cc2F)c3ncon3)[C...</td>\n",
       "      <td>4</td>\n",
       "      <td>1</td>\n",
       "      <td>0</td>\n",
       "      <td>1</td>\n",
       "      <td>0</td>\n",
       "      <td>0</td>\n",
       "      <td>8.00</td>\n",
       "      <td>Yes</td>\n",
       "      <td>Validation</td>\n",
       "      <td>7</td>\n",
       "      <td>1</td>\n",
       "      <td>1</td>\n",
       "    </tr>\n",
       "    <tr>\n",
       "      <th>4</th>\n",
       "      <td>Avasimibe.mol</td>\n",
       "      <td>Avasimibe</td>\n",
       "      <td>CC(C)c1cccc(c1OS(=O)(=O)NC(=O)Cc2c(cc(cc2C(C)C...</td>\n",
       "      <td>0</td>\n",
       "      <td>1</td>\n",
       "      <td>0</td>\n",
       "      <td>1</td>\n",
       "      <td>0</td>\n",
       "      <td>0</td>\n",
       "      <td>4.79</td>\n",
       "      <td>Yes</td>\n",
       "      <td>Validation</td>\n",
       "      <td>3</td>\n",
       "      <td>1</td>\n",
       "      <td>0</td>\n",
       "    </tr>\n",
       "  </tbody>\n",
       "</table>\n",
       "</div>"
      ],
      "text/plain": [
       "         File Name         NAME  \\\n",
       "0       ABT737.mol       ABT737   \n",
       "1     AZD-4547.mol     AZD-4547   \n",
       "2   Apitolisib.mol   Apitolisib   \n",
       "3  Avagacestat.mol  Avagacestat   \n",
       "4    Avasimibe.mol    Avasimibe   \n",
       "\n",
       "                                              smiles  F  carbonyl  sulfinyl  \\\n",
       "0  CN(C)CC[C@@H](CSc1ccccc1)Nc2ccc(cc2[N+](=O)[O-...  0         1         0   \n",
       "1  C[C@@H]1CN(C[C@@H](N1)C)c2ccc(cc2)C(=O)Nc3cc([...  0         1         0   \n",
       "2  Cc1c(sc2c1nc(nc2N3CCOCC3)c4cnc(nc4)N)CN5CCN(CC...  0         1         0   \n",
       "3  c1cc(ccc1S(=O)(=O)[N@@](Cc2ccc(cc2F)c3ncon3)[C...  4         1         0   \n",
       "4  CC(C)c1cccc(c1OS(=O)(=O)NC(=O)Cc2c(cc(cc2C(C)C...  0         1         0   \n",
       "\n",
       "   sulfonyl  nitroso  nitro  SpMAX4_Bh(s) Experimental INP Formation  \\\n",
       "0         1        0      1          7.00                        Yes   \n",
       "1         0        0      0          4.72                         No   \n",
       "2         0        0      0          5.01                         No   \n",
       "3         1        0      0          8.00                        Yes   \n",
       "4         1        0      0          4.79                        Yes   \n",
       "\n",
       "  SpMAX4_Bh(s) Analysis Group NHISS Experimental Category  \\\n",
       "0                  Validation     5                     1   \n",
       "1                  Validation     1                     0   \n",
       "2                  Validation     1                     0   \n",
       "3                  Validation     7                     1   \n",
       "4                  Validation     3                     1   \n",
       "\n",
       "  Pred Category by NHISS  \n",
       "0                      1  \n",
       "1                      0  \n",
       "2                      0  \n",
       "3                      1  \n",
       "4                      0  "
      ]
     },
     "execution_count": 20,
     "metadata": {},
     "output_type": "execute_result"
    }
   ],
   "source": [
    "df_molecules[\"Pred Category by NHISS\"]= None\n",
    "    \n",
    "for i, row in enumerate(df_molecules.iterrows()):\n",
    "    logP = float(df_molecules.ix[i, \"NHISS\"])\n",
    "    #print(logD)\n",
    "    if logP < threshold:\n",
    "        df_molecules.ix[i, \"Pred Category by NHISS\"] = 0\n",
    "    else:\n",
    "        df_molecules.ix[i, \"Pred Category by NHISS\"] = 1\n",
    "df_molecules.head()"
   ]
  },
  {
   "cell_type": "code",
   "execution_count": 21,
   "metadata": {
    "collapsed": false
   },
   "outputs": [
    {
     "name": "stdout",
     "output_type": "stream",
     "text": [
      "NHISS \n",
      "Accuracy= 0.98\n",
      "NHISS threshold= 3.07\n",
      "\n",
      "Predicted   0   1\n",
      "Actual           \n",
      "0          32   0\n",
      "1           1  26\n"
     ]
    }
   ],
   "source": [
    "exp_NP = df_molecules.ix[:,\"Experimental Category\"].astype(int)\n",
    "pred_NP = df_molecules.ix[:, \"Pred Category by NHISS\"].astype(int)\n",
    "\n",
    "actual = pd.Series(exp_NP, name= \"Actual\")\n",
    "predicted = pd.Series(pred_NP, name= \"Predicted\")\n",
    "df_confusion = pd.crosstab(actual, predicted)\n",
    "    \n",
    "# Accuracy = (TP+TN)/(TP+TN+FP+FN)\n",
    "TP = df_confusion.ix[1,1]\n",
    "TN = df_confusion.ix[0,0]\n",
    "FP = df_confusion.ix[0,1]\n",
    "FN = df_confusion.ix[1,0]\n",
    "    \n",
    "accuracy = (TP+TN)/(TP+TN+FP+FN)\n",
    "    \n",
    "print(\"NHISS\", \"\\nAccuracy= {:.2f}\".format(accuracy))\n",
    "print(\"NHISS threshold= {:.2f}\\n\".format(threshold)) \n",
    "print(df_confusion)"
   ]
  }
 ],
 "metadata": {
  "kernelspec": {
   "display_name": "Python 2",
   "language": "python",
   "name": "python2"
  },
  "language_info": {
   "codemirror_mode": {
    "name": "ipython",
    "version": 2
   },
   "file_extension": ".py",
   "mimetype": "text/x-python",
   "name": "python",
   "nbconvert_exporter": "python",
   "pygments_lexer": "ipython2",
   "version": "2.7.12"
  }
 },
 "nbformat": 4,
 "nbformat_minor": 0
}
