{
 "cells": [
  {
   "cell_type": "markdown",
   "metadata": {},
   "source": [
    "## Comparing INP classification based on NHISS vs SpMAX4_Bh(s)\n",
    "\n",
    "Indocyanine nanoparticle (INP) former and non-former classification of NHISS and SpMAX4_Bh(s) descriptors were compared by plotting, calculating correlation coefficients and constructing confusion matrix. Threshold values of both descriptors were determined based on their respective training sets: N=16 for SpMAX4_Bh(s) and N=52 for NHISS."
   ]
  },
  {
   "cell_type": "code",
   "execution_count": 1,
   "metadata": {
    "collapsed": true
   },
   "outputs": [],
   "source": [
    "import pandas as pd\n",
    "import numpy as np\n",
    "import os\n",
    "from matplotlib import pyplot as plt\n",
    "%matplotlib inline "
   ]
  },
  {
   "cell_type": "code",
   "execution_count": 2,
   "metadata": {
    "collapsed": false
   },
   "outputs": [
    {
     "name": "stdout",
     "output_type": "stream",
     "text": [
      "(415, 17)\n",
      "(414, 17)\n"
     ]
    },
    {
     "data": {
      "text/html": [
       "<div>\n",
       "<table border=\"1\" class=\"dataframe\">\n",
       "  <thead>\n",
       "    <tr style=\"text-align: right;\">\n",
       "      <th></th>\n",
       "      <th>NAME</th>\n",
       "      <th>molecule label</th>\n",
       "      <th>smiles</th>\n",
       "      <th>F</th>\n",
       "      <th>carbonyl</th>\n",
       "      <th>sulfinyl</th>\n",
       "      <th>sulfonyl</th>\n",
       "      <th>nitroso</th>\n",
       "      <th>nitro</th>\n",
       "      <th>NHISS</th>\n",
       "      <th>SpMax1_Bh(s)</th>\n",
       "      <th>SpMax2_Bh(s)</th>\n",
       "      <th>SpMax3_Bh(s)</th>\n",
       "      <th>SpMax4_Bh(s)</th>\n",
       "      <th>SpMax5_Bh(s)</th>\n",
       "      <th>SpMax6_Bh(s)</th>\n",
       "      <th>SpMax7_Bh(s)</th>\n",
       "    </tr>\n",
       "  </thead>\n",
       "  <tbody>\n",
       "    <tr>\n",
       "      <th>0</th>\n",
       "      <td>A 939572.mol</td>\n",
       "      <td>A 939572</td>\n",
       "      <td>CNC(=O)c1cccc(c1)NC(=O)N2CCC(CC2)Oc3ccccc3Cl</td>\n",
       "      <td>0</td>\n",
       "      <td>2</td>\n",
       "      <td>0</td>\n",
       "      <td>0</td>\n",
       "      <td>0</td>\n",
       "      <td>0</td>\n",
       "      <td>2</td>\n",
       "      <td>7.432</td>\n",
       "      <td>7.427</td>\n",
       "      <td>4.990</td>\n",
       "      <td>4.725</td>\n",
       "      <td>4.485</td>\n",
       "      <td>4.314</td>\n",
       "      <td>4.183</td>\n",
       "    </tr>\n",
       "    <tr>\n",
       "      <th>1</th>\n",
       "      <td>ABT-751.mol</td>\n",
       "      <td>ABT-751</td>\n",
       "      <td>COc1ccc(cc1)S(=O)(=O)Nc2cccnc2Nc3ccc(cc3)O</td>\n",
       "      <td>0</td>\n",
       "      <td>0</td>\n",
       "      <td>0</td>\n",
       "      <td>1</td>\n",
       "      <td>0</td>\n",
       "      <td>0</td>\n",
       "      <td>2</td>\n",
       "      <td>7.717</td>\n",
       "      <td>6.999</td>\n",
       "      <td>6.471</td>\n",
       "      <td>4.920</td>\n",
       "      <td>4.844</td>\n",
       "      <td>4.615</td>\n",
       "      <td>4.328</td>\n",
       "    </tr>\n",
       "    <tr>\n",
       "      <th>2</th>\n",
       "      <td>ABT737.mol</td>\n",
       "      <td>ABT737</td>\n",
       "      <td>CN(C)CC[C@@H](CSc1ccccc1)Nc2ccc(cc2[N+](=O)[O-...</td>\n",
       "      <td>0</td>\n",
       "      <td>1</td>\n",
       "      <td>0</td>\n",
       "      <td>1</td>\n",
       "      <td>0</td>\n",
       "      <td>1</td>\n",
       "      <td>5</td>\n",
       "      <td>7.815</td>\n",
       "      <td>7.718</td>\n",
       "      <td>7.427</td>\n",
       "      <td>6.999</td>\n",
       "      <td>6.999</td>\n",
       "      <td>4.959</td>\n",
       "      <td>4.760</td>\n",
       "    </tr>\n",
       "    <tr>\n",
       "      <th>3</th>\n",
       "      <td>AGI-6780.mol</td>\n",
       "      <td>AGI-6780</td>\n",
       "      <td>c1cc(cc(c1)NC(=O)Nc2cc(ccc2c3ccsc3)S(=O)(=O)NC...</td>\n",
       "      <td>3</td>\n",
       "      <td>1</td>\n",
       "      <td>0</td>\n",
       "      <td>1</td>\n",
       "      <td>0</td>\n",
       "      <td>0</td>\n",
       "      <td>6</td>\n",
       "      <td>8.513</td>\n",
       "      <td>7.999</td>\n",
       "      <td>7.999</td>\n",
       "      <td>7.717</td>\n",
       "      <td>7.431</td>\n",
       "      <td>6.999</td>\n",
       "      <td>4.792</td>\n",
       "    </tr>\n",
       "    <tr>\n",
       "      <th>4</th>\n",
       "      <td>AMI-1.mol</td>\n",
       "      <td>AMI-1</td>\n",
       "      <td>c1cc2c(cc1NC(=O)Nc3ccc4c(c3)cc(cc4O)S(=O)(=O)O...</td>\n",
       "      <td>0</td>\n",
       "      <td>1</td>\n",
       "      <td>0</td>\n",
       "      <td>2</td>\n",
       "      <td>0</td>\n",
       "      <td>0</td>\n",
       "      <td>5</td>\n",
       "      <td>7.864</td>\n",
       "      <td>7.855</td>\n",
       "      <td>7.431</td>\n",
       "      <td>7.246</td>\n",
       "      <td>7.243</td>\n",
       "      <td>6.999</td>\n",
       "      <td>6.999</td>\n",
       "    </tr>\n",
       "  </tbody>\n",
       "</table>\n",
       "</div>"
      ],
      "text/plain": [
       "           NAME molecule label  \\\n",
       "0  A 939572.mol       A 939572   \n",
       "1   ABT-751.mol        ABT-751   \n",
       "2    ABT737.mol         ABT737   \n",
       "3  AGI-6780.mol       AGI-6780   \n",
       "4     AMI-1.mol          AMI-1   \n",
       "\n",
       "                                              smiles  F  carbonyl  sulfinyl  \\\n",
       "0       CNC(=O)c1cccc(c1)NC(=O)N2CCC(CC2)Oc3ccccc3Cl  0         2         0   \n",
       "1         COc1ccc(cc1)S(=O)(=O)Nc2cccnc2Nc3ccc(cc3)O  0         0         0   \n",
       "2  CN(C)CC[C@@H](CSc1ccccc1)Nc2ccc(cc2[N+](=O)[O-...  0         1         0   \n",
       "3  c1cc(cc(c1)NC(=O)Nc2cc(ccc2c3ccsc3)S(=O)(=O)NC...  3         1         0   \n",
       "4  c1cc2c(cc1NC(=O)Nc3ccc4c(c3)cc(cc4O)S(=O)(=O)O...  0         1         0   \n",
       "\n",
       "   sulfonyl  nitroso  nitro  NHISS  SpMax1_Bh(s)  SpMax2_Bh(s)  SpMax3_Bh(s)  \\\n",
       "0         0        0      0      2         7.432         7.427         4.990   \n",
       "1         1        0      0      2         7.717         6.999         6.471   \n",
       "2         1        0      1      5         7.815         7.718         7.427   \n",
       "3         1        0      0      6         8.513         7.999         7.999   \n",
       "4         2        0      0      5         7.864         7.855         7.431   \n",
       "\n",
       "   SpMax4_Bh(s)  SpMax5_Bh(s)  SpMax6_Bh(s)  SpMax7_Bh(s)  \n",
       "0         4.725         4.485         4.314         4.183  \n",
       "1         4.920         4.844         4.615         4.328  \n",
       "2         6.999         6.999         4.959         4.760  \n",
       "3         7.717         7.431         6.999         4.792  \n",
       "4         7.246         7.243         6.999         6.999  "
      ]
     },
     "execution_count": 2,
     "metadata": {},
     "output_type": "execute_result"
    }
   ],
   "source": [
    "df_molecules_spmax=pd.DataFrame.from_csv('df_molecules_spmax.csv', encoding='utf-8')\n",
    "df_molecules_spmax=df_molecules_spmax.iloc[:,0:17]\n",
    "\n",
    "#Drop drugs with NAN Spmax values from the dataframe\n",
    "print(df_molecules_spmax.shape)\n",
    "df_molecules_spmax = df_molecules_spmax.dropna(subset=[\"SpMax4_Bh(s)\"])\n",
    "df_molecules_spmax= df_molecules_spmax.reset_index(drop=True)\n",
    "print(df_molecules_spmax.shape)\n",
    "\n",
    "df_molecules_spmax.head()"
   ]
  },
  {
   "cell_type": "code",
   "execution_count": 3,
   "metadata": {
    "collapsed": false
   },
   "outputs": [
    {
     "data": {
      "text/html": [
       "<div>\n",
       "<table border=\"1\" class=\"dataframe\">\n",
       "  <thead>\n",
       "    <tr style=\"text-align: right;\">\n",
       "      <th></th>\n",
       "      <th>molecule label</th>\n",
       "      <th>smiles</th>\n",
       "      <th>NHISS</th>\n",
       "    </tr>\n",
       "  </thead>\n",
       "  <tbody>\n",
       "    <tr>\n",
       "      <th>409</th>\n",
       "      <td>levothyroxine</td>\n",
       "      <td>c1c(cc(c(c1I)Oc2cc(c(c(c2)I)O)I)I)C[C@@H](C(=O...</td>\n",
       "      <td>1</td>\n",
       "    </tr>\n",
       "    <tr>\n",
       "      <th>410</th>\n",
       "      <td>linagliptin</td>\n",
       "      <td>CC#CCn1c2c(nc1[N@]3CCC[C@H](C3)N)n(c(=O)n(c2=O...</td>\n",
       "      <td>2</td>\n",
       "    </tr>\n",
       "    <tr>\n",
       "      <th>411</th>\n",
       "      <td>mebendazole</td>\n",
       "      <td>COC(=O)Nc1[nH]c2ccc(cc2n1)C(=O)c3ccccc3</td>\n",
       "      <td>2</td>\n",
       "    </tr>\n",
       "    <tr>\n",
       "      <th>412</th>\n",
       "      <td>mek azd</td>\n",
       "      <td>Cn1cnc2c1cc(c(c2F)Nc3ccc(cc3Cl)Br)C(=O)NOCCO</td>\n",
       "      <td>2</td>\n",
       "    </tr>\n",
       "    <tr>\n",
       "      <th>413</th>\n",
       "      <td>mestranol</td>\n",
       "      <td>C[C@]12CC[C@@H]3c4ccc(cc4CC[C@H]3[C@@H]1CC[C@]...</td>\n",
       "      <td>0</td>\n",
       "    </tr>\n",
       "  </tbody>\n",
       "</table>\n",
       "</div>"
      ],
      "text/plain": [
       "    molecule label                                             smiles  NHISS\n",
       "409  levothyroxine  c1c(cc(c(c1I)Oc2cc(c(c(c2)I)O)I)I)C[C@@H](C(=O...      1\n",
       "410    linagliptin  CC#CCn1c2c(nc1[N@]3CCC[C@H](C3)N)n(c(=O)n(c2=O...      2\n",
       "411    mebendazole            COC(=O)Nc1[nH]c2ccc(cc2n1)C(=O)c3ccccc3      2\n",
       "412        mek azd       Cn1cnc2c1cc(c(c2F)Nc3ccc(cc3Cl)Br)C(=O)NOCCO      2\n",
       "413      mestranol  C[C@]12CC[C@@H]3c4ccc(cc4CC[C@H]3[C@@H]1CC[C@]...      0"
      ]
     },
     "execution_count": 3,
     "metadata": {},
     "output_type": "execute_result"
    }
   ],
   "source": [
    "df_430molecules_NHISS=df_molecules_spmax.ix[:,(\"molecule label\", \"smiles\",\"NHISS\")]\n",
    "csv=df_430molecules_NHISS.to_csv(file_name=\"df_430molecules_NHISS.csv\", sep=\",\")\n",
    "df_430molecules_NHISS.tail()"
   ]
  },
  {
   "cell_type": "markdown",
   "metadata": {},
   "source": [
    "### 1. Plotting SpMAX vs NHISS values"
   ]
  },
  {
   "cell_type": "code",
   "execution_count": 4,
   "metadata": {
    "collapsed": false
   },
   "outputs": [
    {
     "data": {
      "text/plain": [
       "(3, 9)"
      ]
     },
     "execution_count": 4,
     "metadata": {},
     "output_type": "execute_result"
    },
    {
     "data": {
      "image/png": "[encoded data removed]",
      "text/plain": [
       "<matplotlib.figure.Figure at 0x11302fe10>"
      ]
     },
     "metadata": {},
     "output_type": "display_data"
    }
   ],
   "source": [
    "NHISS = df_molecules_spmax.loc[:,\"NHISS\"]\n",
    "spmax3 = df_molecules_spmax.loc[:, \"SpMax3_Bh(s)\"]\n",
    "spmax4 = df_molecules_spmax.loc[:, \"SpMax4_Bh(s)\"]\n",
    "spmax5 = df_molecules_spmax.loc[:, \"SpMax5_Bh(s)\"]\n",
    "\n",
    "plt.plot(NHISS, spmax3, 'o' , label=\"SpMax3\")\n",
    "plt.xlabel(\"NHISS\"); plt.ylabel(\"SpMax value\"); plt.legend(loc=\"lower right\"); plt.ylim(3,9)"
   ]
  },
  {
   "cell_type": "code",
   "execution_count": 5,
   "metadata": {
    "collapsed": false
   },
   "outputs": [
    {
     "data": {
      "text/plain": [
       "(3, 9)"
      ]
     },
     "execution_count": 5,
     "metadata": {},
     "output_type": "execute_result"
    },
    {
     "data": {
      "image/png": "[encoded data removed]",
      "text/plain": [
       "<matplotlib.figure.Figure at 0x11302fc10>"
      ]
     },
     "metadata": {},
     "output_type": "display_data"
    }
   ],
   "source": [
    "plt.plot(NHISS, spmax4, 'o' , label=\"SpMax4\")\n",
    "plt.xlabel(\"NHISS\"); plt.ylabel(\"SpMax value\"); plt.legend(loc=\"lower right\"); plt.ylim(3,9)"
   ]
  },
  {
   "cell_type": "code",
   "execution_count": 6,
   "metadata": {
    "collapsed": false
   },
   "outputs": [
    {
     "data": {
      "text/plain": [
       "(3, 9)"
      ]
     },
     "execution_count": 6,
     "metadata": {},
     "output_type": "execute_result"
    },
    {
     "data": {
      "image/png": "[encoded data removed]",
      "text/plain": [
       "<matplotlib.figure.Figure at 0x112fb34d0>"
      ]
     },
     "metadata": {},
     "output_type": "display_data"
    }
   ],
   "source": [
    "plt.plot(NHISS, spmax5, 'o' , label=\"SpMax5\")\n",
    "plt.xlabel(\"NHISS\"); plt.ylabel(\"SpMax value\"); plt.legend(loc=\"lower right\"); plt.ylim(3,9)"
   ]
  },
  {
   "cell_type": "code",
   "execution_count": 7,
   "metadata": {
    "collapsed": false
   },
   "outputs": [
    {
     "data": {
      "text/plain": [
       "(3, 9)"
      ]
     },
     "execution_count": 7,
     "metadata": {},
     "output_type": "execute_result"
    },
    {
     "data": {
      "image/png": "[encoded data removed]",
      "text/plain": [
       "<matplotlib.figure.Figure at 0x112e3d4d0>"
      ]
     },
     "metadata": {},
     "output_type": "display_data"
    }
   ],
   "source": [
    "plt.plot(NHISS, spmax3, '.' , label=\"SpMax3\")\n",
    "plt.plot(NHISS, spmax4, '.' , label=\"SpMax4\")\n",
    "plt.plot(NHISS, spmax5, '.' , label=\"SpMax5\")\n",
    "plt.xlabel(\"NHISS\"); plt.ylabel(\"SpMax value\"); plt.legend(loc=\"lower right\"); plt.ylim(3,9)"
   ]
  },
  {
   "cell_type": "markdown",
   "metadata": {},
   "source": [
    "### 2. Checking categorization based on NHISS and SpMax4"
   ]
  },
  {
   "cell_type": "code",
   "execution_count": 8,
   "metadata": {
    "collapsed": false
   },
   "outputs": [
    {
     "data": {
      "text/plain": [
       "4.92"
      ]
     },
     "execution_count": 8,
     "metadata": {},
     "output_type": "execute_result"
    }
   ],
   "source": [
    "x=df_molecules_spmax.loc[1,\"SpMax4_Bh(s)\"]\n",
    "spmax4=float(\"{0:.2f}\".format(df_molecules_spmax.loc[1,\"SpMax4_Bh(s)\"]))\n",
    "spmax4"
   ]
  },
  {
   "cell_type": "code",
   "execution_count": 9,
   "metadata": {
    "collapsed": false
   },
   "outputs": [
    {
     "data": {
      "text/html": [
       "<div>\n",
       "<table border=\"1\" class=\"dataframe\">\n",
       "  <thead>\n",
       "    <tr style=\"text-align: right;\">\n",
       "      <th></th>\n",
       "      <th>NAME</th>\n",
       "      <th>molecule label</th>\n",
       "      <th>smiles</th>\n",
       "      <th>F</th>\n",
       "      <th>carbonyl</th>\n",
       "      <th>sulfinyl</th>\n",
       "      <th>sulfonyl</th>\n",
       "      <th>nitroso</th>\n",
       "      <th>nitro</th>\n",
       "      <th>NHISS</th>\n",
       "      <th>SpMax1_Bh(s)</th>\n",
       "      <th>SpMax2_Bh(s)</th>\n",
       "      <th>SpMax3_Bh(s)</th>\n",
       "      <th>SpMax4_Bh(s)</th>\n",
       "      <th>SpMax5_Bh(s)</th>\n",
       "      <th>SpMax6_Bh(s)</th>\n",
       "      <th>SpMax7_Bh(s)</th>\n",
       "      <th>spmax4_cat</th>\n",
       "      <th>NHISS_cat</th>\n",
       "    </tr>\n",
       "  </thead>\n",
       "  <tbody>\n",
       "    <tr>\n",
       "      <th>0</th>\n",
       "      <td>A 939572.mol</td>\n",
       "      <td>A 939572</td>\n",
       "      <td>CNC(=O)c1cccc(c1)NC(=O)N2CCC(CC2)Oc3ccccc3Cl</td>\n",
       "      <td>0</td>\n",
       "      <td>2</td>\n",
       "      <td>0</td>\n",
       "      <td>0</td>\n",
       "      <td>0</td>\n",
       "      <td>0</td>\n",
       "      <td>2</td>\n",
       "      <td>7.432</td>\n",
       "      <td>7.427</td>\n",
       "      <td>4.990</td>\n",
       "      <td>4.725</td>\n",
       "      <td>4.485</td>\n",
       "      <td>4.314</td>\n",
       "      <td>4.183</td>\n",
       "      <td>0</td>\n",
       "      <td>0</td>\n",
       "    </tr>\n",
       "    <tr>\n",
       "      <th>1</th>\n",
       "      <td>ABT-751.mol</td>\n",
       "      <td>ABT-751</td>\n",
       "      <td>COc1ccc(cc1)S(=O)(=O)Nc2cccnc2Nc3ccc(cc3)O</td>\n",
       "      <td>0</td>\n",
       "      <td>0</td>\n",
       "      <td>0</td>\n",
       "      <td>1</td>\n",
       "      <td>0</td>\n",
       "      <td>0</td>\n",
       "      <td>2</td>\n",
       "      <td>7.717</td>\n",
       "      <td>6.999</td>\n",
       "      <td>6.471</td>\n",
       "      <td>4.920</td>\n",
       "      <td>4.844</td>\n",
       "      <td>4.615</td>\n",
       "      <td>4.328</td>\n",
       "      <td>0</td>\n",
       "      <td>0</td>\n",
       "    </tr>\n",
       "    <tr>\n",
       "      <th>2</th>\n",
       "      <td>ABT737.mol</td>\n",
       "      <td>ABT737</td>\n",
       "      <td>CN(C)CC[C@@H](CSc1ccccc1)Nc2ccc(cc2[N+](=O)[O-...</td>\n",
       "      <td>0</td>\n",
       "      <td>1</td>\n",
       "      <td>0</td>\n",
       "      <td>1</td>\n",
       "      <td>0</td>\n",
       "      <td>1</td>\n",
       "      <td>5</td>\n",
       "      <td>7.815</td>\n",
       "      <td>7.718</td>\n",
       "      <td>7.427</td>\n",
       "      <td>6.999</td>\n",
       "      <td>6.999</td>\n",
       "      <td>4.959</td>\n",
       "      <td>4.760</td>\n",
       "      <td>1</td>\n",
       "      <td>1</td>\n",
       "    </tr>\n",
       "    <tr>\n",
       "      <th>3</th>\n",
       "      <td>AGI-6780.mol</td>\n",
       "      <td>AGI-6780</td>\n",
       "      <td>c1cc(cc(c1)NC(=O)Nc2cc(ccc2c3ccsc3)S(=O)(=O)NC...</td>\n",
       "      <td>3</td>\n",
       "      <td>1</td>\n",
       "      <td>0</td>\n",
       "      <td>1</td>\n",
       "      <td>0</td>\n",
       "      <td>0</td>\n",
       "      <td>6</td>\n",
       "      <td>8.513</td>\n",
       "      <td>7.999</td>\n",
       "      <td>7.999</td>\n",
       "      <td>7.717</td>\n",
       "      <td>7.431</td>\n",
       "      <td>6.999</td>\n",
       "      <td>4.792</td>\n",
       "      <td>1</td>\n",
       "      <td>1</td>\n",
       "    </tr>\n",
       "    <tr>\n",
       "      <th>4</th>\n",
       "      <td>AMI-1.mol</td>\n",
       "      <td>AMI-1</td>\n",
       "      <td>c1cc2c(cc1NC(=O)Nc3ccc4c(c3)cc(cc4O)S(=O)(=O)O...</td>\n",
       "      <td>0</td>\n",
       "      <td>1</td>\n",
       "      <td>0</td>\n",
       "      <td>2</td>\n",
       "      <td>0</td>\n",
       "      <td>0</td>\n",
       "      <td>5</td>\n",
       "      <td>7.864</td>\n",
       "      <td>7.855</td>\n",
       "      <td>7.431</td>\n",
       "      <td>7.246</td>\n",
       "      <td>7.243</td>\n",
       "      <td>6.999</td>\n",
       "      <td>6.999</td>\n",
       "      <td>1</td>\n",
       "      <td>1</td>\n",
       "    </tr>\n",
       "  </tbody>\n",
       "</table>\n",
       "</div>"
      ],
      "text/plain": [
       "           NAME molecule label  \\\n",
       "0  A 939572.mol       A 939572   \n",
       "1   ABT-751.mol        ABT-751   \n",
       "2    ABT737.mol         ABT737   \n",
       "3  AGI-6780.mol       AGI-6780   \n",
       "4     AMI-1.mol          AMI-1   \n",
       "\n",
       "                                              smiles  F  carbonyl  sulfinyl  \\\n",
       "0       CNC(=O)c1cccc(c1)NC(=O)N2CCC(CC2)Oc3ccccc3Cl  0         2         0   \n",
       "1         COc1ccc(cc1)S(=O)(=O)Nc2cccnc2Nc3ccc(cc3)O  0         0         0   \n",
       "2  CN(C)CC[C@@H](CSc1ccccc1)Nc2ccc(cc2[N+](=O)[O-...  0         1         0   \n",
       "3  c1cc(cc(c1)NC(=O)Nc2cc(ccc2c3ccsc3)S(=O)(=O)NC...  3         1         0   \n",
       "4  c1cc2c(cc1NC(=O)Nc3ccc4c(c3)cc(cc4O)S(=O)(=O)O...  0         1         0   \n",
       "\n",
       "   sulfonyl  nitroso  nitro  NHISS  SpMax1_Bh(s)  SpMax2_Bh(s)  SpMax3_Bh(s)  \\\n",
       "0         0        0      0      2         7.432         7.427         4.990   \n",
       "1         1        0      0      2         7.717         6.999         6.471   \n",
       "2         1        0      1      5         7.815         7.718         7.427   \n",
       "3         1        0      0      6         8.513         7.999         7.999   \n",
       "4         2        0      0      5         7.864         7.855         7.431   \n",
       "\n",
       "   SpMax4_Bh(s)  SpMax5_Bh(s)  SpMax6_Bh(s)  SpMax7_Bh(s) spmax4_cat NHISS_cat  \n",
       "0         4.725         4.485         4.314         4.183          0         0  \n",
       "1         4.920         4.844         4.615         4.328          0         0  \n",
       "2         6.999         6.999         4.959         4.760          1         1  \n",
       "3         7.717         7.431         6.999         4.792          1         1  \n",
       "4         7.246         7.243         6.999         6.999          1         1  "
      ]
     },
     "execution_count": 9,
     "metadata": {},
     "output_type": "execute_result"
    }
   ],
   "source": [
    "# Creating categorical values for SpMAx4 and NHISS\n",
    "df_molecules_spmax.loc[:,\"spmax4_cat\"] = None\n",
    "\n",
    "for i, row in enumerate(df_molecules_spmax.iterrows()):\n",
    "    # round SpMax4_Bh(s)to 2 decimal points\n",
    "    spmax4=float(\"{0:.2f}\".format(df_molecules_spmax.loc[i,\"SpMax4_Bh(s)\"]))\n",
    "    if spmax4 >= 7.0:\n",
    "        df_molecules_spmax.loc[i,\"spmax4_cat\"]=1\n",
    "    else:\n",
    "        df_molecules_spmax.loc[i,\"spmax4_cat\"]=0\n",
    "\n",
    "df_molecules_spmax.loc[:,\"NHISS_cat\"] = None\n",
    "\n",
    "for i, row in enumerate(df_molecules_spmax.iterrows()):\n",
    "    if df_molecules_spmax.loc[i,\"NHISS\"]>= 4.0:\n",
    "        df_molecules_spmax.loc[i,\"NHISS_cat\"]=1\n",
    "    else:\n",
    "        df_molecules_spmax.loc[i,\"NHISS_cat\"]=0\n",
    "df_molecules_spmax.head()"
   ]
  },
  {
   "cell_type": "code",
   "execution_count": 10,
   "metadata": {
    "collapsed": false
   },
   "outputs": [
    {
     "data": {
      "text/plain": [
       "(-0.05, 1.05)"
      ]
     },
     "execution_count": 10,
     "metadata": {},
     "output_type": "execute_result"
    },
    {
     "data": {
      "image/png": "[encoded data removed]",
      "text/plain": [
       "<matplotlib.figure.Figure at 0x112f37850>"
      ]
     },
     "metadata": {},
     "output_type": "display_data"
    }
   ],
   "source": [
    "spmax4_cat=df_molecules_spmax.loc[:,\"spmax4_cat\"]\n",
    "\n",
    "plt.plot(NHISS, spmax4_cat, 'o' , label=\"SpMax4_categorical>=7\")\n",
    "plt.xlabel(\"NHISS\"); plt.ylabel(\"SpMax value categorical\"); plt.legend(loc=\"lower right\"); plt.ylim(-0.05,1.05)"
   ]
  },
  {
   "cell_type": "code",
   "execution_count": 11,
   "metadata": {
    "collapsed": false
   },
   "outputs": [
    {
     "name": "stdout",
     "output_type": "stream",
     "text": [
      "count_0_0:  266\n",
      "count_0_1:  2\n",
      "count_1_0:  2\n",
      "count_1_1:  144\n"
     ]
    }
   ],
   "source": [
    "#New column to record position in confusion matrix\n",
    "df_molecules_spmax.loc[:,\"confusion_matrix\"] = None\n",
    "\n",
    "spmax4_cat=df_molecules_spmax.loc[:,\"spmax4_cat\"]\n",
    "NHISS_cat=df_molecules_spmax.loc[:,\"NHISS_cat\"]\n",
    "\n",
    "#(NHISS_cat, spmax4_cat)\n",
    "count_0_0=0\n",
    "count_0_1=0\n",
    "count_1_0=0\n",
    "count_1_1=0\n",
    "for i in range(len(NHISS_cat)):\n",
    "    if NHISS_cat[i]==0:\n",
    "        if spmax4_cat[i]==0:\n",
    "            count_0_0=count_0_0+1\n",
    "            df_molecules_spmax.loc[i,\"confusion_matrix\"]=\"TN\"\n",
    "        else:\n",
    "            count_0_1=count_0_1+1\n",
    "            df_molecules_spmax.loc[i,\"confusion_matrix\"]=\"FN\"\n",
    "    else:\n",
    "        if spmax4_cat[i]==0:\n",
    "            count_1_0=count_1_0+1\n",
    "            df_molecules_spmax.loc[i,\"confusion_matrix\"]=\"FP\"\n",
    "        else:\n",
    "            count_1_1=count_1_1+1\n",
    "            df_molecules_spmax.loc[i,\"confusion_matrix\"]=\"TP\"\n",
    "\n",
    "print \"count_0_0: \", count_0_0\n",
    "print \"count_0_1: \", count_0_1\n",
    "print \"count_1_0: \", count_1_0\n",
    "print \"count_1_1: \", count_1_1\n"
   ]
  },
  {
   "cell_type": "code",
   "execution_count": 12,
   "metadata": {
    "collapsed": false
   },
   "outputs": [
    {
     "name": "stdout",
     "output_type": "stream",
     "text": [
      "ACC: 0.990 (accuracy)\n",
      "TPR: 0.986 (sensitivity)\n",
      "TNR: 0.993 (specificity)\n",
      "PPV: 0.986 (precision)\n",
      "FDR: 0.014 (false discovery rate)\n",
      "NPV: 0.993\n",
      "FOR: 0.007\n",
      "FNR: 0.014\n",
      "FPR: 0.007\n"
     ]
    }
   ],
   "source": [
    "TP=float(count_1_1)\n",
    "TN=float(count_0_0)\n",
    "FP=float(count_1_0)\n",
    "FN=float(count_0_1)\n",
    "\n",
    "\n",
    "#Accuracy\n",
    "ACC= (TP+TN)/(TP+TN+FP+FN)\n",
    "print \"ACC: {0:.3f} (accuracy)\".format(ACC) \n",
    "\n",
    "#True positive rate = sensitivity\n",
    "TPR= TP/(TP+FN)\n",
    "print \"TPR: {0:.3f} (sensitivity)\".format(TPR) \n",
    "\n",
    "#True negative rate = specificity\n",
    "TNR=TN/(FP+TN)\n",
    "print \"TNR: {0:.3f} (specificity)\".format(TNR) \n",
    "\n",
    "#Positive predictive value (precision)\n",
    "PPV=TP/(TP+FP)\n",
    "print \"PPV: {0:.3f} (precision)\".format(PPV) \n",
    "\n",
    "#False discovery rate\n",
    "FDR=1-PPV\n",
    "print \"FDR: {0:.3f} (false discovery rate)\".format(FDR) \n",
    "\n",
    "#Negative predictive value\n",
    "NPV=TN/(TN+FN)\n",
    "print \"NPV: {0:.3f}\".format(NPV) \n",
    "\n",
    "#False omission rate\n",
    "FOR=FN/(TN+FN)\n",
    "print \"FOR: {0:.3f}\".format(FOR) \n",
    "\n",
    "#False negative rate\n",
    "FNR=FN/(TP+FP)\n",
    "print \"FNR: {0:.3f}\".format(FNR) \n",
    "\n",
    "#False positive rate\n",
    "FPR=FP/(TN+FN)\n",
    "print \"FPR: {0:.3f}\".format(FPR) "
   ]
  },
  {
   "cell_type": "code",
   "execution_count": 13,
   "metadata": {
    "collapsed": false
   },
   "outputs": [
    {
     "data": {
      "text/html": [
       "<div>\n",
       "<table border=\"1\" class=\"dataframe\">\n",
       "  <thead>\n",
       "    <tr style=\"text-align: right;\">\n",
       "      <th></th>\n",
       "      <th>NAME</th>\n",
       "      <th>molecule label</th>\n",
       "      <th>smiles</th>\n",
       "      <th>F</th>\n",
       "      <th>carbonyl</th>\n",
       "      <th>sulfinyl</th>\n",
       "      <th>sulfonyl</th>\n",
       "      <th>nitroso</th>\n",
       "      <th>nitro</th>\n",
       "      <th>NHISS</th>\n",
       "      <th>SpMax1_Bh(s)</th>\n",
       "      <th>SpMax2_Bh(s)</th>\n",
       "      <th>SpMax3_Bh(s)</th>\n",
       "      <th>SpMax4_Bh(s)</th>\n",
       "      <th>SpMax5_Bh(s)</th>\n",
       "      <th>SpMax6_Bh(s)</th>\n",
       "      <th>SpMax7_Bh(s)</th>\n",
       "      <th>spmax4_cat</th>\n",
       "      <th>NHISS_cat</th>\n",
       "      <th>confusion_matrix</th>\n",
       "    </tr>\n",
       "  </thead>\n",
       "  <tbody>\n",
       "    <tr>\n",
       "      <th>0</th>\n",
       "      <td>A 939572.mol</td>\n",
       "      <td>A 939572</td>\n",
       "      <td>CNC(=O)c1cccc(c1)NC(=O)N2CCC(CC2)Oc3ccccc3Cl</td>\n",
       "      <td>0</td>\n",
       "      <td>2</td>\n",
       "      <td>0</td>\n",
       "      <td>0</td>\n",
       "      <td>0</td>\n",
       "      <td>0</td>\n",
       "      <td>2</td>\n",
       "      <td>7.432</td>\n",
       "      <td>7.427</td>\n",
       "      <td>4.990</td>\n",
       "      <td>4.725</td>\n",
       "      <td>4.485</td>\n",
       "      <td>4.314</td>\n",
       "      <td>4.183</td>\n",
       "      <td>0</td>\n",
       "      <td>0</td>\n",
       "      <td>TN</td>\n",
       "    </tr>\n",
       "    <tr>\n",
       "      <th>1</th>\n",
       "      <td>ABT-751.mol</td>\n",
       "      <td>ABT-751</td>\n",
       "      <td>COc1ccc(cc1)S(=O)(=O)Nc2cccnc2Nc3ccc(cc3)O</td>\n",
       "      <td>0</td>\n",
       "      <td>0</td>\n",
       "      <td>0</td>\n",
       "      <td>1</td>\n",
       "      <td>0</td>\n",
       "      <td>0</td>\n",
       "      <td>2</td>\n",
       "      <td>7.717</td>\n",
       "      <td>6.999</td>\n",
       "      <td>6.471</td>\n",
       "      <td>4.920</td>\n",
       "      <td>4.844</td>\n",
       "      <td>4.615</td>\n",
       "      <td>4.328</td>\n",
       "      <td>0</td>\n",
       "      <td>0</td>\n",
       "      <td>TN</td>\n",
       "    </tr>\n",
       "    <tr>\n",
       "      <th>2</th>\n",
       "      <td>ABT737.mol</td>\n",
       "      <td>ABT737</td>\n",
       "      <td>CN(C)CC[C@@H](CSc1ccccc1)Nc2ccc(cc2[N+](=O)[O-...</td>\n",
       "      <td>0</td>\n",
       "      <td>1</td>\n",
       "      <td>0</td>\n",
       "      <td>1</td>\n",
       "      <td>0</td>\n",
       "      <td>1</td>\n",
       "      <td>5</td>\n",
       "      <td>7.815</td>\n",
       "      <td>7.718</td>\n",
       "      <td>7.427</td>\n",
       "      <td>6.999</td>\n",
       "      <td>6.999</td>\n",
       "      <td>4.959</td>\n",
       "      <td>4.760</td>\n",
       "      <td>1</td>\n",
       "      <td>1</td>\n",
       "      <td>TP</td>\n",
       "    </tr>\n",
       "    <tr>\n",
       "      <th>3</th>\n",
       "      <td>AGI-6780.mol</td>\n",
       "      <td>AGI-6780</td>\n",
       "      <td>c1cc(cc(c1)NC(=O)Nc2cc(ccc2c3ccsc3)S(=O)(=O)NC...</td>\n",
       "      <td>3</td>\n",
       "      <td>1</td>\n",
       "      <td>0</td>\n",
       "      <td>1</td>\n",
       "      <td>0</td>\n",
       "      <td>0</td>\n",
       "      <td>6</td>\n",
       "      <td>8.513</td>\n",
       "      <td>7.999</td>\n",
       "      <td>7.999</td>\n",
       "      <td>7.717</td>\n",
       "      <td>7.431</td>\n",
       "      <td>6.999</td>\n",
       "      <td>4.792</td>\n",
       "      <td>1</td>\n",
       "      <td>1</td>\n",
       "      <td>TP</td>\n",
       "    </tr>\n",
       "    <tr>\n",
       "      <th>4</th>\n",
       "      <td>AMI-1.mol</td>\n",
       "      <td>AMI-1</td>\n",
       "      <td>c1cc2c(cc1NC(=O)Nc3ccc4c(c3)cc(cc4O)S(=O)(=O)O...</td>\n",
       "      <td>0</td>\n",
       "      <td>1</td>\n",
       "      <td>0</td>\n",
       "      <td>2</td>\n",
       "      <td>0</td>\n",
       "      <td>0</td>\n",
       "      <td>5</td>\n",
       "      <td>7.864</td>\n",
       "      <td>7.855</td>\n",
       "      <td>7.431</td>\n",
       "      <td>7.246</td>\n",
       "      <td>7.243</td>\n",
       "      <td>6.999</td>\n",
       "      <td>6.999</td>\n",
       "      <td>1</td>\n",
       "      <td>1</td>\n",
       "      <td>TP</td>\n",
       "    </tr>\n",
       "  </tbody>\n",
       "</table>\n",
       "</div>"
      ],
      "text/plain": [
       "           NAME molecule label  \\\n",
       "0  A 939572.mol       A 939572   \n",
       "1   ABT-751.mol        ABT-751   \n",
       "2    ABT737.mol         ABT737   \n",
       "3  AGI-6780.mol       AGI-6780   \n",
       "4     AMI-1.mol          AMI-1   \n",
       "\n",
       "                                              smiles  F  carbonyl  sulfinyl  \\\n",
       "0       CNC(=O)c1cccc(c1)NC(=O)N2CCC(CC2)Oc3ccccc3Cl  0         2         0   \n",
       "1         COc1ccc(cc1)S(=O)(=O)Nc2cccnc2Nc3ccc(cc3)O  0         0         0   \n",
       "2  CN(C)CC[C@@H](CSc1ccccc1)Nc2ccc(cc2[N+](=O)[O-...  0         1         0   \n",
       "3  c1cc(cc(c1)NC(=O)Nc2cc(ccc2c3ccsc3)S(=O)(=O)NC...  3         1         0   \n",
       "4  c1cc2c(cc1NC(=O)Nc3ccc4c(c3)cc(cc4O)S(=O)(=O)O...  0         1         0   \n",
       "\n",
       "   sulfonyl  nitroso  nitro  NHISS  SpMax1_Bh(s)  SpMax2_Bh(s)  SpMax3_Bh(s)  \\\n",
       "0         0        0      0      2         7.432         7.427         4.990   \n",
       "1         1        0      0      2         7.717         6.999         6.471   \n",
       "2         1        0      1      5         7.815         7.718         7.427   \n",
       "3         1        0      0      6         8.513         7.999         7.999   \n",
       "4         2        0      0      5         7.864         7.855         7.431   \n",
       "\n",
       "   SpMax4_Bh(s)  SpMax5_Bh(s)  SpMax6_Bh(s)  SpMax7_Bh(s) spmax4_cat  \\\n",
       "0         4.725         4.485         4.314         4.183          0   \n",
       "1         4.920         4.844         4.615         4.328          0   \n",
       "2         6.999         6.999         4.959         4.760          1   \n",
       "3         7.717         7.431         6.999         4.792          1   \n",
       "4         7.246         7.243         6.999         6.999          1   \n",
       "\n",
       "  NHISS_cat confusion_matrix  \n",
       "0         0               TN  \n",
       "1         0               TN  \n",
       "2         1               TP  \n",
       "3         1               TP  \n",
       "4         1               TP  "
      ]
     },
     "execution_count": 13,
     "metadata": {},
     "output_type": "execute_result"
    }
   ],
   "source": [
    "df_molecules_spmax.head()"
   ]
  },
  {
   "cell_type": "markdown",
   "metadata": {},
   "source": [
    "#### False positive and False negative drugs \n",
    "Drugs which are categorized differently by NHISS descriptor, compared to SpMAX4_Bh(s)\n",
    "False positive: NHISS predicts nanoparticle formation but SpMAX4_Bh(s) does not.\n",
    "False negative: NHISS predicts no nanoparticle formation but SpMAX4_Bh(s) categorizes the drug as nanoparticle former."
   ]
  },
  {
   "cell_type": "code",
   "execution_count": 14,
   "metadata": {
    "collapsed": false
   },
   "outputs": [
    {
     "name": "stdout",
     "output_type": "stream",
     "text": [
      "FN:  Fosinopril\n",
      "FN:  HMN-214\n",
      "FP:  Sulfinpyrazone\n",
      "FP:  Sulindac\n"
     ]
    }
   ],
   "source": [
    "for i, row in enumerate(df_molecules_spmax.iterrows()):\n",
    "    if df_molecules_spmax.loc[i,\"confusion_matrix\"]==\"FN\":\n",
    "        print \"FN: \", df_molecules_spmax.loc[i,\"molecule label\"]\n",
    "    elif df_molecules_spmax.loc[i,\"confusion_matrix\"]==\"FP\":\n",
    "        print \"FP: \", df_molecules_spmax.loc[i,\"molecule label\"]   "
   ]
  },
  {
   "cell_type": "code",
   "execution_count": 15,
   "metadata": {
    "collapsed": false
   },
   "outputs": [
    {
     "data": {
      "text/plain": [
       "SpearmanrResult(correlation=0.97883868329584955, pvalue=5.3186957332210779e-286)"
      ]
     },
     "execution_count": 15,
     "metadata": {},
     "output_type": "execute_result"
    }
   ],
   "source": [
    "from scipy.stats import spearmanr, kendalltau, pearsonr\n",
    "\n",
    "spearmanr(spmax4_cat, NHISS_cat)"
   ]
  },
  {
   "cell_type": "code",
   "execution_count": 16,
   "metadata": {
    "collapsed": false
   },
   "outputs": [
    {
     "data": {
      "text/plain": [
       "(0.97883868329584955, 5.3186957332208399e-286)"
      ]
     },
     "execution_count": 16,
     "metadata": {},
     "output_type": "execute_result"
    }
   ],
   "source": [
    "pearsonr(spmax4_cat, NHISS_cat)"
   ]
  }
 ],
 "metadata": {
  "kernelspec": {
   "display_name": "Python 2",
   "language": "python",
   "name": "python2"
  },
  "language_info": {
   "codemirror_mode": {
    "name": "ipython",
    "version": 2
   },
   "file_extension": ".py",
   "mimetype": "text/x-python",
   "name": "python",
   "nbconvert_exporter": "python",
   "pygments_lexer": "ipython2",
   "version": "2.7.12"
  }
 },
 "nbformat": 4,
 "nbformat_minor": 0
}
