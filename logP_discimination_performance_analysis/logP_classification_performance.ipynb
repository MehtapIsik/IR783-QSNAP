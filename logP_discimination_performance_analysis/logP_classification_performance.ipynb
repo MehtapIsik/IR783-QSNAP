{
 "cells": [
  {
   "cell_type": "markdown",
   "metadata": {},
   "source": [
    "# Analysis Categorization Performance of Various LogP Descriptors for Indocyanine Nanoparticle Formation\n",
    "Experimental data of 60 drugs for indocyanine nanoparticle formation was tested with IR783 dye.  \n",
    "ALOGP2 and cLogP values were calculated using Dragon 6 and Chem3D softwares, respectively and will be imported as a csv file. OpenEye XLogP values were calculated programmatically in this notebook using OpenEye OEchem (version 2.0.5) and OEmolprop (version 2.4.1) tools, using mol files of drugs as input."
   ]
  },
  {
   "cell_type": "code",
   "execution_count": 1,
   "metadata": {
    "collapsed": true
   },
   "outputs": [],
   "source": [
    "import pandas as pd\n",
    "import numpy as np\n",
    "import os\n",
    "import re\n",
    "import matplotlib.pyplot as plt\n",
    "%matplotlib inline"
   ]
  },
  {
   "cell_type": "code",
   "execution_count": 2,
   "metadata": {
    "collapsed": true
   },
   "outputs": [],
   "source": [
    "from __future__ import print_function\n",
    "from __future__ import division"
   ]
  },
  {
   "cell_type": "code",
   "execution_count": 3,
   "metadata": {
    "collapsed": false
   },
   "outputs": [
    {
     "data": {
      "text/html": [
       "<div>\n",
       "<table border=\"1\" class=\"dataframe\">\n",
       "  <thead>\n",
       "    <tr style=\"text-align: right;\">\n",
       "      <th></th>\n",
       "      <th>Drug Name</th>\n",
       "      <th>SpMAX4_Bh(s)</th>\n",
       "      <th>ALOGP2</th>\n",
       "      <th>CLogP</th>\n",
       "      <th>Experimental INP Formation</th>\n",
       "      <th>SpMAX4_Bh(s) Analysis Group</th>\n",
       "    </tr>\n",
       "  </thead>\n",
       "  <tbody>\n",
       "    <tr>\n",
       "      <th>0</th>\n",
       "      <td>ABT737</td>\n",
       "      <td>7.00</td>\n",
       "      <td>67.200</td>\n",
       "      <td>10.04</td>\n",
       "      <td>Yes</td>\n",
       "      <td>Validation</td>\n",
       "    </tr>\n",
       "    <tr>\n",
       "      <th>1</th>\n",
       "      <td>Apitolisib</td>\n",
       "      <td>5.01</td>\n",
       "      <td>1.800</td>\n",
       "      <td>1.35</td>\n",
       "      <td>No</td>\n",
       "      <td>Validation</td>\n",
       "    </tr>\n",
       "    <tr>\n",
       "      <th>2</th>\n",
       "      <td>Avagacestat</td>\n",
       "      <td>8.00</td>\n",
       "      <td>16.000</td>\n",
       "      <td>3.05</td>\n",
       "      <td>Yes</td>\n",
       "      <td>Validation</td>\n",
       "    </tr>\n",
       "    <tr>\n",
       "      <th>3</th>\n",
       "      <td>Avasimibe</td>\n",
       "      <td>4.79</td>\n",
       "      <td>67.695</td>\n",
       "      <td>9.70</td>\n",
       "      <td>Yes</td>\n",
       "      <td>Validation</td>\n",
       "    </tr>\n",
       "    <tr>\n",
       "      <th>4</th>\n",
       "      <td>AZD-4547</td>\n",
       "      <td>4.72</td>\n",
       "      <td>17.700</td>\n",
       "      <td>4.43</td>\n",
       "      <td>No</td>\n",
       "      <td>Validation</td>\n",
       "    </tr>\n",
       "  </tbody>\n",
       "</table>\n",
       "</div>"
      ],
      "text/plain": [
       "     Drug Name  SpMAX4_Bh(s)  ALOGP2  CLogP Experimental INP Formation  \\\n",
       "0       ABT737          7.00  67.200  10.04                        Yes   \n",
       "1   Apitolisib          5.01   1.800   1.35                         No   \n",
       "2  Avagacestat          8.00  16.000   3.05                        Yes   \n",
       "3    Avasimibe          4.79  67.695   9.70                        Yes   \n",
       "4     AZD-4547          4.72  17.700   4.43                         No   \n",
       "\n",
       "  SpMAX4_Bh(s) Analysis Group  \n",
       "0                  Validation  \n",
       "1                  Validation  \n",
       "2                  Validation  \n",
       "3                  Validation  \n",
       "4                  Validation  "
      ]
     },
     "execution_count": 3,
     "metadata": {},
     "output_type": "execute_result"
    }
   ],
   "source": [
    "df_exp_data = pd.read_csv(\"experimental_dataset_N60_ALOGP2_cLogP.csv\")\n",
    "df_exp_data.head()"
   ]
  },
  {
   "cell_type": "markdown",
   "metadata": {},
   "source": [
    "## A. ALOGP2\n",
    "### A.1. Plot ALOGP2 vs ALOGP2 rank"
   ]
  },
  {
   "cell_type": "code",
   "execution_count": 4,
   "metadata": {
    "collapsed": false
   },
   "outputs": [
    {
     "data": {
      "text/plain": [
       "Drug Name                       object\n",
       "SpMAX4_Bh(s)                   float64\n",
       "ALOGP2                         float64\n",
       "CLogP                          float64\n",
       "Experimental INP Formation      object\n",
       "SpMAX4_Bh(s) Analysis Group     object\n",
       "dtype: object"
      ]
     },
     "execution_count": 4,
     "metadata": {},
     "output_type": "execute_result"
    }
   ],
   "source": [
    "# Convert data type to float before sorting\n",
    "df_exp_data[[\"SpMAX4_Bh(s)\",\"ALOGP2\"]] = df_exp_data[[\"SpMAX4_Bh(s)\",\"ALOGP2\"]].apply(pd.to_numeric)\n",
    "df_exp_data.dtypes"
   ]
  },
  {
   "cell_type": "code",
   "execution_count": 5,
   "metadata": {
    "collapsed": false
   },
   "outputs": [
    {
     "data": {
      "text/html": [
       "<div>\n",
       "<table border=\"1\" class=\"dataframe\">\n",
       "  <thead>\n",
       "    <tr style=\"text-align: right;\">\n",
       "      <th></th>\n",
       "      <th>Drug Name</th>\n",
       "      <th>SpMAX4_Bh(s)</th>\n",
       "      <th>ALOGP2</th>\n",
       "      <th>CLogP</th>\n",
       "      <th>Experimental INP Formation</th>\n",
       "      <th>SpMAX4_Bh(s) Analysis Group</th>\n",
       "      <th>ALOGP2 rank</th>\n",
       "    </tr>\n",
       "  </thead>\n",
       "  <tbody>\n",
       "    <tr>\n",
       "      <th>0</th>\n",
       "      <td>Forskolin</td>\n",
       "      <td>6.44</td>\n",
       "      <td>0.5</td>\n",
       "      <td>1.31</td>\n",
       "      <td>No</td>\n",
       "      <td>Validation</td>\n",
       "      <td>0</td>\n",
       "    </tr>\n",
       "    <tr>\n",
       "      <th>1</th>\n",
       "      <td>Voxtalisib</td>\n",
       "      <td>4.62</td>\n",
       "      <td>0.7</td>\n",
       "      <td>0.74</td>\n",
       "      <td>No</td>\n",
       "      <td>Validation</td>\n",
       "      <td>1</td>\n",
       "    </tr>\n",
       "    <tr>\n",
       "      <th>2</th>\n",
       "      <td>Apitolisib</td>\n",
       "      <td>5.01</td>\n",
       "      <td>1.8</td>\n",
       "      <td>1.35</td>\n",
       "      <td>No</td>\n",
       "      <td>Validation</td>\n",
       "      <td>2</td>\n",
       "    </tr>\n",
       "    <tr>\n",
       "      <th>3</th>\n",
       "      <td>Camptotecin</td>\n",
       "      <td>4.99</td>\n",
       "      <td>3.0</td>\n",
       "      <td>0.60</td>\n",
       "      <td>No</td>\n",
       "      <td>Training</td>\n",
       "      <td>3</td>\n",
       "    </tr>\n",
       "    <tr>\n",
       "      <th>4</th>\n",
       "      <td>INK128</td>\n",
       "      <td>4.75</td>\n",
       "      <td>3.1</td>\n",
       "      <td>1.41</td>\n",
       "      <td>No</td>\n",
       "      <td>Validation</td>\n",
       "      <td>4</td>\n",
       "    </tr>\n",
       "  </tbody>\n",
       "</table>\n",
       "</div>"
      ],
      "text/plain": [
       "     Drug Name  SpMAX4_Bh(s)  ALOGP2  CLogP Experimental INP Formation  \\\n",
       "0    Forskolin          6.44     0.5   1.31                         No   \n",
       "1   Voxtalisib          4.62     0.7   0.74                         No   \n",
       "2   Apitolisib          5.01     1.8   1.35                         No   \n",
       "3  Camptotecin          4.99     3.0   0.60                         No   \n",
       "4       INK128          4.75     3.1   1.41                         No   \n",
       "\n",
       "  SpMAX4_Bh(s) Analysis Group  ALOGP2 rank  \n",
       "0                  Validation            0  \n",
       "1                  Validation            1  \n",
       "2                  Validation            2  \n",
       "3                    Training            3  \n",
       "4                  Validation            4  "
      ]
     },
     "execution_count": 5,
     "metadata": {},
     "output_type": "execute_result"
    }
   ],
   "source": [
    "df_exp_sorted = df_exp_data.sort_values(by=\"ALOGP2\", ascending=1).reset_index(drop=True)\n",
    "df_exp_sorted[\"ALOGP2 rank\"]=df_exp_sorted.index\n",
    "df_exp_sorted.head()"
   ]
  },
  {
   "cell_type": "code",
   "execution_count": 6,
   "metadata": {
    "collapsed": false
   },
   "outputs": [
    {
     "data": {
      "text/html": [
       "<div>\n",
       "<table border=\"1\" class=\"dataframe\">\n",
       "  <thead>\n",
       "    <tr style=\"text-align: right;\">\n",
       "      <th></th>\n",
       "      <th>Drug Name</th>\n",
       "      <th>SpMAX4_Bh(s)</th>\n",
       "      <th>ALOGP2</th>\n",
       "      <th>CLogP</th>\n",
       "      <th>Experimental INP Formation</th>\n",
       "      <th>SpMAX4_Bh(s) Analysis Group</th>\n",
       "      <th>ALOGP2 rank</th>\n",
       "    </tr>\n",
       "  </thead>\n",
       "  <tbody>\n",
       "    <tr>\n",
       "      <th>0</th>\n",
       "      <td>Forskolin</td>\n",
       "      <td>6.44</td>\n",
       "      <td>0.5</td>\n",
       "      <td>1.31</td>\n",
       "      <td>No</td>\n",
       "      <td>Validation</td>\n",
       "      <td>0</td>\n",
       "    </tr>\n",
       "    <tr>\n",
       "      <th>1</th>\n",
       "      <td>Voxtalisib</td>\n",
       "      <td>4.62</td>\n",
       "      <td>0.7</td>\n",
       "      <td>0.74</td>\n",
       "      <td>No</td>\n",
       "      <td>Validation</td>\n",
       "      <td>1</td>\n",
       "    </tr>\n",
       "    <tr>\n",
       "      <th>2</th>\n",
       "      <td>Apitolisib</td>\n",
       "      <td>5.01</td>\n",
       "      <td>1.8</td>\n",
       "      <td>1.35</td>\n",
       "      <td>No</td>\n",
       "      <td>Validation</td>\n",
       "      <td>2</td>\n",
       "    </tr>\n",
       "    <tr>\n",
       "      <th>3</th>\n",
       "      <td>Camptotecin</td>\n",
       "      <td>4.99</td>\n",
       "      <td>3.0</td>\n",
       "      <td>0.60</td>\n",
       "      <td>No</td>\n",
       "      <td>Training</td>\n",
       "      <td>3</td>\n",
       "    </tr>\n",
       "    <tr>\n",
       "      <th>4</th>\n",
       "      <td>INK128</td>\n",
       "      <td>4.75</td>\n",
       "      <td>3.1</td>\n",
       "      <td>1.41</td>\n",
       "      <td>No</td>\n",
       "      <td>Validation</td>\n",
       "      <td>4</td>\n",
       "    </tr>\n",
       "  </tbody>\n",
       "</table>\n",
       "</div>"
      ],
      "text/plain": [
       "     Drug Name  SpMAX4_Bh(s)  ALOGP2  CLogP Experimental INP Formation  \\\n",
       "0    Forskolin          6.44     0.5   1.31                         No   \n",
       "1   Voxtalisib          4.62     0.7   0.74                         No   \n",
       "2   Apitolisib          5.01     1.8   1.35                         No   \n",
       "3  Camptotecin          4.99     3.0   0.60                         No   \n",
       "4       INK128          4.75     3.1   1.41                         No   \n",
       "\n",
       "  SpMAX4_Bh(s) Analysis Group  ALOGP2 rank  \n",
       "0                  Validation            0  \n",
       "1                  Validation            1  \n",
       "2                  Validation            2  \n",
       "3                    Training            3  \n",
       "4                  Validation            4  "
      ]
     },
     "execution_count": 6,
     "metadata": {},
     "output_type": "execute_result"
    }
   ],
   "source": [
    "df_exp_yes_sorted = df_exp_sorted.loc[df_exp_sorted[\"Experimental INP Formation\"] == \"Yes\"].reset_index(drop=True)\n",
    "df_exp_no_sorted = df_exp_sorted.loc[df_exp_sorted[\"Experimental INP Formation\"] == \"No\"].reset_index(drop=True)\n",
    "df_exp_no_sorted.head()"
   ]
  },
  {
   "cell_type": "code",
   "execution_count": 7,
   "metadata": {
    "collapsed": false,
    "scrolled": true
   },
   "outputs": [
    {
     "name": "stderr",
     "output_type": "stream",
     "text": [
      "/Users/isikm/opt/anaconda/lib/python2.7/site-packages/matplotlib/collections.py:590: FutureWarning: elementwise comparison failed; returning scalar instead, but in the future will perform elementwise comparison\n",
      "  if self._edgecolors == str('face'):\n"
     ]
    },
    {
     "data": {
      "image/png": "[encoded data removed]",
      "text/plain": [
       "<matplotlib.figure.Figure at 0x112f36d10>"
      ]
     },
     "metadata": {},
     "output_type": "display_data"
    }
   ],
   "source": [
    "ALOGP2_array_yes_sorted = df_exp_yes_sorted.ix[:,\"ALOGP2\"]\n",
    "ALOGP2_rank_array_yes_sorted = df_exp_yes_sorted.ix[:,\"ALOGP2 rank\"]\n",
    "ALOGP2_array_no_sorted = df_exp_no_sorted.ix[:,\"ALOGP2\"]\n",
    "ALOGP2_rank_array_no_sorted = df_exp_no_sorted.ix[:,\"ALOGP2 rank\"]\n",
    "\n",
    "plt.rcParams.update({'font.size': 12})\n",
    "fig = plt.figure(1, figsize=(6,4))\n",
    "\n",
    "plt.scatter(ALOGP2_rank_array_yes_sorted, ALOGP2_array_yes_sorted, alpha=0.7, c=\"b\", s=40 )\n",
    "plt.scatter(ALOGP2_rank_array_no_sorted, ALOGP2_array_no_sorted, alpha=0.7,  c=\"w\", s=40)\n",
    "plt.xlabel(\"ALOGP2 rank\")\n",
    "plt.ylabel(\"ALOGP2\")\n",
    "plt.xlim(-1,61)\n",
    "plt.ylim(-1,75)\n",
    "plt.savefig(\"ALOGP2_rank.png\", dpi=200)\n",
    "plt.savefig(\"ALOGP2_rank.svg\")"
   ]
  },
  {
   "cell_type": "markdown",
   "metadata": {},
   "source": [
    "### A.2. ALOGP2 Box Plot"
   ]
  },
  {
   "cell_type": "code",
   "execution_count": 8,
   "metadata": {
    "collapsed": false
   },
   "outputs": [
    {
     "data": {
      "image/png": "[encoded data removed]",
      "text/plain": [
       "<matplotlib.figure.Figure at 0x115c3ac50>"
      ]
     },
     "metadata": {},
     "output_type": "display_data"
    }
   ],
   "source": [
    "df_exp_yes = df_exp_data.loc[df_exp_data[\"Experimental INP Formation\"] == \"Yes\"].reset_index(drop=True)\n",
    "df_exp_no = df_exp_data.loc[df_exp_data[\"Experimental INP Formation\"] == \"No\"].reset_index(drop=True)\n",
    "\n",
    "SpMax4_array_yes = df_exp_yes.ix[:,\"SpMAX4_Bh(s)\"]\n",
    "ALOGP2_array_yes = df_exp_yes.ix[:,\"ALOGP2\"]\n",
    "SpMax4_array_no = df_exp_no.ix[:,\"SpMAX4_Bh(s)\"]\n",
    "ALOGP2_array_no = df_exp_no.ix[:,\"ALOGP2\"]\n",
    "\n",
    "data=[ALOGP2_array_yes, ALOGP2_array_no]\n",
    "\n",
    "fig = plt.figure(1, figsize=(4,4))\n",
    "ax = plt.subplot(1,1,1)\n",
    "\n",
    "ax.boxplot(data)\n",
    "ax.set_xticklabels([\"INP F\",\"INP NF\"])\n",
    "ax.set_ylabel(\"ALOGP2\", size=16)\n",
    "ax.set_ylim(0,99)\n",
    "fig.savefig(\"ALOGP2_boxplot.png\", dpi=200)\n",
    "plt.savefig(\"ALOGP2_boxplot.svg\")"
   ]
  },
  {
   "cell_type": "code",
   "execution_count": 9,
   "metadata": {
    "collapsed": false
   },
   "outputs": [
    {
     "name": "stdout",
     "output_type": "stream",
     "text": [
      "Ttest_indResult(statistic=0.0, pvalue=1.0)\n",
      "   95% CI:  (-10.500004438035416, 10.500004438035416)\n"
     ]
    }
   ],
   "source": [
    "from scipy import stats\n",
    "stats.ttest_ind(ALOGP2_array_yes, ALOGP2_array_no, equal_var=False)\n",
    "import numpy as np, statsmodels.stats.api as sms\n",
    "\n",
    "print(stats.ttest_ind(ALOGP2_array_yes, ALOGP2_array_yes, equal_var=False))\n",
    "    \n",
    "cm = sms.CompareMeans(sms.DescrStatsW(ALOGP2_array_yes), sms.DescrStatsW(ALOGP2_array_yes))\n",
    "print(\"   95% CI: \", cm.tconfint_diff(usevar='unequal'))"
   ]
  },
  {
   "cell_type": "markdown",
   "metadata": {},
   "source": [
    "### A.3. ALOGP2 Logistic Regression"
   ]
  },
  {
   "cell_type": "code",
   "execution_count": 10,
   "metadata": {
    "collapsed": true
   },
   "outputs": [],
   "source": [
    "from scipy import optimize\n",
    "\n",
    "def logistic(params,x):\n",
    "    \"\"\" \n",
    "    Logistic function\n",
    "\n",
    "    Parameters\n",
    "    ----------\n",
    "    params : list or numpy array\n",
    "      the three parameters of the logistic function\n",
    "      First parameter is set to 1, to make function\n",
    "      span 0 to 1.\n",
    "    x : numpy array\n",
    "      the explanatory variable\n",
    "   \n",
    "    Return\n",
    "    ------\n",
    "    numpy array\n",
    "      the output of the logistic function\n",
    "\n",
    "    \"\"\"\n",
    "    params[0]=1\n",
    "    return params[0]/(1+np.exp(-x*params[1] - params[2])) \n",
    "\n",
    "def residuals(params):\n",
    "    predicted = logistic(params,x)\n",
    "    return np.sum((y-predicted)**2)"
   ]
  },
  {
   "cell_type": "code",
   "execution_count": 11,
   "metadata": {
    "collapsed": false
   },
   "outputs": [
    {
     "data": {
      "text/html": [
       "<div>\n",
       "<table border=\"1\" class=\"dataframe\">\n",
       "  <thead>\n",
       "    <tr style=\"text-align: right;\">\n",
       "      <th></th>\n",
       "      <th>Drug Name</th>\n",
       "      <th>SpMAX4_Bh(s)</th>\n",
       "      <th>ALOGP2</th>\n",
       "      <th>CLogP</th>\n",
       "      <th>Experimental INP Formation</th>\n",
       "      <th>SpMAX4_Bh(s) Analysis Group</th>\n",
       "      <th>Experimental Category</th>\n",
       "    </tr>\n",
       "  </thead>\n",
       "  <tbody>\n",
       "    <tr>\n",
       "      <th>0</th>\n",
       "      <td>ABT737</td>\n",
       "      <td>7.00</td>\n",
       "      <td>67.200</td>\n",
       "      <td>10.04</td>\n",
       "      <td>Yes</td>\n",
       "      <td>Validation</td>\n",
       "      <td>1</td>\n",
       "    </tr>\n",
       "    <tr>\n",
       "      <th>1</th>\n",
       "      <td>Apitolisib</td>\n",
       "      <td>5.01</td>\n",
       "      <td>1.800</td>\n",
       "      <td>1.35</td>\n",
       "      <td>No</td>\n",
       "      <td>Validation</td>\n",
       "      <td>0</td>\n",
       "    </tr>\n",
       "    <tr>\n",
       "      <th>2</th>\n",
       "      <td>Avagacestat</td>\n",
       "      <td>8.00</td>\n",
       "      <td>16.000</td>\n",
       "      <td>3.05</td>\n",
       "      <td>Yes</td>\n",
       "      <td>Validation</td>\n",
       "      <td>1</td>\n",
       "    </tr>\n",
       "    <tr>\n",
       "      <th>3</th>\n",
       "      <td>Avasimibe</td>\n",
       "      <td>4.79</td>\n",
       "      <td>67.695</td>\n",
       "      <td>9.70</td>\n",
       "      <td>Yes</td>\n",
       "      <td>Validation</td>\n",
       "      <td>1</td>\n",
       "    </tr>\n",
       "    <tr>\n",
       "      <th>4</th>\n",
       "      <td>AZD-4547</td>\n",
       "      <td>4.72</td>\n",
       "      <td>17.700</td>\n",
       "      <td>4.43</td>\n",
       "      <td>No</td>\n",
       "      <td>Validation</td>\n",
       "      <td>0</td>\n",
       "    </tr>\n",
       "  </tbody>\n",
       "</table>\n",
       "</div>"
      ],
      "text/plain": [
       "     Drug Name  SpMAX4_Bh(s)  ALOGP2  CLogP Experimental INP Formation  \\\n",
       "0       ABT737          7.00  67.200  10.04                        Yes   \n",
       "1   Apitolisib          5.01   1.800   1.35                         No   \n",
       "2  Avagacestat          8.00  16.000   3.05                        Yes   \n",
       "3    Avasimibe          4.79  67.695   9.70                        Yes   \n",
       "4     AZD-4547          4.72  17.700   4.43                         No   \n",
       "\n",
       "  SpMAX4_Bh(s) Analysis Group Experimental Category  \n",
       "0                  Validation                     1  \n",
       "1                  Validation                     0  \n",
       "2                  Validation                     1  \n",
       "3                  Validation                     1  \n",
       "4                  Validation                     0  "
      ]
     },
     "execution_count": 11,
     "metadata": {},
     "output_type": "execute_result"
    }
   ],
   "source": [
    "df_exp_data[\"Experimental Category\"]=None\n",
    "\n",
    "for i,row in enumerate(df_exp_data.iterrows()):\n",
    "    if df_exp_data.ix[i,\"Experimental INP Formation\"] == \"Yes\" :\n",
    "        df_exp_data.ix[i, \"Experimental Category\"] = 1\n",
    "    else:\n",
    "        df_exp_data.ix[i, \"Experimental Category\"] = 0\n",
    "\n",
    "df_exp_data.head()"
   ]
  },
  {
   "cell_type": "code",
   "execution_count": 12,
   "metadata": {
    "collapsed": false
   },
   "outputs": [
    {
     "name": "stdout",
     "output_type": "stream",
     "text": [
      "For ALOGP2: \n",
      "The predicted parameters are [ 1.          0.01700695 -0.5872036 ]\n",
      "Threshold logP:  34.5272702658\n"
     ]
    },
    {
     "data": {
      "image/png": "[encoded data removed]",
      "text/plain": [
       "<matplotlib.figure.Figure at 0x117d90f90>"
      ]
     },
     "metadata": {},
     "output_type": "display_data"
    }
   ],
   "source": [
    "fig = plt.figure(1, figsize=(4,4), dpi=200)\n",
    "\n",
    "df_sorted = df_exp_data.sort_values(by=\"ALOGP2\", ascending=1).reset_index(drop=True)\n",
    "initial_guess = [1,1,1]\n",
    "x=df_sorted.ix[:, \"ALOGP2\"].astype(float)\n",
    "y=df_sorted.ix[:, \"Experimental Category\"]\n",
    "\n",
    "fit = optimize.minimize(residuals,initial_guess,method='Nelder-Mead')\n",
    "print(\"For {}: \\nThe predicted parameters are\".format(\"ALOGP2\"), fit.x)\n",
    "\n",
    "# Inflection point is x_0/b\n",
    "threshold_logP=(-1)*fit.x[2]/fit.x[1]\n",
    "print(\"Threshold logP: \", threshold_logP)\n",
    "    \n",
    "plt.scatter(x,y)\n",
    "predicted = logistic(fit.x, x)\n",
    "plt.plot(x,predicted,color=\"red\")\n",
    "plt.xlabel('ALOGP2')\n",
    "plt.ylabel('INP formation', size=16)\n",
    "plt.ylim(-0.1,1.1)\n",
    "plt.xlim(-2,100)\n",
    "plt.savefig(\"ALOGP2_logistic_fit.png\")\n",
    "plt.savefig(\"ALOGP2_logistic_fit.svg\")"
   ]
  },
  {
   "cell_type": "markdown",
   "metadata": {},
   "source": [
    "### A.4. ALOGP2 ROC Curve"
   ]
  },
  {
   "cell_type": "code",
   "execution_count": 13,
   "metadata": {
    "collapsed": false
   },
   "outputs": [
    {
     "data": {
      "image/png": "[encoded data removed]",
      "text/plain": [
       "<matplotlib.figure.Figure at 0x117d90690>"
      ]
     },
     "metadata": {},
     "output_type": "display_data"
    }
   ],
   "source": [
    "from sklearn import metrics\n",
    "\n",
    "y_actual = df_sorted[\"Experimental Category\"]\n",
    "# predicted score come from logistic regression\n",
    "y_predicted = predicted\n",
    "\n",
    "# ROC\n",
    "fpr, tpr, thresholds = metrics.roc_curve(y_actual, y_predicted)\n",
    "roc_auc = metrics.auc(fpr, tpr)\n",
    "\n",
    "# Plotting ROC curve\n",
    "fig = plt.figure(1, figsize=(4,4))\n",
    "plt.title('Receiver Operating Characteristic')\n",
    "plt.plot(fpr, tpr, 'b',\n",
    "label='AUC = %0.2f'% roc_auc)\n",
    "plt.legend(loc='lower right')\n",
    "plt.plot([0,1],[0,1],'r--')\n",
    "plt.xlim([-0.1,1.1])\n",
    "plt.ylim([-0.1,1.1])\n",
    "plt.ylabel('True Positive Rate')\n",
    "plt.xlabel('False Positive Rate')\n",
    "plt.show()"
   ]
  },
  {
   "cell_type": "markdown",
   "metadata": {},
   "source": [
    "#### Bootstrap for ROC AUC confidence intervals"
   ]
  },
  {
   "cell_type": "code",
   "execution_count": 14,
   "metadata": {
    "collapsed": false
   },
   "outputs": [
    {
     "name": "stdout",
     "output_type": "stream",
     "text": [
      "Original ROC area: 0.629\n",
      "95% Confidence interval for the score: [0.474 - 0.762]\n"
     ]
    },
    {
     "data": {
      "image/png": "[encoded data removed]",
      "text/plain": [
       "<matplotlib.figure.Figure at 0x118aaff50>"
      ]
     },
     "metadata": {},
     "output_type": "display_data"
    }
   ],
   "source": [
    "y_actual = np.array(y_actual).astype(int)\n",
    "y_predicted = np.array(y_predicted)\n",
    "print(\"Original ROC area: {:0.3f}\".format(metrics.roc_auc_score(y_actual, y_predicted)))\n",
    "\n",
    "n_bootstraps = 1000\n",
    "rng_seed = 0  # control reproducibility\n",
    "bootstrapped_scores = []\n",
    "\n",
    "rng = np.random.RandomState(rng_seed)\n",
    "for i in range(n_bootstraps):\n",
    "\n",
    "    # bootstrap by sampling with replacement on the prediction indices\n",
    "    indices = rng.random_integers(0, len(y_predicted) - 1, len(y_predicted))\n",
    " \n",
    "    if len(np.unique(y_actual[indices])) < 2:\n",
    "        # We need at least one positive and one negative sample for ROC AUC\n",
    "        # to be defined: reject the sample\n",
    "        continue\n",
    "\n",
    "    score = metrics.roc_auc_score(y_actual[indices], y_predicted[indices])\n",
    "    bootstrapped_scores.append(score)\n",
    "    #print(\"Bootstrap #{} ROC area: {:0.3f}\".format(i + 1, score))\n",
    "\n",
    "fig = plt.figure(1, figsize=(9,4))\n",
    "plt.subplot(1,2,1)\n",
    "plt.hist(bootstrapped_scores, bins=50)\n",
    "plt.title('Histogram of the bootstrapped ROC AUC', size=14)\n",
    "# plt.show()\n",
    "\n",
    "sorted_scores = np.array(bootstrapped_scores)\n",
    "sorted_scores.sort()\n",
    "\n",
    "# Computing the lower and upper bound of the 95% confidence interval\n",
    "# 95% CI percentiles to 0.025 and 0.975\n",
    "confidence_lower = sorted_scores[int(0.025 * len(sorted_scores))]\n",
    "confidence_upper = sorted_scores[int(0.975 * len(sorted_scores))]\n",
    "print(\"95% Confidence interval for the score: [{:0.3f} - {:0.3}]\".format(\n",
    "    confidence_lower, confidence_upper))\n",
    "\n",
    "# Plotting ROC curve\n",
    "#fig = plt.figure(1, figsize=(4,4))\n",
    "plt.subplot(1,2,2)\n",
    "plt.title('Receiver Operating Characteristic', size=14)\n",
    "plt.plot(fpr, tpr, 'b', label='AUC={0:0.2f} 95%CI: [{1:0.2f},{2:0.2f}]'.format(roc_auc, confidence_lower, confidence_upper))\n",
    "plt.legend(loc='lower right', prop={'size':10})\n",
    "plt.plot([0,1],[0,1],'r--')\n",
    "plt.xlim([-0.1,1.1])\n",
    "plt.ylim([-0.1,1.1])\n",
    "plt.ylabel('True Positive Rate')\n",
    "plt.xlabel('False Positive Rate')\n",
    "plt.savefig(\"ALOGP2_ROC_with_histogram.png\", dpi=200)\n",
    "plt.savefig(\"ALOGP2_ROC_with_histogram.svg\")"
   ]
  },
  {
   "cell_type": "code",
   "execution_count": 15,
   "metadata": {
    "collapsed": false
   },
   "outputs": [
    {
     "data": {
      "image/png": "[encoded data removed]",
      "text/plain": [
       "<matplotlib.figure.Figure at 0x118aaf750>"
      ]
     },
     "metadata": {},
     "output_type": "display_data"
    }
   ],
   "source": [
    "# Plotting ROC curve\n",
    "fig = plt.figure(1, figsize=(4,4))\n",
    "plt.title('Receiver Operating Characteristic',  size=16)\n",
    "plt.plot(fpr, tpr, 'b', label='AUC={0:0.2f} \\n95% CI: [{1:0.2f},{2:0.2f}]'.format(roc_auc, confidence_lower, confidence_upper))\n",
    "plt.legend(loc='lower right', prop={'size':13})\n",
    "plt.plot([0,1],[0,1],'r--')\n",
    "plt.xlim([-0.1,1.1])\n",
    "plt.ylim([-0.1,1.1])\n",
    "plt.ylabel('True Positive Rate')\n",
    "plt.xlabel('False Positive Rate')\n",
    "plt.savefig(\"ALOGP2_ROC.png\", dpi=200)\n",
    "plt.savefig(\"ALOGP2_ROC.svg\")"
   ]
  },
  {
   "cell_type": "markdown",
   "metadata": {},
   "source": [
    "### A.5. ALOGP2 Confusion Matrix"
   ]
  },
  {
   "cell_type": "code",
   "execution_count": 16,
   "metadata": {
    "collapsed": false
   },
   "outputs": [
    {
     "data": {
      "text/html": [
       "<div>\n",
       "<table border=\"1\" class=\"dataframe\">\n",
       "  <thead>\n",
       "    <tr style=\"text-align: right;\">\n",
       "      <th></th>\n",
       "      <th>Drug Name</th>\n",
       "      <th>SpMAX4_Bh(s)</th>\n",
       "      <th>ALOGP2</th>\n",
       "      <th>CLogP</th>\n",
       "      <th>Experimental INP Formation</th>\n",
       "      <th>SpMAX4_Bh(s) Analysis Group</th>\n",
       "      <th>Experimental Category</th>\n",
       "      <th>Pred Category by ALOGP2</th>\n",
       "    </tr>\n",
       "  </thead>\n",
       "  <tbody>\n",
       "    <tr>\n",
       "      <th>0</th>\n",
       "      <td>ABT737</td>\n",
       "      <td>7.00</td>\n",
       "      <td>67.200</td>\n",
       "      <td>10.04</td>\n",
       "      <td>Yes</td>\n",
       "      <td>Validation</td>\n",
       "      <td>1</td>\n",
       "      <td>1</td>\n",
       "    </tr>\n",
       "    <tr>\n",
       "      <th>1</th>\n",
       "      <td>Apitolisib</td>\n",
       "      <td>5.01</td>\n",
       "      <td>1.800</td>\n",
       "      <td>1.35</td>\n",
       "      <td>No</td>\n",
       "      <td>Validation</td>\n",
       "      <td>0</td>\n",
       "      <td>0</td>\n",
       "    </tr>\n",
       "    <tr>\n",
       "      <th>2</th>\n",
       "      <td>Avagacestat</td>\n",
       "      <td>8.00</td>\n",
       "      <td>16.000</td>\n",
       "      <td>3.05</td>\n",
       "      <td>Yes</td>\n",
       "      <td>Validation</td>\n",
       "      <td>1</td>\n",
       "      <td>0</td>\n",
       "    </tr>\n",
       "    <tr>\n",
       "      <th>3</th>\n",
       "      <td>Avasimibe</td>\n",
       "      <td>4.79</td>\n",
       "      <td>67.695</td>\n",
       "      <td>9.70</td>\n",
       "      <td>Yes</td>\n",
       "      <td>Validation</td>\n",
       "      <td>1</td>\n",
       "      <td>1</td>\n",
       "    </tr>\n",
       "    <tr>\n",
       "      <th>4</th>\n",
       "      <td>AZD-4547</td>\n",
       "      <td>4.72</td>\n",
       "      <td>17.700</td>\n",
       "      <td>4.43</td>\n",
       "      <td>No</td>\n",
       "      <td>Validation</td>\n",
       "      <td>0</td>\n",
       "      <td>0</td>\n",
       "    </tr>\n",
       "  </tbody>\n",
       "</table>\n",
       "</div>"
      ],
      "text/plain": [
       "     Drug Name  SpMAX4_Bh(s)  ALOGP2  CLogP Experimental INP Formation  \\\n",
       "0       ABT737          7.00  67.200  10.04                        Yes   \n",
       "1   Apitolisib          5.01   1.800   1.35                         No   \n",
       "2  Avagacestat          8.00  16.000   3.05                        Yes   \n",
       "3    Avasimibe          4.79  67.695   9.70                        Yes   \n",
       "4     AZD-4547          4.72  17.700   4.43                         No   \n",
       "\n",
       "  SpMAX4_Bh(s) Analysis Group Experimental Category Pred Category by ALOGP2  \n",
       "0                  Validation                     1                       1  \n",
       "1                  Validation                     0                       0  \n",
       "2                  Validation                     1                       0  \n",
       "3                  Validation                     1                       1  \n",
       "4                  Validation                     0                       0  "
      ]
     },
     "execution_count": 16,
     "metadata": {},
     "output_type": "execute_result"
    }
   ],
   "source": [
    "# Predicted INP formation category based on ALOGP2 value\n",
    "df_exp_data[\"Pred Category by ALOGP2\"]= None \n",
    "    \n",
    "for i, row in enumerate(df_exp_data.iterrows()):\n",
    "    logP = float(df_exp_data.ix[i, \"ALOGP2\"])\n",
    "    #print(logD)\n",
    "    if logP < threshold_logP:\n",
    "        df_exp_data.ix[i, \"Pred Category by ALOGP2\"] = 0\n",
    "    else:\n",
    "        df_exp_data.ix[i, \"Pred Category by ALOGP2\"] = 1\n",
    "df_exp_data.head()"
   ]
  },
  {
   "cell_type": "code",
   "execution_count": 17,
   "metadata": {
    "collapsed": false
   },
   "outputs": [
    {
     "name": "stdout",
     "output_type": "stream",
     "text": [
      "ALOGP2 \n",
      "Accuracy: 0.55\n",
      "ALOGP2 threshold= 34.53\n",
      "\n",
      "Predicted   0  1\n",
      "Actual          \n",
      "0          27  6\n",
      "1          21  6\n"
     ]
    }
   ],
   "source": [
    "exp_NP = df_exp_data.ix[:,\"Experimental Category\"].astype(int) # Experimental category\n",
    "pred_NP = df_exp_data.ix[:, \"Pred Category by ALOGP2\"].astype(int) # Predicted category\n",
    "\n",
    "actual = pd.Series(exp_NP, name= \"Actual\")\n",
    "predicted = pd.Series(pred_NP, name= \"Predicted\")\n",
    "df_confusion = pd.crosstab(actual, predicted)\n",
    "    \n",
    "# Accuracy = (TP+TN)/(TP+TN+FP+FN)\n",
    "TP = df_confusion.ix[1,1]\n",
    "TN = df_confusion.ix[0,0]\n",
    "FP = df_confusion.ix[0,1]\n",
    "FN = df_confusion.ix[1,0]\n",
    "    \n",
    "accuracy = (TP+TN)/(TP+TN+FP+FN)\n",
    "    \n",
    "print(\"ALOGP2\", \"\\nAccuracy: {:.2f}\".format(accuracy))\n",
    "print(\"ALOGP2 threshold= {:.2f}\\n\".format(threshold_logP))\n",
    "print(df_confusion)    "
   ]
  },
  {
   "cell_type": "markdown",
   "metadata": {},
   "source": [
    "## B. OpenEye XLogP"
   ]
  },
  {
   "cell_type": "code",
   "execution_count": 18,
   "metadata": {
    "collapsed": false
   },
   "outputs": [
    {
     "name": "stdout",
     "output_type": "stream",
     "text": [
      "60\n",
      "['ABT737.mol', 'AZD-4547.mol', 'Apitolisib.mol', 'Avagacestat.mol', 'Avasimibe.mol']\n",
      "60\n"
     ]
    }
   ],
   "source": [
    "# Creating dataframe for the list of molecules\n",
    "path = \"./\"\n",
    "filename=\"mol_file_list_N60.txt\"\n",
    "file = open(os.path.join(path, filename), \"r\")\n",
    "\n",
    "filename_list = []\n",
    "for line in file:\n",
    "    filename_list.append(line.split('\\n')[0])\n",
    "\n",
    "print(len(filename_list))\n",
    "print(filename_list[:5])\n",
    "\n",
    "df_molecules = pd.DataFrame(filename_list)\n",
    "df_molecules.columns= [\"NAME\"]\n",
    "print(df_molecules.size)\n",
    "\n",
    "df_molecules[\"molecule label\"] = None"
   ]
  },
  {
   "cell_type": "markdown",
   "metadata": {},
   "source": [
    "#### Creating SMILES strings for all molecules using OpenEye"
   ]
  },
  {
   "cell_type": "code",
   "execution_count": 19,
   "metadata": {
    "collapsed": false
   },
   "outputs": [
    {
     "data": {
      "text/html": [
       "<div>\n",
       "<table border=\"1\" class=\"dataframe\">\n",
       "  <thead>\n",
       "    <tr style=\"text-align: right;\">\n",
       "      <th></th>\n",
       "      <th>NAME</th>\n",
       "      <th>molecule label</th>\n",
       "      <th>smiles</th>\n",
       "    </tr>\n",
       "  </thead>\n",
       "  <tbody>\n",
       "    <tr>\n",
       "      <th>0</th>\n",
       "      <td>ABT737.mol</td>\n",
       "      <td>ABT737</td>\n",
       "      <td>CN(C)CC[C@@H](CSc1ccccc1)Nc2ccc(cc2[N+](=O)[O-...</td>\n",
       "    </tr>\n",
       "    <tr>\n",
       "      <th>1</th>\n",
       "      <td>AZD-4547.mol</td>\n",
       "      <td>AZD-4547</td>\n",
       "      <td>C[C@@H]1CN(C[C@@H](N1)C)c2ccc(cc2)C(=O)Nc3cc([...</td>\n",
       "    </tr>\n",
       "    <tr>\n",
       "      <th>2</th>\n",
       "      <td>Apitolisib.mol</td>\n",
       "      <td>Apitolisib</td>\n",
       "      <td>Cc1c(sc2c1nc(nc2N3CCOCC3)c4cnc(nc4)N)CN5CCN(CC...</td>\n",
       "    </tr>\n",
       "    <tr>\n",
       "      <th>3</th>\n",
       "      <td>Avagacestat.mol</td>\n",
       "      <td>Avagacestat</td>\n",
       "      <td>c1cc(ccc1S(=O)(=O)[N@@](Cc2ccc(cc2F)c3ncon3)[C...</td>\n",
       "    </tr>\n",
       "    <tr>\n",
       "      <th>4</th>\n",
       "      <td>Avasimibe.mol</td>\n",
       "      <td>Avasimibe</td>\n",
       "      <td>CC(C)c1cccc(c1OS(=O)(=O)NC(=O)Cc2c(cc(cc2C(C)C...</td>\n",
       "    </tr>\n",
       "  </tbody>\n",
       "</table>\n",
       "</div>"
      ],
      "text/plain": [
       "              NAME molecule label  \\\n",
       "0       ABT737.mol         ABT737   \n",
       "1     AZD-4547.mol       AZD-4547   \n",
       "2   Apitolisib.mol     Apitolisib   \n",
       "3  Avagacestat.mol    Avagacestat   \n",
       "4    Avasimibe.mol      Avasimibe   \n",
       "\n",
       "                                              smiles  \n",
       "0  CN(C)CC[C@@H](CSc1ccccc1)Nc2ccc(cc2[N+](=O)[O-...  \n",
       "1  C[C@@H]1CN(C[C@@H](N1)C)c2ccc(cc2)C(=O)Nc3cc([...  \n",
       "2  Cc1c(sc2c1nc(nc2N3CCOCC3)c4cnc(nc4)N)CN5CCN(CC...  \n",
       "3  c1cc(ccc1S(=O)(=O)[N@@](Cc2ccc(cc2F)c3ncon3)[C...  \n",
       "4  CC(C)c1cccc(c1OS(=O)(=O)NC(=O)Cc2c(cc(cc2C(C)C...  "
      ]
     },
     "execution_count": 19,
     "metadata": {},
     "output_type": "execute_result"
    }
   ],
   "source": [
    "from openeye import oechem, oedepict, oemolprop\n",
    "\n",
    "df_molecules[\"smiles\"] = None\n",
    "\n",
    "ifs = oechem.oemolistream()\n",
    "ofs = oechem.oemolostream()\n",
    "\n",
    "ifs.SetFormat(oechem.OEFormat_MOL2)\n",
    "ofs.SetFormat(oechem.OEFormat_SMI)\n",
    "\n",
    "for i, row in enumerate(df_molecules.iterrows()):\n",
    "    \n",
    "    df_molecules.ix[i,\"molecule label\"] = re.split(\"[.]\", df_molecules.ix[i,\"NAME\"])[0]\n",
    "    \n",
    "    file_name = df_molecules.ix[i,0]\n",
    "    mol_file_path = \"./mol_files_of_60_drugs\"\n",
    "    this_path = os.path.join(mol_file_path, file_name)\n",
    "    mol_file = ifs.open(os.path.join(this_path))\n",
    "   \n",
    "    for mol in ifs.GetOEGraphMols():\n",
    "        #print (\"Number of atoms:\", mol.NumAtoms())\n",
    "        #print (\"Canonical isomeric SMILES:\", OEMolToSmiles(mol))\n",
    "        df_molecules.ix[i,\"smiles\"] = oechem.OEMolToSmiles(mol)\n",
    "        \n",
    "df_molecules.head()"
   ]
  },
  {
   "cell_type": "markdown",
   "metadata": {},
   "source": [
    "#### XLogP Calculation"
   ]
  },
  {
   "cell_type": "code",
   "execution_count": 20,
   "metadata": {
    "collapsed": false
   },
   "outputs": [
    {
     "data": {
      "text/html": [
       "<div>\n",
       "<table border=\"1\" class=\"dataframe\">\n",
       "  <thead>\n",
       "    <tr style=\"text-align: right;\">\n",
       "      <th></th>\n",
       "      <th>FILENAME</th>\n",
       "      <th>Drug Name</th>\n",
       "      <th>smiles</th>\n",
       "      <th>XlogP</th>\n",
       "    </tr>\n",
       "  </thead>\n",
       "  <tbody>\n",
       "    <tr>\n",
       "      <th>0</th>\n",
       "      <td>ABT737.mol</td>\n",
       "      <td>ABT737</td>\n",
       "      <td>CN(C)CC[C@@H](CSc1ccccc1)Nc2ccc(cc2[N+](=O)[O-...</td>\n",
       "      <td>6.948</td>\n",
       "    </tr>\n",
       "    <tr>\n",
       "      <th>1</th>\n",
       "      <td>AZD-4547.mol</td>\n",
       "      <td>AZD-4547</td>\n",
       "      <td>C[C@@H]1CN(C[C@@H](N1)C)c2ccc(cc2)C(=O)Nc3cc([...</td>\n",
       "      <td>3.37</td>\n",
       "    </tr>\n",
       "    <tr>\n",
       "      <th>2</th>\n",
       "      <td>Apitolisib.mol</td>\n",
       "      <td>Apitolisib</td>\n",
       "      <td>Cc1c(sc2c1nc(nc2N3CCOCC3)c4cnc(nc4)N)CN5CCN(CC...</td>\n",
       "      <td>-0.918</td>\n",
       "    </tr>\n",
       "    <tr>\n",
       "      <th>3</th>\n",
       "      <td>Avagacestat.mol</td>\n",
       "      <td>Avagacestat</td>\n",
       "      <td>c1cc(ccc1S(=O)(=O)[N@@](Cc2ccc(cc2F)c3ncon3)[C...</td>\n",
       "      <td>4.077</td>\n",
       "    </tr>\n",
       "    <tr>\n",
       "      <th>4</th>\n",
       "      <td>Avasimibe.mol</td>\n",
       "      <td>Avasimibe</td>\n",
       "      <td>CC(C)c1cccc(c1OS(=O)(=O)NC(=O)Cc2c(cc(cc2C(C)C...</td>\n",
       "      <td>7.36</td>\n",
       "    </tr>\n",
       "  </tbody>\n",
       "</table>\n",
       "</div>"
      ],
      "text/plain": [
       "          FILENAME    Drug Name  \\\n",
       "0       ABT737.mol       ABT737   \n",
       "1     AZD-4547.mol     AZD-4547   \n",
       "2   Apitolisib.mol   Apitolisib   \n",
       "3  Avagacestat.mol  Avagacestat   \n",
       "4    Avasimibe.mol    Avasimibe   \n",
       "\n",
       "                                              smiles  XlogP  \n",
       "0  CN(C)CC[C@@H](CSc1ccccc1)Nc2ccc(cc2[N+](=O)[O-...  6.948  \n",
       "1  C[C@@H]1CN(C[C@@H](N1)C)c2ccc(cc2)C(=O)Nc3cc([...   3.37  \n",
       "2  Cc1c(sc2c1nc(nc2N3CCOCC3)c4cnc(nc4)N)CN5CCN(CC... -0.918  \n",
       "3  c1cc(ccc1S(=O)(=O)[N@@](Cc2ccc(cc2F)c3ncon3)[C...  4.077  \n",
       "4  CC(C)c1cccc(c1OS(=O)(=O)NC(=O)Cc2c(cc(cc2C(C)C...   7.36  "
      ]
     },
     "execution_count": 20,
     "metadata": {},
     "output_type": "execute_result"
    }
   ],
   "source": [
    "# make new column for XlogP data \n",
    "df_molecules[\"XlogP\"] = None\n",
    "\n",
    "for i, row in enumerate(df_molecules.iterrows()):\n",
    "    smiles = df_molecules.ix[i,\"smiles\"]\n",
    "    mol = oechem.OEGraphMol()\n",
    "    oechem.OESmilesToMol(mol, str(smiles))\n",
    "    \n",
    "    try: \n",
    "        logP=oemolprop.OEGetXLogP(mol)\n",
    "    except RuntimeError:\n",
    "            print(\"Error: i=\",i,\" \", df_molecules.ix[i, \"NAME\"])\n",
    "            logP=float(\"NaN\")\n",
    "            \n",
    "    df_molecules.ix[i,\"XlogP\"] = float(logP)\n",
    "    del mol\n",
    "\n",
    "# rename columnnames before merging with experimental data\n",
    "df_molecules.rename(columns={\"NAME\":\"FILENAME\", \"molecule label\":\"Drug Name\"}, inplace=True)\n",
    "df_exp_mol= df_molecules\n",
    "df_exp_mol.head()"
   ]
  },
  {
   "cell_type": "markdown",
   "metadata": {},
   "source": [
    "#### Match SpMAX4_Bh(s) descriptor data of 60 experimental molecules"
   ]
  },
  {
   "cell_type": "code",
   "execution_count": 21,
   "metadata": {
    "collapsed": false
   },
   "outputs": [
    {
     "data": {
      "text/html": [
       "<div>\n",
       "<table border=\"1\" class=\"dataframe\">\n",
       "  <thead>\n",
       "    <tr style=\"text-align: right;\">\n",
       "      <th></th>\n",
       "      <th>Drug Name</th>\n",
       "      <th>SpMAX4_Bh(s)</th>\n",
       "      <th>ALOGP2</th>\n",
       "      <th>CLogP</th>\n",
       "      <th>Experimental INP Formation</th>\n",
       "      <th>SpMAX4_Bh(s) Analysis Group</th>\n",
       "    </tr>\n",
       "  </thead>\n",
       "  <tbody>\n",
       "    <tr>\n",
       "      <th>55</th>\n",
       "      <td>Vemurafenib</td>\n",
       "      <td>7.43</td>\n",
       "      <td>27.9</td>\n",
       "      <td>4.17</td>\n",
       "      <td>Yes</td>\n",
       "      <td>Validation</td>\n",
       "    </tr>\n",
       "    <tr>\n",
       "      <th>56</th>\n",
       "      <td>Venetoclax</td>\n",
       "      <td>7.00</td>\n",
       "      <td>60.9</td>\n",
       "      <td>10.31</td>\n",
       "      <td>Yes</td>\n",
       "      <td>Training</td>\n",
       "    </tr>\n",
       "    <tr>\n",
       "      <th>57</th>\n",
       "      <td>Verapamil</td>\n",
       "      <td>4.50</td>\n",
       "      <td>30.6</td>\n",
       "      <td>4.47</td>\n",
       "      <td>No</td>\n",
       "      <td>Validation</td>\n",
       "    </tr>\n",
       "    <tr>\n",
       "      <th>58</th>\n",
       "      <td>Voxtalisib</td>\n",
       "      <td>4.62</td>\n",
       "      <td>0.7</td>\n",
       "      <td>0.74</td>\n",
       "      <td>No</td>\n",
       "      <td>Validation</td>\n",
       "    </tr>\n",
       "    <tr>\n",
       "      <th>59</th>\n",
       "      <td>ZSTK474</td>\n",
       "      <td>4.91</td>\n",
       "      <td>11.3</td>\n",
       "      <td>1.05</td>\n",
       "      <td>No</td>\n",
       "      <td>Validation</td>\n",
       "    </tr>\n",
       "  </tbody>\n",
       "</table>\n",
       "</div>"
      ],
      "text/plain": [
       "      Drug Name  SpMAX4_Bh(s)  ALOGP2  CLogP Experimental INP Formation  \\\n",
       "55  Vemurafenib          7.43    27.9   4.17                        Yes   \n",
       "56   Venetoclax          7.00    60.9  10.31                        Yes   \n",
       "57    Verapamil          4.50    30.6   4.47                         No   \n",
       "58   Voxtalisib          4.62     0.7   0.74                         No   \n",
       "59      ZSTK474          4.91    11.3   1.05                         No   \n",
       "\n",
       "   SpMAX4_Bh(s) Analysis Group  \n",
       "55                  Validation  \n",
       "56                    Training  \n",
       "57                  Validation  \n",
       "58                  Validation  \n",
       "59                  Validation  "
      ]
     },
     "execution_count": 21,
     "metadata": {},
     "output_type": "execute_result"
    }
   ],
   "source": [
    "# read SpMax4 data from csv data\n",
    "exp_data_path = \"./\"\n",
    "filename=\"experimental_dataset_N60_ALOGP2_cLogP.csv\"\n",
    "exp_data_file = os.path.join(exp_data_path, filename)\n",
    "\n",
    "# create a dataframe for spmax data\n",
    "df_exp_data = pd.read_csv(exp_data_file, sep=\",\", header=0)\n",
    "#df_spmax_data = df_spmax_data.iloc[:,0:8]\n",
    "\n",
    "df_exp_data.tail()"
   ]
  },
  {
   "cell_type": "code",
   "execution_count": 22,
   "metadata": {
    "collapsed": false
   },
   "outputs": [
    {
     "name": "stdout",
     "output_type": "stream",
     "text": [
      "(59, 9)\n"
     ]
    },
    {
     "data": {
      "text/html": [
       "<div>\n",
       "<table border=\"1\" class=\"dataframe\">\n",
       "  <thead>\n",
       "    <tr style=\"text-align: right;\">\n",
       "      <th></th>\n",
       "      <th>FILENAME</th>\n",
       "      <th>Drug Name</th>\n",
       "      <th>smiles</th>\n",
       "      <th>XlogP</th>\n",
       "      <th>SpMAX4_Bh(s)</th>\n",
       "      <th>ALOGP2</th>\n",
       "      <th>CLogP</th>\n",
       "      <th>Experimental INP Formation</th>\n",
       "      <th>SpMAX4_Bh(s) Analysis Group</th>\n",
       "    </tr>\n",
       "  </thead>\n",
       "  <tbody>\n",
       "    <tr>\n",
       "      <th>54</th>\n",
       "      <td>Vemurafenib.mol</td>\n",
       "      <td>Vemurafenib</td>\n",
       "      <td>CCCS(=O)(=O)Nc1ccc(c(c1F)C(=O)c2c[nH]c3c2cc(cn...</td>\n",
       "      <td>5.443</td>\n",
       "      <td>7.43</td>\n",
       "      <td>27.9</td>\n",
       "      <td>4.17</td>\n",
       "      <td>Yes</td>\n",
       "      <td>Validation</td>\n",
       "    </tr>\n",
       "    <tr>\n",
       "      <th>55</th>\n",
       "      <td>Venetoclax.mol</td>\n",
       "      <td>Venetoclax</td>\n",
       "      <td>CC1(CCC(=C(C1)c2ccc(cc2)Cl)CN3CCN(CC3)c4ccc(c(...</td>\n",
       "      <td>5.492</td>\n",
       "      <td>7.00</td>\n",
       "      <td>60.9</td>\n",
       "      <td>10.31</td>\n",
       "      <td>Yes</td>\n",
       "      <td>Training</td>\n",
       "    </tr>\n",
       "    <tr>\n",
       "      <th>56</th>\n",
       "      <td>Verapamil.mol</td>\n",
       "      <td>Verapamil</td>\n",
       "      <td>CC(C)[C@@](CCC[N@](C)CCc1ccc(c(c1)OC)OC)(C#N)c...</td>\n",
       "      <td>5.709</td>\n",
       "      <td>4.50</td>\n",
       "      <td>30.6</td>\n",
       "      <td>4.47</td>\n",
       "      <td>No</td>\n",
       "      <td>Validation</td>\n",
       "    </tr>\n",
       "    <tr>\n",
       "      <th>57</th>\n",
       "      <td>Voxtalisib.mol</td>\n",
       "      <td>Voxtalisib</td>\n",
       "      <td>CCn1c2c(cc(c1=O)c3ccn[nH]3)c(nc(n2)N)C</td>\n",
       "      <td>0.486</td>\n",
       "      <td>4.62</td>\n",
       "      <td>0.7</td>\n",
       "      <td>0.74</td>\n",
       "      <td>No</td>\n",
       "      <td>Validation</td>\n",
       "    </tr>\n",
       "    <tr>\n",
       "      <th>58</th>\n",
       "      <td>ZSTK474.mol</td>\n",
       "      <td>ZSTK474</td>\n",
       "      <td>c1ccc2c(c1)nc(n2c3nc(nc(n3)N4CCOCC4)N5CCOCC5)C...</td>\n",
       "      <td>1.116</td>\n",
       "      <td>4.91</td>\n",
       "      <td>11.3</td>\n",
       "      <td>1.05</td>\n",
       "      <td>No</td>\n",
       "      <td>Validation</td>\n",
       "    </tr>\n",
       "  </tbody>\n",
       "</table>\n",
       "</div>"
      ],
      "text/plain": [
       "           FILENAME    Drug Name  \\\n",
       "54  Vemurafenib.mol  Vemurafenib   \n",
       "55   Venetoclax.mol   Venetoclax   \n",
       "56    Verapamil.mol    Verapamil   \n",
       "57   Voxtalisib.mol   Voxtalisib   \n",
       "58      ZSTK474.mol      ZSTK474   \n",
       "\n",
       "                                               smiles  XlogP  SpMAX4_Bh(s)  \\\n",
       "54  CCCS(=O)(=O)Nc1ccc(c(c1F)C(=O)c2c[nH]c3c2cc(cn...  5.443          7.43   \n",
       "55  CC1(CCC(=C(C1)c2ccc(cc2)Cl)CN3CCN(CC3)c4ccc(c(...  5.492          7.00   \n",
       "56  CC(C)[C@@](CCC[N@](C)CCc1ccc(c(c1)OC)OC)(C#N)c...  5.709          4.50   \n",
       "57             CCn1c2c(cc(c1=O)c3ccn[nH]3)c(nc(n2)N)C  0.486          4.62   \n",
       "58  c1ccc2c(c1)nc(n2c3nc(nc(n3)N4CCOCC4)N5CCOCC5)C...  1.116          4.91   \n",
       "\n",
       "    ALOGP2  CLogP Experimental INP Formation SpMAX4_Bh(s) Analysis Group  \n",
       "54    27.9   4.17                        Yes                  Validation  \n",
       "55    60.9  10.31                        Yes                    Training  \n",
       "56    30.6   4.47                         No                  Validation  \n",
       "57     0.7   0.74                         No                  Validation  \n",
       "58    11.3   1.05                         No                  Validation  "
      ]
     },
     "execution_count": 22,
     "metadata": {},
     "output_type": "execute_result"
    }
   ],
   "source": [
    "df_exp_mol = pd.merge(df_exp_mol, df_exp_data, on=[\"Drug Name\"])\n",
    "#print(df_molecules_spmax.size)\n",
    "print(df_exp_mol.shape)\n",
    "df_exp_mol.to_csv(\"df_exp_mol.csv\")\n",
    "df_exp_mol.tail()"
   ]
  },
  {
   "cell_type": "markdown",
   "metadata": {},
   "source": [
    "### B.1. Plot XLogP vs XLogP rank"
   ]
  },
  {
   "cell_type": "code",
   "execution_count": 24,
   "metadata": {
    "collapsed": false
   },
   "outputs": [],
   "source": [
    "df_exp_mol_sorted = df_exp_mol.sort_values(by=\"XlogP\", ascending=1).reset_index(drop=True)\n",
    "df_exp_mol_sorted[\"XlogP rank\"]=df_exp_mol_sorted.index\n",
    "#df_exp_mol_sorted.head()\n",
    "\n",
    "df_exp_mol_yes_sorted = df_exp_mol_sorted.loc[df_exp_mol_sorted[\"Experimental INP Formation\"] == \"Yes\"].reset_index(drop=True)\n",
    "df_exp_mol_no_sorted = df_exp_mol_sorted.loc[df_exp_mol_sorted[\"Experimental INP Formation\"] == \"No\"].reset_index(drop=True)\n",
    "#df_exp_mol_no_sorted.head()"
   ]
  },
  {
   "cell_type": "code",
   "execution_count": 25,
   "metadata": {
    "collapsed": false
   },
   "outputs": [
    {
     "data": {
      "image/png": "[encoded data removed]",
      "text/plain": [
       "<matplotlib.figure.Figure at 0x11c358910>"
      ]
     },
     "metadata": {},
     "output_type": "display_data"
    }
   ],
   "source": [
    "XlogP_array_yes_sorted = df_exp_mol_yes_sorted.ix[:,\"XlogP\"]\n",
    "XlogP_rank_array_yes_sorted = df_exp_mol_yes_sorted.ix[:,\"XlogP rank\"]\n",
    "XlogP_array_no_sorted = df_exp_mol_no_sorted.ix[:,\"XlogP\"]\n",
    "XlogP_rank_array_no_sorted = df_exp_mol_no_sorted.ix[:,\"XlogP rank\"]\n",
    "\n",
    "fig = plt.figure(1, figsize=(6,4))\n",
    "\n",
    "plt.scatter(XlogP_rank_array_yes_sorted, XlogP_array_yes_sorted, alpha=0.7, c=\"b\", s=40 )\n",
    "plt.scatter(XlogP_rank_array_no_sorted, XlogP_array_no_sorted, alpha=0.7,  c=\"w\", s=40)\n",
    "plt.xlabel(\"XLogP rank\")\n",
    "plt.ylabel(\"OpenEye XLogP\")\n",
    "plt.xlim(-1,61)\n",
    "plt.ylim(-1.5,11)\n",
    "#plt.axvline(x=7.0) # decision criteria based on SpMax4\n",
    "plt.savefig(\"XlogP_rank.png\", dpi=200)\n",
    "plt.savefig(\"XlogP_rank.svg\")"
   ]
  },
  {
   "cell_type": "markdown",
   "metadata": {
    "collapsed": true
   },
   "source": [
    "### B.2. XLogP Box Plot"
   ]
  },
  {
   "cell_type": "code",
   "execution_count": 26,
   "metadata": {
    "collapsed": false
   },
   "outputs": [
    {
     "data": {
      "image/png": "[encoded data removed]",
      "text/plain": [
       "<matplotlib.figure.Figure at 0x11c358310>"
      ]
     },
     "metadata": {},
     "output_type": "display_data"
    }
   ],
   "source": [
    "df_exp_yes = df_exp_mol.loc[df_exp_mol[\"Experimental INP Formation\"] == \"Yes\"].reset_index(drop=True)\n",
    "df_exp_no = df_exp_mol.loc[df_exp_mol[\"Experimental INP Formation\"] == \"No\"].reset_index(drop=True)\n",
    "XLogP_array_yes = df_exp_yes.ix[:,\"XlogP\"]\n",
    "XLogP_array_no = df_exp_no.ix[:,\"XlogP\"]\n",
    "\n",
    "data=[XLogP_array_yes.astype(np.float), XLogP_array_no.astype(np.float)]\n",
    "fig = plt.figure(1, figsize=(4,4))\n",
    "ax = plt.subplot(1,1,1)\n",
    "\n",
    "ax.boxplot(data)\n",
    "ax.set_xticklabels([\"INP F\",\"INP NF\"])\n",
    "ax.set_ylabel(\"OpenEye XLogP\")\n",
    "fig.savefig(\"XlogP_boxplot.png\", dpi=200)\n",
    "plt.savefig(\"XlogP_boxplot.svg\")"
   ]
  },
  {
   "cell_type": "code",
   "execution_count": 27,
   "metadata": {
    "collapsed": false
   },
   "outputs": [
    {
     "name": "stdout",
     "output_type": "stream",
     "text": [
      "Ttest_indResult(statistic=1.6268930948374536, pvalue=0.10946738819100457)\n",
      "   95% CI:  (-0.19462457291657032, 1.8740111097487802)\n"
     ]
    }
   ],
   "source": [
    "from scipy import stats\n",
    "print(stats.ttest_ind(XLogP_array_yes, XLogP_array_no, equal_var=False))\n",
    "\n",
    "import numpy as np, statsmodels.stats.api as sms\n",
    "cm = sms.CompareMeans(sms.DescrStatsW(XLogP_array_yes), sms.DescrStatsW(XLogP_array_no))\n",
    "# print(cm.tconfint_diff(usevar='unequal'))\n",
    "print(\"   95% CI: \", cm.tconfint_diff(usevar='unequal'))"
   ]
  },
  {
   "cell_type": "markdown",
   "metadata": {},
   "source": [
    "### B.3. XLogP Logistic Regression"
   ]
  },
  {
   "cell_type": "code",
   "execution_count": 28,
   "metadata": {
    "collapsed": true
   },
   "outputs": [],
   "source": [
    "from scipy import optimize\n",
    "\n",
    "def logistic(params,x):\n",
    "    \"\"\" \n",
    "    Logistic function\n",
    "\n",
    "    Parameters\n",
    "    ----------\n",
    "    params : list or numpy array\n",
    "      the three parameters of the logistic function\n",
    "      First parameter is set to 1, to make function\n",
    "      span 0 to 1.\n",
    "    x : numpy array\n",
    "      the explanatory variable\n",
    "   \n",
    "    Return\n",
    "    ------\n",
    "    numpy array\n",
    "      the output of the logistic function\n",
    "\n",
    "    \"\"\"\n",
    "    params[0]=1\n",
    "    return params[0]/(1+np.exp(-x*params[1] - params[2])) \n",
    "\n",
    "def residuals(params):\n",
    "    predicted = logistic(params,x)\n",
    "    return np.sum((y-predicted)**2)"
   ]
  },
  {
   "cell_type": "code",
   "execution_count": 29,
   "metadata": {
    "collapsed": false
   },
   "outputs": [
    {
     "data": {
      "text/html": [
       "<div>\n",
       "<table border=\"1\" class=\"dataframe\">\n",
       "  <thead>\n",
       "    <tr style=\"text-align: right;\">\n",
       "      <th></th>\n",
       "      <th>FILENAME</th>\n",
       "      <th>Drug Name</th>\n",
       "      <th>smiles</th>\n",
       "      <th>XlogP</th>\n",
       "      <th>SpMAX4_Bh(s)</th>\n",
       "      <th>ALOGP2</th>\n",
       "      <th>CLogP</th>\n",
       "      <th>Experimental INP Formation</th>\n",
       "      <th>SpMAX4_Bh(s) Analysis Group</th>\n",
       "      <th>Experimental Category</th>\n",
       "    </tr>\n",
       "  </thead>\n",
       "  <tbody>\n",
       "    <tr>\n",
       "      <th>0</th>\n",
       "      <td>ABT737.mol</td>\n",
       "      <td>ABT737</td>\n",
       "      <td>CN(C)CC[C@@H](CSc1ccccc1)Nc2ccc(cc2[N+](=O)[O-...</td>\n",
       "      <td>6.948</td>\n",
       "      <td>7.00</td>\n",
       "      <td>67.200</td>\n",
       "      <td>10.04</td>\n",
       "      <td>Yes</td>\n",
       "      <td>Validation</td>\n",
       "      <td>1</td>\n",
       "    </tr>\n",
       "    <tr>\n",
       "      <th>1</th>\n",
       "      <td>AZD-4547.mol</td>\n",
       "      <td>AZD-4547</td>\n",
       "      <td>C[C@@H]1CN(C[C@@H](N1)C)c2ccc(cc2)C(=O)Nc3cc([...</td>\n",
       "      <td>3.37</td>\n",
       "      <td>4.72</td>\n",
       "      <td>17.700</td>\n",
       "      <td>4.43</td>\n",
       "      <td>No</td>\n",
       "      <td>Validation</td>\n",
       "      <td>0</td>\n",
       "    </tr>\n",
       "    <tr>\n",
       "      <th>2</th>\n",
       "      <td>Apitolisib.mol</td>\n",
       "      <td>Apitolisib</td>\n",
       "      <td>Cc1c(sc2c1nc(nc2N3CCOCC3)c4cnc(nc4)N)CN5CCN(CC...</td>\n",
       "      <td>-0.918</td>\n",
       "      <td>5.01</td>\n",
       "      <td>1.800</td>\n",
       "      <td>1.35</td>\n",
       "      <td>No</td>\n",
       "      <td>Validation</td>\n",
       "      <td>0</td>\n",
       "    </tr>\n",
       "    <tr>\n",
       "      <th>3</th>\n",
       "      <td>Avagacestat.mol</td>\n",
       "      <td>Avagacestat</td>\n",
       "      <td>c1cc(ccc1S(=O)(=O)[N@@](Cc2ccc(cc2F)c3ncon3)[C...</td>\n",
       "      <td>4.077</td>\n",
       "      <td>8.00</td>\n",
       "      <td>16.000</td>\n",
       "      <td>3.05</td>\n",
       "      <td>Yes</td>\n",
       "      <td>Validation</td>\n",
       "      <td>1</td>\n",
       "    </tr>\n",
       "    <tr>\n",
       "      <th>4</th>\n",
       "      <td>Avasimibe.mol</td>\n",
       "      <td>Avasimibe</td>\n",
       "      <td>CC(C)c1cccc(c1OS(=O)(=O)NC(=O)Cc2c(cc(cc2C(C)C...</td>\n",
       "      <td>7.36</td>\n",
       "      <td>4.79</td>\n",
       "      <td>67.695</td>\n",
       "      <td>9.70</td>\n",
       "      <td>Yes</td>\n",
       "      <td>Validation</td>\n",
       "      <td>1</td>\n",
       "    </tr>\n",
       "  </tbody>\n",
       "</table>\n",
       "</div>"
      ],
      "text/plain": [
       "          FILENAME    Drug Name  \\\n",
       "0       ABT737.mol       ABT737   \n",
       "1     AZD-4547.mol     AZD-4547   \n",
       "2   Apitolisib.mol   Apitolisib   \n",
       "3  Avagacestat.mol  Avagacestat   \n",
       "4    Avasimibe.mol    Avasimibe   \n",
       "\n",
       "                                              smiles  XlogP  SpMAX4_Bh(s)  \\\n",
       "0  CN(C)CC[C@@H](CSc1ccccc1)Nc2ccc(cc2[N+](=O)[O-...  6.948          7.00   \n",
       "1  C[C@@H]1CN(C[C@@H](N1)C)c2ccc(cc2)C(=O)Nc3cc([...   3.37          4.72   \n",
       "2  Cc1c(sc2c1nc(nc2N3CCOCC3)c4cnc(nc4)N)CN5CCN(CC... -0.918          5.01   \n",
       "3  c1cc(ccc1S(=O)(=O)[N@@](Cc2ccc(cc2F)c3ncon3)[C...  4.077          8.00   \n",
       "4  CC(C)c1cccc(c1OS(=O)(=O)NC(=O)Cc2c(cc(cc2C(C)C...   7.36          4.79   \n",
       "\n",
       "   ALOGP2  CLogP Experimental INP Formation SpMAX4_Bh(s) Analysis Group  \\\n",
       "0  67.200  10.04                        Yes                  Validation   \n",
       "1  17.700   4.43                         No                  Validation   \n",
       "2   1.800   1.35                         No                  Validation   \n",
       "3  16.000   3.05                        Yes                  Validation   \n",
       "4  67.695   9.70                        Yes                  Validation   \n",
       "\n",
       "  Experimental Category  \n",
       "0                     1  \n",
       "1                     0  \n",
       "2                     0  \n",
       "3                     1  \n",
       "4                     1  "
      ]
     },
     "execution_count": 29,
     "metadata": {},
     "output_type": "execute_result"
    }
   ],
   "source": [
    "df_exp_mol[\"Experimental Category\"]=None\n",
    "\n",
    "for i,row in enumerate(df_exp_mol.iterrows()):\n",
    "    if df_exp_mol.ix[i,\"Experimental INP Formation\"] == \"Yes\" :\n",
    "        df_exp_mol.ix[i, \"Experimental Category\"] = 1\n",
    "    else:\n",
    "        df_exp_mol.ix[i, \"Experimental Category\"] = 0\n",
    "\n",
    "df_exp_mol.head()"
   ]
  },
  {
   "cell_type": "code",
   "execution_count": 30,
   "metadata": {
    "collapsed": false
   },
   "outputs": [
    {
     "name": "stdout",
     "output_type": "stream",
     "text": [
      "For XlogP: The predicted parameters are [ 1.          0.2243944  -1.06147626]\n",
      "         Threshold logP:  4.73040448664\n"
     ]
    },
    {
     "data": {
      "image/png": "[encoded data removed]",
      "text/plain": [
       "<matplotlib.figure.Figure at 0x11c36bad0>"
      ]
     },
     "metadata": {},
     "output_type": "display_data"
    }
   ],
   "source": [
    "fig = plt.figure(1, figsize=(4,4), dpi=200)\n",
    "\n",
    "df_sorted = df_exp_mol.sort_values(by=\"XlogP\", ascending=1).reset_index(drop=True)\n",
    "initial_guess = [1,1,1]\n",
    "x=df_sorted.ix[:, \"XlogP\"].astype(float)\n",
    "y=df_sorted.ix[:, \"Experimental Category\"]\n",
    "\n",
    "fit = optimize.minimize(residuals,initial_guess,method='BFGS')\n",
    "print(\"For {}: The predicted parameters are\".format(\"XlogP\"), fit.x)\n",
    "\n",
    "# Inflection point is x_0/b\n",
    "threshold_logP=(-1)*fit.x[2]/fit.x[1]\n",
    "print(\"         Threshold logP: \", threshold_logP)\n",
    "\n",
    "plt.scatter(x,y)\n",
    "predicted = logistic(fit.x, x)\n",
    "plt.plot(x,predicted,color=\"red\")\n",
    "plt.ylim(-0.1, 1.1)\n",
    "plt.xlabel('XlogP')\n",
    "plt.ylabel('INP formation', size=16)\n",
    "plt.savefig(\"XlogP_logistic_fit.png\", dpi=200)\n",
    "plt.savefig(\"XlogP_logistic_fit.svg\")"
   ]
  },
  {
   "cell_type": "markdown",
   "metadata": {},
   "source": [
    "### B.4. XLogP ROC Curve"
   ]
  },
  {
   "cell_type": "code",
   "execution_count": 31,
   "metadata": {
    "collapsed": false
   },
   "outputs": [
    {
     "data": {
      "image/png": "[encoded data removed]",
      "text/plain": [
       "<matplotlib.figure.Figure at 0x11c36b150>"
      ]
     },
     "metadata": {},
     "output_type": "display_data"
    }
   ],
   "source": [
    "from sklearn import metrics\n",
    "\n",
    "y_actual = df_sorted[\"Experimental Category\"]\n",
    "# predicted score come from logistic regression\n",
    "y_predicted = predicted\n",
    "\n",
    "# ROC\n",
    "fpr, tpr, thresholds = metrics.roc_curve(y_actual, y_predicted)\n",
    "roc_auc = metrics.auc(fpr, tpr)\n",
    "\n",
    "# Plotting ROC curve\n",
    "fig = plt.figure(1, figsize=(4,4))\n",
    "plt.title('Receiver Operating Characteristic')\n",
    "plt.plot(fpr, tpr, 'b',\n",
    "label='AUC = %0.2f'% roc_auc)\n",
    "plt.legend(loc='lower right')\n",
    "plt.plot([0,1],[0,1],'r--')\n",
    "plt.xlim([-0.1,1.1])\n",
    "plt.ylim([-0.1,1.1])\n",
    "plt.ylabel('True Positive Rate')\n",
    "plt.xlabel('False Positive Rate')\n",
    "plt.show()"
   ]
  },
  {
   "cell_type": "markdown",
   "metadata": {
    "collapsed": true
   },
   "source": [
    "#### Bootstrap for ROC AUC confidence intervals"
   ]
  },
  {
   "cell_type": "code",
   "execution_count": 32,
   "metadata": {
    "collapsed": false
   },
   "outputs": [
    {
     "name": "stdout",
     "output_type": "stream",
     "text": [
      "Original ROC area: 0.660\n",
      "95% Confidence interval for the score: [0.506 - 0.794]\n"
     ]
    },
    {
     "data": {
      "image/png": "[encoded data removed]",
      "text/plain": [
       "<matplotlib.figure.Figure at 0x11c8b3dd0>"
      ]
     },
     "metadata": {},
     "output_type": "display_data"
    }
   ],
   "source": [
    "y_actual = np.array(y_actual).astype(int)\n",
    "y_predicted = np.array(y_predicted)\n",
    "print(\"Original ROC area: {:0.3f}\".format(metrics.roc_auc_score(y_actual, y_predicted)))\n",
    "\n",
    "n_bootstraps = 1000\n",
    "rng_seed = 0  # control reproducibility\n",
    "bootstrapped_scores = []\n",
    "\n",
    "rng = np.random.RandomState(rng_seed)\n",
    "for i in range(n_bootstraps):\n",
    "\n",
    "    # bootstrap by sampling with replacement on the prediction indices\n",
    "    indices = rng.random_integers(0, len(y_predicted) - 1, len(y_predicted))\n",
    " \n",
    "    if len(np.unique(y_actual[indices])) < 2:\n",
    "        # We need at least one positive and one negative sample for ROC AUC\n",
    "        # to be defined: reject the sample\n",
    "        continue\n",
    "\n",
    "    score = metrics.roc_auc_score(y_actual[indices], y_predicted[indices])\n",
    "    bootstrapped_scores.append(score)\n",
    "    #print(\"Bootstrap #{} ROC area: {:0.3f}\".format(i + 1, score))\n",
    "\n",
    "fig = plt.figure(1, figsize=(9,4))\n",
    "plt.subplot(1,2,1)\n",
    "plt.hist(bootstrapped_scores, bins=50)\n",
    "plt.title('Histogram of the bootstrapped ROC AUC', size=14)\n",
    "# plt.show()\n",
    "\n",
    "sorted_scores = np.array(bootstrapped_scores)\n",
    "sorted_scores.sort()\n",
    "\n",
    "# Computing the lower and upper bound of the 95% confidence interval\n",
    "# 95% CI percentiles to 0.025 and 0.975\n",
    "confidence_lower = sorted_scores[int(0.025 * len(sorted_scores))]\n",
    "confidence_upper = sorted_scores[int(0.975 * len(sorted_scores))]\n",
    "print(\"95% Confidence interval for the score: [{:0.3f} - {:0.3}]\".format(\n",
    "    confidence_lower, confidence_upper))\n",
    "\n",
    "# Plotting ROC curve\n",
    "#fig = plt.figure(1, figsize=(4,4))\n",
    "plt.subplot(1,2,2)\n",
    "plt.title('Receiver Operating Characteristic', size =14)\n",
    "plt.plot(fpr, tpr, 'b', label='AUC={0:0.2f} 95%CI: [{1:0.2f},{2:0.2f}]'.format(roc_auc, confidence_lower, confidence_upper))\n",
    "plt.legend(loc='lower right', prop={'size':10})\n",
    "plt.plot([0,1],[0,1],'r--')\n",
    "plt.xlim([-0.1,1.1])\n",
    "plt.ylim([-0.1,1.1])\n",
    "plt.ylabel('True Positive Rate')\n",
    "plt.xlabel('False Positive Rate')\n",
    "plt.savefig(\"XlogP_ROC_with_histogram.png\", dpi=200)\n",
    "plt.savefig(\"XlogP_ROC_with_histogram.svg\")"
   ]
  },
  {
   "cell_type": "code",
   "execution_count": 33,
   "metadata": {
    "collapsed": false
   },
   "outputs": [
    {
     "data": {
      "image/png": "[encoded data removed]",
      "text/plain": [
       "<matplotlib.figure.Figure at 0x11c765d50>"
      ]
     },
     "metadata": {},
     "output_type": "display_data"
    }
   ],
   "source": [
    "# Plotting ROC curve\n",
    "fig = plt.figure(1, figsize=(4,4))\n",
    "plt.title('Receiver Operating Characteristic', size=16)\n",
    "plt.plot(fpr, tpr, 'b', label='AUC={0:0.2f} \\n95% CI: [{1:0.2f},{2:0.2f}]'.format(roc_auc, confidence_lower, confidence_upper))\n",
    "plt.legend(loc='lower right', prop={'size':13})\n",
    "plt.plot([0,1],[0,1],'r--')\n",
    "plt.xlim([-0.1,1.1])\n",
    "plt.ylim([-0.1,1.1])\n",
    "plt.ylabel('True Positive Rate')\n",
    "plt.xlabel('False Positive Rate')\n",
    "plt.savefig(\"XlogP_ROC.png\", dpi=200)\n",
    "plt.savefig(\"XlogP_ROC.svg\")"
   ]
  },
  {
   "cell_type": "markdown",
   "metadata": {},
   "source": [
    "### B.5. XLogP Confusion Matrix"
   ]
  },
  {
   "cell_type": "code",
   "execution_count": 33,
   "metadata": {
    "collapsed": false
   },
   "outputs": [
    {
     "data": {
      "text/html": [
       "<div>\n",
       "<table border=\"1\" class=\"dataframe\">\n",
       "  <thead>\n",
       "    <tr style=\"text-align: right;\">\n",
       "      <th></th>\n",
       "      <th>FILENAME</th>\n",
       "      <th>NAME</th>\n",
       "      <th>smiles</th>\n",
       "      <th>XlogP</th>\n",
       "      <th>SpMAX4_Bh(s)</th>\n",
       "      <th>ALOGP2</th>\n",
       "      <th>CLogP</th>\n",
       "      <th>Forms</th>\n",
       "      <th>Group</th>\n",
       "      <th>NP?</th>\n",
       "      <th>NP Pred</th>\n",
       "    </tr>\n",
       "  </thead>\n",
       "  <tbody>\n",
       "    <tr>\n",
       "      <th>0</th>\n",
       "      <td>ABT737.mol</td>\n",
       "      <td>ABT737</td>\n",
       "      <td>CN(C)CC[C@@H](CSc1ccccc1)Nc2ccc(cc2[N+](=O)[O-...</td>\n",
       "      <td>6.948</td>\n",
       "      <td>7.00</td>\n",
       "      <td>67.200</td>\n",
       "      <td>10.04</td>\n",
       "      <td>Yes</td>\n",
       "      <td>Validation</td>\n",
       "      <td>1</td>\n",
       "      <td>1</td>\n",
       "    </tr>\n",
       "    <tr>\n",
       "      <th>1</th>\n",
       "      <td>AZD-4547.mol</td>\n",
       "      <td>AZD-4547</td>\n",
       "      <td>C[C@@H]1CN(C[C@@H](N1)C)c2ccc(cc2)C(=O)Nc3cc([...</td>\n",
       "      <td>3.37</td>\n",
       "      <td>4.72</td>\n",
       "      <td>17.700</td>\n",
       "      <td>4.43</td>\n",
       "      <td>No</td>\n",
       "      <td>Validation</td>\n",
       "      <td>0</td>\n",
       "      <td>0</td>\n",
       "    </tr>\n",
       "    <tr>\n",
       "      <th>2</th>\n",
       "      <td>Apitolisib.mol</td>\n",
       "      <td>Apitolisib</td>\n",
       "      <td>Cc1c(sc2c1nc(nc2N3CCOCC3)c4cnc(nc4)N)CN5CCN(CC...</td>\n",
       "      <td>-0.918</td>\n",
       "      <td>5.01</td>\n",
       "      <td>1.800</td>\n",
       "      <td>1.35</td>\n",
       "      <td>No</td>\n",
       "      <td>Validation</td>\n",
       "      <td>0</td>\n",
       "      <td>0</td>\n",
       "    </tr>\n",
       "    <tr>\n",
       "      <th>3</th>\n",
       "      <td>Avagacestat.mol</td>\n",
       "      <td>Avagacestat</td>\n",
       "      <td>c1cc(ccc1S(=O)(=O)[N@@](Cc2ccc(cc2F)c3ncon3)[C...</td>\n",
       "      <td>4.077</td>\n",
       "      <td>8.00</td>\n",
       "      <td>16.000</td>\n",
       "      <td>3.05</td>\n",
       "      <td>Yes</td>\n",
       "      <td>Validation</td>\n",
       "      <td>1</td>\n",
       "      <td>0</td>\n",
       "    </tr>\n",
       "    <tr>\n",
       "      <th>4</th>\n",
       "      <td>Avasimibe.mol</td>\n",
       "      <td>Avasimibe</td>\n",
       "      <td>CC(C)c1cccc(c1OS(=O)(=O)NC(=O)Cc2c(cc(cc2C(C)C...</td>\n",
       "      <td>7.36</td>\n",
       "      <td>4.79</td>\n",
       "      <td>67.695</td>\n",
       "      <td>9.70</td>\n",
       "      <td>Yes</td>\n",
       "      <td>Validation</td>\n",
       "      <td>1</td>\n",
       "      <td>1</td>\n",
       "    </tr>\n",
       "  </tbody>\n",
       "</table>\n",
       "</div>"
      ],
      "text/plain": [
       "          FILENAME         NAME  \\\n",
       "0       ABT737.mol       ABT737   \n",
       "1     AZD-4547.mol     AZD-4547   \n",
       "2   Apitolisib.mol   Apitolisib   \n",
       "3  Avagacestat.mol  Avagacestat   \n",
       "4    Avasimibe.mol    Avasimibe   \n",
       "\n",
       "                                              smiles  XlogP  SpMAX4_Bh(s)  \\\n",
       "0  CN(C)CC[C@@H](CSc1ccccc1)Nc2ccc(cc2[N+](=O)[O-...  6.948          7.00   \n",
       "1  C[C@@H]1CN(C[C@@H](N1)C)c2ccc(cc2)C(=O)Nc3cc([...   3.37          4.72   \n",
       "2  Cc1c(sc2c1nc(nc2N3CCOCC3)c4cnc(nc4)N)CN5CCN(CC... -0.918          5.01   \n",
       "3  c1cc(ccc1S(=O)(=O)[N@@](Cc2ccc(cc2F)c3ncon3)[C...  4.077          8.00   \n",
       "4  CC(C)c1cccc(c1OS(=O)(=O)NC(=O)Cc2c(cc(cc2C(C)C...   7.36          4.79   \n",
       "\n",
       "   ALOGP2  CLogP Forms       Group NP? NP Pred  \n",
       "0  67.200  10.04   Yes  Validation   1       1  \n",
       "1  17.700   4.43    No  Validation   0       0  \n",
       "2   1.800   1.35    No  Validation   0       0  \n",
       "3  16.000   3.05   Yes  Validation   1       0  \n",
       "4  67.695   9.70   Yes  Validation   1       1  "
      ]
     },
     "execution_count": 33,
     "metadata": {},
     "output_type": "execute_result"
    }
   ],
   "source": [
    "df_exp_mol[\"NP Pred\"]= None\n",
    "    \n",
    "for i, row in enumerate(df_exp_mol.iterrows()):\n",
    "    logP = float(df_exp_mol.ix[i, \"XlogP\"])\n",
    "    #print(logD)\n",
    "    if logP < threshold_logP:\n",
    "        df_exp_mol.ix[i, \"NP Pred\"] = 0\n",
    "    else:\n",
    "        df_exp_mol.ix[i, \"NP Pred\"] = 1\n",
    "df_exp_mol.head()"
   ]
  },
  {
   "cell_type": "code",
   "execution_count": 34,
   "metadata": {
    "collapsed": false
   },
   "outputs": [
    {
     "name": "stdout",
     "output_type": "stream",
     "text": [
      "OpenEye XlogP \n",
      "Accuracy: 0.53\n",
      "XlogP threshold= 4.81\n",
      "\n",
      "Predicted   0   1\n",
      "Actual           \n",
      "0          22  11\n",
      "1          17  10\n"
     ]
    }
   ],
   "source": [
    "exp_NP = df_exp_mol.ix[:,\"NP?\"].astype(int)\n",
    "pred_NP = df_exp_mol.ix[:, \"NP Pred\"].astype(int)\n",
    "\n",
    "actual = pd.Series(exp_NP, name= \"Actual\")\n",
    "predicted = pd.Series(pred_NP, name= \"Predicted\")\n",
    "df_confusion = pd.crosstab(actual, predicted)\n",
    "    \n",
    "# Accuracy = (TP+TN)/(TP+TN+FP+FN)\n",
    "TP = df_confusion.ix[1,1]\n",
    "TN = df_confusion.ix[0,0]\n",
    "FP = df_confusion.ix[0,1]\n",
    "FN = df_confusion.ix[1,0]\n",
    "    \n",
    "accuracy = (TP+TN)/(TP+TN+FP+FN)\n",
    "    \n",
    "print(\"OpenEye XlogP\", \"\\nAccuracy: {:.2f}\".format(accuracy))\n",
    "print(\"XlogP threshold= {:.2f}\\n\".format(threshold_logP))\n",
    "print(df_confusion)"
   ]
  },
  {
   "cell_type": "markdown",
   "metadata": {},
   "source": [
    "##C. Chem3D CLogP"
   ]
  },
  {
   "cell_type": "markdown",
   "metadata": {
    "collapsed": true
   },
   "source": [
    "### C.1. Plot CLogP vs CLogP rank"
   ]
  },
  {
   "cell_type": "code",
   "execution_count": 35,
   "metadata": {
    "collapsed": false
   },
   "outputs": [
    {
     "data": {
      "text/html": [
       "<div>\n",
       "<table border=\"1\" class=\"dataframe\">\n",
       "  <thead>\n",
       "    <tr style=\"text-align: right;\">\n",
       "      <th></th>\n",
       "      <th>FILENAME</th>\n",
       "      <th>NAME</th>\n",
       "      <th>smiles</th>\n",
       "      <th>XlogP</th>\n",
       "      <th>SpMAX4_Bh(s)</th>\n",
       "      <th>ALOGP2</th>\n",
       "      <th>CLogP</th>\n",
       "      <th>Forms</th>\n",
       "      <th>Group</th>\n",
       "      <th>NP?</th>\n",
       "      <th>NP Pred</th>\n",
       "      <th>CLogP rank</th>\n",
       "    </tr>\n",
       "  </thead>\n",
       "  <tbody>\n",
       "    <tr>\n",
       "      <th>0</th>\n",
       "      <td>Talazoparib.mol</td>\n",
       "      <td>Talazoparib</td>\n",
       "      <td>Cn1c(ncn1)[C@H]2c3c4c(cc(cc4N[C@@H]2c5ccc(cc5)...</td>\n",
       "      <td>2.178</td>\n",
       "      <td>5.07</td>\n",
       "      <td>6.1</td>\n",
       "      <td>0.35</td>\n",
       "      <td>No</td>\n",
       "      <td>Validation</td>\n",
       "      <td>0</td>\n",
       "      <td>0</td>\n",
       "      <td>0</td>\n",
       "    </tr>\n",
       "    <tr>\n",
       "      <th>1</th>\n",
       "      <td>Camptotecin.mol</td>\n",
       "      <td>Camptotecin</td>\n",
       "      <td>CC[C@@]1(c2cc-3n(c(=O)c2COC1=O)Cc4c3nc5ccccc5c4)O</td>\n",
       "      <td>1.661</td>\n",
       "      <td>4.99</td>\n",
       "      <td>3.0</td>\n",
       "      <td>0.60</td>\n",
       "      <td>No</td>\n",
       "      <td>Training</td>\n",
       "      <td>0</td>\n",
       "      <td>0</td>\n",
       "      <td>1</td>\n",
       "    </tr>\n",
       "    <tr>\n",
       "      <th>2</th>\n",
       "      <td>Voxtalisib.mol</td>\n",
       "      <td>Voxtalisib</td>\n",
       "      <td>CCn1c2c(cc(c1=O)c3ccn[nH]3)c(nc(n2)N)C</td>\n",
       "      <td>0.486</td>\n",
       "      <td>4.62</td>\n",
       "      <td>0.7</td>\n",
       "      <td>0.74</td>\n",
       "      <td>No</td>\n",
       "      <td>Validation</td>\n",
       "      <td>0</td>\n",
       "      <td>0</td>\n",
       "      <td>2</td>\n",
       "    </tr>\n",
       "    <tr>\n",
       "      <th>3</th>\n",
       "      <td>ZSTK474.mol</td>\n",
       "      <td>ZSTK474</td>\n",
       "      <td>c1ccc2c(c1)nc(n2c3nc(nc(n3)N4CCOCC4)N5CCOCC5)C...</td>\n",
       "      <td>1.116</td>\n",
       "      <td>4.91</td>\n",
       "      <td>11.3</td>\n",
       "      <td>1.05</td>\n",
       "      <td>No</td>\n",
       "      <td>Validation</td>\n",
       "      <td>0</td>\n",
       "      <td>0</td>\n",
       "      <td>3</td>\n",
       "    </tr>\n",
       "    <tr>\n",
       "      <th>4</th>\n",
       "      <td>Forskolin.mol</td>\n",
       "      <td>Forskolin</td>\n",
       "      <td>CC(=O)O[C@H]1[C@H]([C@@H]2[C@]([C@H](CCC2(C)C)...</td>\n",
       "      <td>1.712</td>\n",
       "      <td>6.44</td>\n",
       "      <td>0.5</td>\n",
       "      <td>1.31</td>\n",
       "      <td>No</td>\n",
       "      <td>Validation</td>\n",
       "      <td>0</td>\n",
       "      <td>0</td>\n",
       "      <td>4</td>\n",
       "    </tr>\n",
       "  </tbody>\n",
       "</table>\n",
       "</div>"
      ],
      "text/plain": [
       "          FILENAME         NAME  \\\n",
       "0  Talazoparib.mol  Talazoparib   \n",
       "1  Camptotecin.mol  Camptotecin   \n",
       "2   Voxtalisib.mol   Voxtalisib   \n",
       "3      ZSTK474.mol      ZSTK474   \n",
       "4    Forskolin.mol    Forskolin   \n",
       "\n",
       "                                              smiles  XlogP  SpMAX4_Bh(s)  \\\n",
       "0  Cn1c(ncn1)[C@H]2c3c4c(cc(cc4N[C@@H]2c5ccc(cc5)...  2.178          5.07   \n",
       "1  CC[C@@]1(c2cc-3n(c(=O)c2COC1=O)Cc4c3nc5ccccc5c4)O  1.661          4.99   \n",
       "2             CCn1c2c(cc(c1=O)c3ccn[nH]3)c(nc(n2)N)C  0.486          4.62   \n",
       "3  c1ccc2c(c1)nc(n2c3nc(nc(n3)N4CCOCC4)N5CCOCC5)C...  1.116          4.91   \n",
       "4  CC(=O)O[C@H]1[C@H]([C@@H]2[C@]([C@H](CCC2(C)C)...  1.712          6.44   \n",
       "\n",
       "   ALOGP2  CLogP Forms       Group NP? NP Pred  CLogP rank  \n",
       "0     6.1   0.35    No  Validation   0       0           0  \n",
       "1     3.0   0.60    No    Training   0       0           1  \n",
       "2     0.7   0.74    No  Validation   0       0           2  \n",
       "3    11.3   1.05    No  Validation   0       0           3  \n",
       "4     0.5   1.31    No  Validation   0       0           4  "
      ]
     },
     "execution_count": 35,
     "metadata": {},
     "output_type": "execute_result"
    }
   ],
   "source": [
    "df_exp_mol_sorted = df_exp_mol.sort_values(by=\"CLogP\", ascending=1).reset_index(drop=True)\n",
    "df_exp_mol_sorted[\"CLogP rank\"]=df_exp_mol_sorted.index\n",
    "#df_exp_mol_sorted.head()\n",
    "\n",
    "df_exp_mol_yes_sorted = df_exp_mol_sorted.loc[df_exp_mol_sorted[\"Forms\"] == \"Yes\"].reset_index(drop=True)\n",
    "df_exp_mol_no_sorted = df_exp_mol_sorted.loc[df_exp_mol_sorted[\"Forms\"] == \"No\"].reset_index(drop=True)\n",
    "df_exp_mol_no_sorted.head()"
   ]
  },
  {
   "cell_type": "code",
   "execution_count": 36,
   "metadata": {
    "collapsed": false
   },
   "outputs": [
    {
     "data": {
      "image/png": "[encoded data removed]",
      "text/plain": [
       "<matplotlib.figure.Figure at 0x11c42acd0>"
      ]
     },
     "metadata": {},
     "output_type": "display_data"
    }
   ],
   "source": [
    "CLogP_array_yes_sorted = df_exp_mol_yes_sorted.ix[:,\"CLogP\"]\n",
    "CLogP_rank_array_yes_sorted = df_exp_mol_yes_sorted.ix[:,\"CLogP rank\"]\n",
    "CLogP_array_no_sorted = df_exp_mol_no_sorted.ix[:,\"CLogP\"]\n",
    "CLogP_rank_array_no_sorted = df_exp_mol_no_sorted.ix[:,\"CLogP rank\"]\n",
    "plt.rcParams.update({'font.size': 16})\n",
    "fig = plt.figure(1, figsize=(6,4))\n",
    "\n",
    "plt.scatter(CLogP_rank_array_yes_sorted, CLogP_array_yes_sorted, alpha=0.7, c=\"b\", s=40)\n",
    "plt.scatter(CLogP_rank_array_no_sorted, CLogP_array_no_sorted, alpha=0.7,  c=\"w\", s=40)\n",
    "plt.xlabel(\"CLogP rank\")\n",
    "plt.ylabel(\"Chem3D CLogP\")\n",
    "plt.xlim(-1,61)\n",
    "plt.ylim(-0,12)\n",
    "#plt.axvline(x=7.0) # decision criteria based on SpMax4\n",
    "plt.savefig(\"CLogP_rank.png\", dpi=200)\n",
    "plt.savefig(\"CLogP_rank.svg\")"
   ]
  },
  {
   "cell_type": "markdown",
   "metadata": {},
   "source": [
    "### C.2. CLogP Box Plot"
   ]
  },
  {
   "cell_type": "code",
   "execution_count": 37,
   "metadata": {
    "collapsed": false
   },
   "outputs": [
    {
     "data": {
      "image/png": "[encoded data removed]",
      "text/plain": [
       "<matplotlib.figure.Figure at 0x11851f7d0>"
      ]
     },
     "metadata": {},
     "output_type": "display_data"
    }
   ],
   "source": [
    "df_exp_yes = df_exp_mol.loc[df_exp_mol[\"Forms\"] == \"Yes\"].reset_index(drop=True)\n",
    "df_exp_no = df_exp_mol.loc[df_exp_mol[\"Forms\"] == \"No\"].reset_index(drop=True)\n",
    "CLogP_array_yes = df_exp_yes.ix[:,\"CLogP\"]\n",
    "CLogP_array_no = df_exp_no.ix[:,\"CLogP\"]\n",
    "\n",
    "data=[CLogP_array_yes.astype(np.float), CLogP_array_no.astype(np.float)]\n",
    "fig = plt.figure(1, figsize=(4,4))\n",
    "ax = plt.subplot(1,1,1)\n",
    "\n",
    "ax.boxplot(data)\n",
    "ax.set_xticklabels([\"INP F\",\"INP NF\"])\n",
    "ax.set_ylabel(\"Chem3D CLogP\")\n",
    "fig.savefig(\"CLogP_boxplot.png\", dpi=200)\n",
    "plt.savefig(\"CLogP_boxplot.svg\")"
   ]
  },
  {
   "cell_type": "code",
   "execution_count": 38,
   "metadata": {
    "collapsed": false
   },
   "outputs": [
    {
     "name": "stdout",
     "output_type": "stream",
     "text": [
      "Ttest_indResult(statistic=2.1098881539269869, pvalue=0.039196930059147247)\n",
      "   95% CI:  (0.065218579360229345, 2.479831925690275)\n"
     ]
    }
   ],
   "source": [
    "from scipy import stats\n",
    "print(stats.ttest_ind(CLogP_array_yes, CLogP_array_no, equal_var=False))\n",
    "\n",
    "import numpy as np, statsmodels.stats.api as sms\n",
    "cm = sms.CompareMeans(sms.DescrStatsW(CLogP_array_yes), sms.DescrStatsW(CLogP_array_no))\n",
    "# print(cm.tconfint_diff(usevar='unequal'))\n",
    "print(\"   95% CI: \", cm.tconfint_diff(usevar='unequal'))"
   ]
  },
  {
   "cell_type": "markdown",
   "metadata": {},
   "source": [
    "### C.3. CLogP Logistic Regression"
   ]
  },
  {
   "cell_type": "code",
   "execution_count": 39,
   "metadata": {
    "collapsed": true
   },
   "outputs": [],
   "source": [
    "from scipy import optimize\n",
    "\n",
    "def logistic(params,x):\n",
    "    \"\"\" \n",
    "    Logistic function\n",
    "\n",
    "    Parameters\n",
    "    ----------\n",
    "    params : list or numpy array\n",
    "      the three parameters of the logistic function\n",
    "      First parameter is set to 1, to make function\n",
    "      span 0 to 1.\n",
    "    x : numpy array\n",
    "      the explanatory variable\n",
    "   \n",
    "    Return\n",
    "    ------\n",
    "    numpy array\n",
    "      the output of the logistic function\n",
    "\n",
    "    \"\"\"\n",
    "    params[0]=1\n",
    "    return params[0]/(1+np.exp(-x*params[1] - params[2])) \n",
    "\n",
    "def residuals(params):\n",
    "    predicted = logistic(params,x)\n",
    "    return np.sum((y-predicted)**2)"
   ]
  },
  {
   "cell_type": "code",
   "execution_count": 40,
   "metadata": {
    "collapsed": false
   },
   "outputs": [
    {
     "data": {
      "text/html": [
       "<div>\n",
       "<table border=\"1\" class=\"dataframe\">\n",
       "  <thead>\n",
       "    <tr style=\"text-align: right;\">\n",
       "      <th></th>\n",
       "      <th>FILENAME</th>\n",
       "      <th>NAME</th>\n",
       "      <th>smiles</th>\n",
       "      <th>XlogP</th>\n",
       "      <th>SpMAX4_Bh(s)</th>\n",
       "      <th>ALOGP2</th>\n",
       "      <th>CLogP</th>\n",
       "      <th>Forms</th>\n",
       "      <th>Group</th>\n",
       "      <th>NP?</th>\n",
       "      <th>NP Pred</th>\n",
       "    </tr>\n",
       "  </thead>\n",
       "  <tbody>\n",
       "    <tr>\n",
       "      <th>0</th>\n",
       "      <td>ABT737.mol</td>\n",
       "      <td>ABT737</td>\n",
       "      <td>CN(C)CC[C@@H](CSc1ccccc1)Nc2ccc(cc2[N+](=O)[O-...</td>\n",
       "      <td>6.948</td>\n",
       "      <td>7.00</td>\n",
       "      <td>67.200</td>\n",
       "      <td>10.04</td>\n",
       "      <td>Yes</td>\n",
       "      <td>Validation</td>\n",
       "      <td>1</td>\n",
       "      <td>1</td>\n",
       "    </tr>\n",
       "    <tr>\n",
       "      <th>1</th>\n",
       "      <td>AZD-4547.mol</td>\n",
       "      <td>AZD-4547</td>\n",
       "      <td>C[C@@H]1CN(C[C@@H](N1)C)c2ccc(cc2)C(=O)Nc3cc([...</td>\n",
       "      <td>3.37</td>\n",
       "      <td>4.72</td>\n",
       "      <td>17.700</td>\n",
       "      <td>4.43</td>\n",
       "      <td>No</td>\n",
       "      <td>Validation</td>\n",
       "      <td>0</td>\n",
       "      <td>0</td>\n",
       "    </tr>\n",
       "    <tr>\n",
       "      <th>2</th>\n",
       "      <td>Apitolisib.mol</td>\n",
       "      <td>Apitolisib</td>\n",
       "      <td>Cc1c(sc2c1nc(nc2N3CCOCC3)c4cnc(nc4)N)CN5CCN(CC...</td>\n",
       "      <td>-0.918</td>\n",
       "      <td>5.01</td>\n",
       "      <td>1.800</td>\n",
       "      <td>1.35</td>\n",
       "      <td>No</td>\n",
       "      <td>Validation</td>\n",
       "      <td>0</td>\n",
       "      <td>0</td>\n",
       "    </tr>\n",
       "    <tr>\n",
       "      <th>3</th>\n",
       "      <td>Avagacestat.mol</td>\n",
       "      <td>Avagacestat</td>\n",
       "      <td>c1cc(ccc1S(=O)(=O)[N@@](Cc2ccc(cc2F)c3ncon3)[C...</td>\n",
       "      <td>4.077</td>\n",
       "      <td>8.00</td>\n",
       "      <td>16.000</td>\n",
       "      <td>3.05</td>\n",
       "      <td>Yes</td>\n",
       "      <td>Validation</td>\n",
       "      <td>1</td>\n",
       "      <td>0</td>\n",
       "    </tr>\n",
       "    <tr>\n",
       "      <th>4</th>\n",
       "      <td>Avasimibe.mol</td>\n",
       "      <td>Avasimibe</td>\n",
       "      <td>CC(C)c1cccc(c1OS(=O)(=O)NC(=O)Cc2c(cc(cc2C(C)C...</td>\n",
       "      <td>7.36</td>\n",
       "      <td>4.79</td>\n",
       "      <td>67.695</td>\n",
       "      <td>9.70</td>\n",
       "      <td>Yes</td>\n",
       "      <td>Validation</td>\n",
       "      <td>1</td>\n",
       "      <td>1</td>\n",
       "    </tr>\n",
       "  </tbody>\n",
       "</table>\n",
       "</div>"
      ],
      "text/plain": [
       "          FILENAME         NAME  \\\n",
       "0       ABT737.mol       ABT737   \n",
       "1     AZD-4547.mol     AZD-4547   \n",
       "2   Apitolisib.mol   Apitolisib   \n",
       "3  Avagacestat.mol  Avagacestat   \n",
       "4    Avasimibe.mol    Avasimibe   \n",
       "\n",
       "                                              smiles  XlogP  SpMAX4_Bh(s)  \\\n",
       "0  CN(C)CC[C@@H](CSc1ccccc1)Nc2ccc(cc2[N+](=O)[O-...  6.948          7.00   \n",
       "1  C[C@@H]1CN(C[C@@H](N1)C)c2ccc(cc2)C(=O)Nc3cc([...   3.37          4.72   \n",
       "2  Cc1c(sc2c1nc(nc2N3CCOCC3)c4cnc(nc4)N)CN5CCN(CC... -0.918          5.01   \n",
       "3  c1cc(ccc1S(=O)(=O)[N@@](Cc2ccc(cc2F)c3ncon3)[C...  4.077          8.00   \n",
       "4  CC(C)c1cccc(c1OS(=O)(=O)NC(=O)Cc2c(cc(cc2C(C)C...   7.36          4.79   \n",
       "\n",
       "   ALOGP2  CLogP Forms       Group NP? NP Pred  \n",
       "0  67.200  10.04   Yes  Validation   1       1  \n",
       "1  17.700   4.43    No  Validation   0       0  \n",
       "2   1.800   1.35    No  Validation   0       0  \n",
       "3  16.000   3.05   Yes  Validation   1       0  \n",
       "4  67.695   9.70   Yes  Validation   1       1  "
      ]
     },
     "execution_count": 40,
     "metadata": {},
     "output_type": "execute_result"
    }
   ],
   "source": [
    "df_exp_mol[\"NP?\"]=None\n",
    "\n",
    "for i,row in enumerate(df_exp_mol.iterrows()):\n",
    "    if df_exp_mol.ix[i,\"Forms\"] == \"Yes\" :\n",
    "        df_exp_mol.ix[i, \"NP?\"] = 1\n",
    "    else:\n",
    "        df_exp_mol.ix[i, \"NP?\"] = 0\n",
    "\n",
    "df_exp_mol.head()"
   ]
  },
  {
   "cell_type": "code",
   "execution_count": 41,
   "metadata": {
    "collapsed": false
   },
   "outputs": [
    {
     "name": "stdout",
     "output_type": "stream",
     "text": [
      "For CLogP: The predicted parameters are [ 1.          0.23573037 -1.23807784]\n",
      "         Threshold logP:  5.25209314571\n"
     ]
    },
    {
     "data": {
      "image/png": "[encoded data removed]",
      "text/plain": [
       "<matplotlib.figure.Figure at 0x118550350>"
      ]
     },
     "metadata": {},
     "output_type": "display_data"
    }
   ],
   "source": [
    "fig = plt.figure(1, figsize=(4,4), dpi=200)\n",
    "\n",
    "df_sorted = df_exp_mol.sort_values(by=\"CLogP\", ascending=1).reset_index(drop=True)\n",
    "initial_guess = [1,1,1]\n",
    "x=df_sorted.ix[:, \"CLogP\"].astype(float)\n",
    "y=df_sorted.ix[:, \"NP?\"]\n",
    "\n",
    "fit = optimize.minimize(residuals,initial_guess,method='Nelder-Mead')\n",
    "print(\"For {}: The predicted parameters are\".format(\"CLogP\"), fit.x)\n",
    "\n",
    "# Inflection point is x_0/b\n",
    "threshold_logP=(-1)*fit.x[2]/fit.x[1]\n",
    "print(\"         Threshold logP: \", threshold_logP)\n",
    "\n",
    "plt.scatter(x,y)\n",
    "predicted = logistic(fit.x, x)\n",
    "plt.plot(x,predicted,color=\"red\")\n",
    "plt.ylim(-0.1, 1.1)\n",
    "plt.xlabel('Chem3D CLogP')\n",
    "plt.ylabel('INP formation', size=10)\n",
    "plt.savefig(\"CLogP_logistic_fit.png\", dpi=200)\n",
    "plt.savefig(\"CLogP_logistic_fit.svg\")"
   ]
  },
  {
   "cell_type": "markdown",
   "metadata": {},
   "source": [
    "### C.4. CLogP ROC Curve"
   ]
  },
  {
   "cell_type": "code",
   "execution_count": 42,
   "metadata": {
    "collapsed": false
   },
   "outputs": [
    {
     "data": {
      "image/png": "[encoded data removed]",
      "text/plain": [
       "<matplotlib.figure.Figure at 0x11c54e690>"
      ]
     },
     "metadata": {},
     "output_type": "display_data"
    }
   ],
   "source": [
    "from sklearn import metrics\n",
    "\n",
    "y_actual = df_sorted[\"NP?\"]\n",
    "# predicted score come from logistic regression\n",
    "y_predicted = predicted\n",
    "\n",
    "# ROC\n",
    "fpr, tpr, thresholds = metrics.roc_curve(y_actual, y_predicted)\n",
    "roc_auc = metrics.auc(fpr, tpr)\n",
    "\n",
    "# Plotting ROC curve\n",
    "fig = plt.figure(1, figsize=(4,4))\n",
    "plt.title('Receiver Operating Characteristic')\n",
    "plt.plot(fpr, tpr, 'b',\n",
    "label='AUC = %0.2f'% roc_auc)\n",
    "plt.legend(loc='lower right')\n",
    "plt.plot([0,1],[0,1],'r--')\n",
    "plt.xlim([-0.1,1.1])\n",
    "plt.ylim([-0.1,1.1])\n",
    "plt.ylabel('True Positive Rate')\n",
    "plt.xlabel('False Positive Rate')\n",
    "plt.show()"
   ]
  },
  {
   "cell_type": "markdown",
   "metadata": {},
   "source": [
    "#### Bootstrap for ROC AUC confidence intervals"
   ]
  },
  {
   "cell_type": "code",
   "execution_count": 43,
   "metadata": {
    "collapsed": false
   },
   "outputs": [
    {
     "name": "stdout",
     "output_type": "stream",
     "text": [
      "Original ROC area: 0.662\n",
      "95% Confidence interval for the score: [0.515 - 0.791]\n"
     ]
    },
    {
     "data": {
      "image/png": "[encoded data removed]",
      "text/plain": [
       "<matplotlib.figure.Figure at 0x1151cac50>"
      ]
     },
     "metadata": {},
     "output_type": "display_data"
    }
   ],
   "source": [
    "y_actual = np.array(y_actual).astype(int)\n",
    "y_predicted = np.array(y_predicted)\n",
    "print(\"Original ROC area: {:0.3f}\".format(metrics.roc_auc_score(y_actual, y_predicted)))\n",
    "\n",
    "n_bootstraps = 1000\n",
    "rng_seed = 0  # control reproducibility\n",
    "bootstrapped_scores = []\n",
    "\n",
    "rng = np.random.RandomState(rng_seed)\n",
    "for i in range(n_bootstraps):\n",
    "\n",
    "    # bootstrap by sampling with replacement on the prediction indices\n",
    "    indices = rng.random_integers(0, len(y_predicted) - 1, len(y_predicted))\n",
    " \n",
    "    if len(np.unique(y_actual[indices])) < 2:\n",
    "        # We need at least one positive and one negative sample for ROC AUC\n",
    "        # to be defined: reject the sample\n",
    "        continue\n",
    "\n",
    "    score = metrics.roc_auc_score(y_actual[indices], y_predicted[indices])\n",
    "    bootstrapped_scores.append(score)\n",
    "    #print(\"Bootstrap #{} ROC area: {:0.3f}\".format(i + 1, score))\n",
    "\n",
    "fig = plt.figure(1, figsize=(9,4))\n",
    "plt.subplot(1,2,1)\n",
    "plt.hist(bootstrapped_scores, bins=50)\n",
    "plt.title('Histogram of the bootstrapped ROC AUC', size=14)\n",
    "# plt.show()\n",
    "\n",
    "sorted_scores = np.array(bootstrapped_scores)\n",
    "sorted_scores.sort()\n",
    "\n",
    "# Computing the lower and upper bound of the 95% confidence interval\n",
    "# 95% CI percentiles to 0.025 and 0.975\n",
    "confidence_lower = sorted_scores[int(0.025 * len(sorted_scores))]\n",
    "confidence_upper = sorted_scores[int(0.975 * len(sorted_scores))]\n",
    "print(\"95% Confidence interval for the score: [{:0.3f} - {:0.3}]\".format(\n",
    "    confidence_lower, confidence_upper))\n",
    "\n",
    "# Plotting ROC curve\n",
    "#fig = plt.figure(1, figsize=(4,4))\n",
    "plt.subplot(1,2,2)\n",
    "plt.title('Receiver Operating Characteristic', size=14)\n",
    "plt.plot(fpr, tpr, 'b', label='AUC={0:0.2f} \\n 95% CI:[{1:0.2f},{2:0.2f}]'.format(roc_auc, confidence_lower, confidence_upper))\n",
    "plt.legend(loc='lower right', prop={'size':10})\n",
    "plt.plot([0,1],[0,1],'r--')\n",
    "plt.xlim([-0.1,1.1])\n",
    "plt.ylim([-0.1,1.1])\n",
    "plt.ylabel('True Positive Rate')\n",
    "plt.xlabel('False Positive Rate')\n",
    "plt.savefig(\"CLogP_ROC_with_histogram.png\", dpi=200)\n",
    "plt.savefig(\"CLogP_ROC_with_histogram.svg\")"
   ]
  },
  {
   "cell_type": "code",
   "execution_count": 44,
   "metadata": {
    "collapsed": false
   },
   "outputs": [
    {
     "data": {
      "image/png": "[encoded data removed]",
      "text/plain": [
       "<matplotlib.figure.Figure at 0x11851bf50>"
      ]
     },
     "metadata": {},
     "output_type": "display_data"
    }
   ],
   "source": [
    "# Plotting ROC curve\n",
    "fig = plt.figure(1, figsize=(4,4))\n",
    "plt.title('Receiver Operating Characteristic', size=16)\n",
    "plt.plot(fpr, tpr, 'b', label='AUC={0:0.2f} \\n95% CI:[{1:0.2f},{2:0.2f}]'.format(roc_auc, confidence_lower, confidence_upper))\n",
    "plt.legend(loc='lower right', prop={'size':13})\n",
    "plt.plot([0,1],[0,1],'r--')\n",
    "plt.xlim([-0.1,1.1])\n",
    "plt.ylim([-0.1,1.1])\n",
    "plt.ylabel('True Positive Rate')\n",
    "plt.xlabel('False Positive Rate')\n",
    "plt.savefig(\"CLogP_ROC.png\", dpi=200)\n",
    "plt.savefig(\"CLogP_ROC.svg\")"
   ]
  },
  {
   "cell_type": "markdown",
   "metadata": {},
   "source": [
    "### C.5. CLogP Confusion Matrix"
   ]
  },
  {
   "cell_type": "code",
   "execution_count": 34,
   "metadata": {
    "collapsed": false
   },
   "outputs": [
    {
     "data": {
      "text/html": [
       "<div>\n",
       "<table border=\"1\" class=\"dataframe\">\n",
       "  <thead>\n",
       "    <tr style=\"text-align: right;\">\n",
       "      <th></th>\n",
       "      <th>FILENAME</th>\n",
       "      <th>Drug Name</th>\n",
       "      <th>smiles</th>\n",
       "      <th>XlogP</th>\n",
       "      <th>SpMAX4_Bh(s)</th>\n",
       "      <th>ALOGP2</th>\n",
       "      <th>CLogP</th>\n",
       "      <th>Experimental INP Formation</th>\n",
       "      <th>SpMAX4_Bh(s) Analysis Group</th>\n",
       "      <th>Experimental Category</th>\n",
       "      <th>Pred Category by cLogP</th>\n",
       "    </tr>\n",
       "  </thead>\n",
       "  <tbody>\n",
       "    <tr>\n",
       "      <th>0</th>\n",
       "      <td>ABT737.mol</td>\n",
       "      <td>ABT737</td>\n",
       "      <td>CN(C)CC[C@@H](CSc1ccccc1)Nc2ccc(cc2[N+](=O)[O-...</td>\n",
       "      <td>6.948</td>\n",
       "      <td>7.00</td>\n",
       "      <td>67.200</td>\n",
       "      <td>10.04</td>\n",
       "      <td>Yes</td>\n",
       "      <td>Validation</td>\n",
       "      <td>1</td>\n",
       "      <td>1</td>\n",
       "    </tr>\n",
       "    <tr>\n",
       "      <th>1</th>\n",
       "      <td>AZD-4547.mol</td>\n",
       "      <td>AZD-4547</td>\n",
       "      <td>C[C@@H]1CN(C[C@@H](N1)C)c2ccc(cc2)C(=O)Nc3cc([...</td>\n",
       "      <td>3.37</td>\n",
       "      <td>4.72</td>\n",
       "      <td>17.700</td>\n",
       "      <td>4.43</td>\n",
       "      <td>No</td>\n",
       "      <td>Validation</td>\n",
       "      <td>0</td>\n",
       "      <td>0</td>\n",
       "    </tr>\n",
       "    <tr>\n",
       "      <th>2</th>\n",
       "      <td>Apitolisib.mol</td>\n",
       "      <td>Apitolisib</td>\n",
       "      <td>Cc1c(sc2c1nc(nc2N3CCOCC3)c4cnc(nc4)N)CN5CCN(CC...</td>\n",
       "      <td>-0.918</td>\n",
       "      <td>5.01</td>\n",
       "      <td>1.800</td>\n",
       "      <td>1.35</td>\n",
       "      <td>No</td>\n",
       "      <td>Validation</td>\n",
       "      <td>0</td>\n",
       "      <td>0</td>\n",
       "    </tr>\n",
       "    <tr>\n",
       "      <th>3</th>\n",
       "      <td>Avagacestat.mol</td>\n",
       "      <td>Avagacestat</td>\n",
       "      <td>c1cc(ccc1S(=O)(=O)[N@@](Cc2ccc(cc2F)c3ncon3)[C...</td>\n",
       "      <td>4.077</td>\n",
       "      <td>8.00</td>\n",
       "      <td>16.000</td>\n",
       "      <td>3.05</td>\n",
       "      <td>Yes</td>\n",
       "      <td>Validation</td>\n",
       "      <td>1</td>\n",
       "      <td>0</td>\n",
       "    </tr>\n",
       "    <tr>\n",
       "      <th>4</th>\n",
       "      <td>Avasimibe.mol</td>\n",
       "      <td>Avasimibe</td>\n",
       "      <td>CC(C)c1cccc(c1OS(=O)(=O)NC(=O)Cc2c(cc(cc2C(C)C...</td>\n",
       "      <td>7.36</td>\n",
       "      <td>4.79</td>\n",
       "      <td>67.695</td>\n",
       "      <td>9.70</td>\n",
       "      <td>Yes</td>\n",
       "      <td>Validation</td>\n",
       "      <td>1</td>\n",
       "      <td>1</td>\n",
       "    </tr>\n",
       "  </tbody>\n",
       "</table>\n",
       "</div>"
      ],
      "text/plain": [
       "          FILENAME    Drug Name  \\\n",
       "0       ABT737.mol       ABT737   \n",
       "1     AZD-4547.mol     AZD-4547   \n",
       "2   Apitolisib.mol   Apitolisib   \n",
       "3  Avagacestat.mol  Avagacestat   \n",
       "4    Avasimibe.mol    Avasimibe   \n",
       "\n",
       "                                              smiles  XlogP  SpMAX4_Bh(s)  \\\n",
       "0  CN(C)CC[C@@H](CSc1ccccc1)Nc2ccc(cc2[N+](=O)[O-...  6.948          7.00   \n",
       "1  C[C@@H]1CN(C[C@@H](N1)C)c2ccc(cc2)C(=O)Nc3cc([...   3.37          4.72   \n",
       "2  Cc1c(sc2c1nc(nc2N3CCOCC3)c4cnc(nc4)N)CN5CCN(CC... -0.918          5.01   \n",
       "3  c1cc(ccc1S(=O)(=O)[N@@](Cc2ccc(cc2F)c3ncon3)[C...  4.077          8.00   \n",
       "4  CC(C)c1cccc(c1OS(=O)(=O)NC(=O)Cc2c(cc(cc2C(C)C...   7.36          4.79   \n",
       "\n",
       "   ALOGP2  CLogP Experimental INP Formation SpMAX4_Bh(s) Analysis Group  \\\n",
       "0  67.200  10.04                        Yes                  Validation   \n",
       "1  17.700   4.43                         No                  Validation   \n",
       "2   1.800   1.35                         No                  Validation   \n",
       "3  16.000   3.05                        Yes                  Validation   \n",
       "4  67.695   9.70                        Yes                  Validation   \n",
       "\n",
       "  Experimental Category Pred Category by cLogP  \n",
       "0                     1                      1  \n",
       "1                     0                      0  \n",
       "2                     0                      0  \n",
       "3                     1                      0  \n",
       "4                     1                      1  "
      ]
     },
     "execution_count": 34,
     "metadata": {},
     "output_type": "execute_result"
    }
   ],
   "source": [
    "# Predicted INP formation category based on cLogP value\n",
    "df_exp_mol[\"Pred Category by cLogP\"]= None\n",
    "    \n",
    "for i, row in enumerate(df_exp_mol.iterrows()):\n",
    "    logP = float(df_exp_mol.ix[i, \"CLogP\"])\n",
    "    #print(logD)\n",
    "    if logP < threshold_logP:\n",
    "        df_exp_mol.ix[i, \"Pred Category by cLogP\"] = 0\n",
    "    else:\n",
    "        df_exp_mol.ix[i, \"Pred Category by cLogP\"] = 1\n",
    "df_exp_mol.head()"
   ]
  },
  {
   "cell_type": "code",
   "execution_count": 35,
   "metadata": {
    "collapsed": false
   },
   "outputs": [
    {
     "name": "stdout",
     "output_type": "stream",
     "text": [
      "Chem3D CLogP \n",
      "Accuracy: 0.56\n",
      "CLogP threshold= 4.73\n",
      "\n",
      "Predicted   0   1\n",
      "Actual           \n",
      "0          20  12\n",
      "1          14  13\n"
     ]
    }
   ],
   "source": [
    "exp_NP = df_exp_mol.ix[:,\"Experimental Category\"].astype(int)\n",
    "pred_NP = df_exp_mol.ix[:, \"Pred Category by cLogP\"].astype(int)\n",
    "\n",
    "actual = pd.Series(exp_NP, name= \"Actual\")\n",
    "predicted = pd.Series(pred_NP, name= \"Predicted\")\n",
    "df_confusion = pd.crosstab(actual, predicted)\n",
    "    \n",
    "# Accuracy = (TP+TN)/(TP+TN+FP+FN)\n",
    "TP = df_confusion.ix[1,1]\n",
    "TN = df_confusion.ix[0,0]\n",
    "FP = df_confusion.ix[0,1]\n",
    "FN = df_confusion.ix[1,0]\n",
    "    \n",
    "accuracy = (TP+TN)/(TP+TN+FP+FN)\n",
    "    \n",
    "print(\"Chem3D CLogP\", \"\\nAccuracy: {:.2f}\".format(accuracy))\n",
    "print(\"CLogP threshold= {:.2f}\\n\".format(threshold_logP))\n",
    "print(df_confusion)"
   ]
  },
  {
   "cell_type": "code",
   "execution_count": null,
   "metadata": {
    "collapsed": true
   },
   "outputs": [],
   "source": []
  }
 ],
 "metadata": {
  "kernelspec": {
   "display_name": "Python 2",
   "language": "python",
   "name": "python2"
  },
  "language_info": {
   "codemirror_mode": {
    "name": "ipython",
    "version": 2
   },
   "file_extension": ".py",
   "mimetype": "text/x-python",
   "name": "python",
   "nbconvert_exporter": "python",
   "pygments_lexer": "ipython2",
   "version": "2.7.12"
  }
 },
 "nbformat": 4,
 "nbformat_minor": 0
}
